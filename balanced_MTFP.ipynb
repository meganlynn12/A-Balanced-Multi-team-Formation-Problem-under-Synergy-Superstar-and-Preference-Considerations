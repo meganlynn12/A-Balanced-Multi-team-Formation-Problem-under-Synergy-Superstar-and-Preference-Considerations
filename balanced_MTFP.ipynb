{
 "cells": [
  {
   "cell_type": "markdown",
   "id": "settled-hormone",
   "metadata": {},
   "source": [
    "## Code For A Balanced Multiteam Formation Problem under Synergy Superstar and Preference Considerations"
   ]
  },
  {
   "cell_type": "code",
   "execution_count": 53,
   "id": "adopted-animation",
   "metadata": {},
   "outputs": [],
   "source": [
    "## translation dictionaries\n",
    "from pid2pos_bref2nba_nba2bref_pid2name_name2pid import *\n",
    "from fivethirtyeightDataDicts import *"
   ]
  },
  {
   "cell_type": "code",
   "execution_count": 54,
   "id": "surprised-passing",
   "metadata": {},
   "outputs": [],
   "source": [
    "from unidecode import unidecode\n",
    "def drop_accent(item):\n",
    "    try:\n",
    "        return unidecode(item)\n",
    "    except AttributeError:\n",
    "        return item\n",
    "\n",
    "## data\n",
    "import numpy as np\n",
    "import pandas as pd\n",
    "import csv\n",
    "from collections import Counter\n",
    "\n",
    "## plotting packages\n",
    "import plotly.graph_objects as go\n",
    "import plotly.figure_factory as ff\n",
    "\n",
    "## analysis\n",
    "from scipy.stats.mstats import hmean\n",
    "from sklearn.preprocessing import StandardScaler"
   ]
  },
  {
   "cell_type": "markdown",
   "id": "worse-bangkok",
   "metadata": {},
   "source": [
    "## Appendix A - Figure 10\n",
    "\n",
    "data from https://projects.fivethirtyeight.com/2020-nba-player-projections/"
   ]
  },
  {
   "cell_type": "code",
   "execution_count": 35,
   "id": "electronic-stretch",
   "metadata": {},
   "outputs": [
    {
     "data": {
      "application/vnd.plotly.v1+json": {
       "config": {
        "plotlyServerURL": "https://plot.ly"
       },
       "data": [
        {
         "marker": {
          "color": "navy"
         },
         "orientation": "h",
         "text": [
          198,
          141,
          78,
          71,
          29,
          23,
          23,
          19,
          18,
          16,
          15,
          14,
          14,
          10,
          10,
          6,
          5,
          4,
          3,
          1,
          1
         ],
         "textangle": 0,
         "textposition": "auto",
         "type": "bar",
         "x": [
          198,
          141,
          78,
          71,
          29,
          23,
          23,
          19,
          18,
          16,
          15,
          14,
          14,
          10,
          10,
          6,
          5,
          4,
          3,
          1,
          1
         ],
         "y": [
          "ROTATION PLAYER",
          "SCRUB",
          "MARGINAL PROSPECT",
          "PROJECT",
          "WAY PAST HIS PRIME",
          "UP-AND-COMER",
          "OK PROSPECT",
          "BORDERLINE ALL-STAR",
          "KEY ROLE PLAYER",
          "AVERAGE STARTER",
          "ALL-STAR",
          "DEFENSIVE SPECIALIST",
          "¯\\_(ツ)_/¯",
          "FUTURE ALL-STAR",
          "SCRAPPY VETERAN",
          "MVP CANDIDATE",
          "GOOD PROSPECT",
          "GOOD STARTER",
          "GREAT PROSPECT",
          "DUBIOUS STARTER",
          "OFFENSIVE SPECIALIST"
         ]
        }
       ],
       "layout": {
        "font": {
         "family": "Computer Modern",
         "size": 13
        },
        "template": {
         "data": {
          "bar": [
           {
            "error_x": {
             "color": "#2a3f5f"
            },
            "error_y": {
             "color": "#2a3f5f"
            },
            "marker": {
             "line": {
              "color": "#E5ECF6",
              "width": 0.5
             }
            },
            "type": "bar"
           }
          ],
          "barpolar": [
           {
            "marker": {
             "line": {
              "color": "#E5ECF6",
              "width": 0.5
             }
            },
            "type": "barpolar"
           }
          ],
          "carpet": [
           {
            "aaxis": {
             "endlinecolor": "#2a3f5f",
             "gridcolor": "white",
             "linecolor": "white",
             "minorgridcolor": "white",
             "startlinecolor": "#2a3f5f"
            },
            "baxis": {
             "endlinecolor": "#2a3f5f",
             "gridcolor": "white",
             "linecolor": "white",
             "minorgridcolor": "white",
             "startlinecolor": "#2a3f5f"
            },
            "type": "carpet"
           }
          ],
          "choropleth": [
           {
            "colorbar": {
             "outlinewidth": 0,
             "ticks": ""
            },
            "type": "choropleth"
           }
          ],
          "contour": [
           {
            "colorbar": {
             "outlinewidth": 0,
             "ticks": ""
            },
            "colorscale": [
             [
              0,
              "#0d0887"
             ],
             [
              0.1111111111111111,
              "#46039f"
             ],
             [
              0.2222222222222222,
              "#7201a8"
             ],
             [
              0.3333333333333333,
              "#9c179e"
             ],
             [
              0.4444444444444444,
              "#bd3786"
             ],
             [
              0.5555555555555556,
              "#d8576b"
             ],
             [
              0.6666666666666666,
              "#ed7953"
             ],
             [
              0.7777777777777778,
              "#fb9f3a"
             ],
             [
              0.8888888888888888,
              "#fdca26"
             ],
             [
              1,
              "#f0f921"
             ]
            ],
            "type": "contour"
           }
          ],
          "contourcarpet": [
           {
            "colorbar": {
             "outlinewidth": 0,
             "ticks": ""
            },
            "type": "contourcarpet"
           }
          ],
          "heatmap": [
           {
            "colorbar": {
             "outlinewidth": 0,
             "ticks": ""
            },
            "colorscale": [
             [
              0,
              "#0d0887"
             ],
             [
              0.1111111111111111,
              "#46039f"
             ],
             [
              0.2222222222222222,
              "#7201a8"
             ],
             [
              0.3333333333333333,
              "#9c179e"
             ],
             [
              0.4444444444444444,
              "#bd3786"
             ],
             [
              0.5555555555555556,
              "#d8576b"
             ],
             [
              0.6666666666666666,
              "#ed7953"
             ],
             [
              0.7777777777777778,
              "#fb9f3a"
             ],
             [
              0.8888888888888888,
              "#fdca26"
             ],
             [
              1,
              "#f0f921"
             ]
            ],
            "type": "heatmap"
           }
          ],
          "heatmapgl": [
           {
            "colorbar": {
             "outlinewidth": 0,
             "ticks": ""
            },
            "colorscale": [
             [
              0,
              "#0d0887"
             ],
             [
              0.1111111111111111,
              "#46039f"
             ],
             [
              0.2222222222222222,
              "#7201a8"
             ],
             [
              0.3333333333333333,
              "#9c179e"
             ],
             [
              0.4444444444444444,
              "#bd3786"
             ],
             [
              0.5555555555555556,
              "#d8576b"
             ],
             [
              0.6666666666666666,
              "#ed7953"
             ],
             [
              0.7777777777777778,
              "#fb9f3a"
             ],
             [
              0.8888888888888888,
              "#fdca26"
             ],
             [
              1,
              "#f0f921"
             ]
            ],
            "type": "heatmapgl"
           }
          ],
          "histogram": [
           {
            "marker": {
             "colorbar": {
              "outlinewidth": 0,
              "ticks": ""
             }
            },
            "type": "histogram"
           }
          ],
          "histogram2d": [
           {
            "colorbar": {
             "outlinewidth": 0,
             "ticks": ""
            },
            "colorscale": [
             [
              0,
              "#0d0887"
             ],
             [
              0.1111111111111111,
              "#46039f"
             ],
             [
              0.2222222222222222,
              "#7201a8"
             ],
             [
              0.3333333333333333,
              "#9c179e"
             ],
             [
              0.4444444444444444,
              "#bd3786"
             ],
             [
              0.5555555555555556,
              "#d8576b"
             ],
             [
              0.6666666666666666,
              "#ed7953"
             ],
             [
              0.7777777777777778,
              "#fb9f3a"
             ],
             [
              0.8888888888888888,
              "#fdca26"
             ],
             [
              1,
              "#f0f921"
             ]
            ],
            "type": "histogram2d"
           }
          ],
          "histogram2dcontour": [
           {
            "colorbar": {
             "outlinewidth": 0,
             "ticks": ""
            },
            "colorscale": [
             [
              0,
              "#0d0887"
             ],
             [
              0.1111111111111111,
              "#46039f"
             ],
             [
              0.2222222222222222,
              "#7201a8"
             ],
             [
              0.3333333333333333,
              "#9c179e"
             ],
             [
              0.4444444444444444,
              "#bd3786"
             ],
             [
              0.5555555555555556,
              "#d8576b"
             ],
             [
              0.6666666666666666,
              "#ed7953"
             ],
             [
              0.7777777777777778,
              "#fb9f3a"
             ],
             [
              0.8888888888888888,
              "#fdca26"
             ],
             [
              1,
              "#f0f921"
             ]
            ],
            "type": "histogram2dcontour"
           }
          ],
          "mesh3d": [
           {
            "colorbar": {
             "outlinewidth": 0,
             "ticks": ""
            },
            "type": "mesh3d"
           }
          ],
          "parcoords": [
           {
            "line": {
             "colorbar": {
              "outlinewidth": 0,
              "ticks": ""
             }
            },
            "type": "parcoords"
           }
          ],
          "pie": [
           {
            "automargin": true,
            "type": "pie"
           }
          ],
          "scatter": [
           {
            "marker": {
             "colorbar": {
              "outlinewidth": 0,
              "ticks": ""
             }
            },
            "type": "scatter"
           }
          ],
          "scatter3d": [
           {
            "line": {
             "colorbar": {
              "outlinewidth": 0,
              "ticks": ""
             }
            },
            "marker": {
             "colorbar": {
              "outlinewidth": 0,
              "ticks": ""
             }
            },
            "type": "scatter3d"
           }
          ],
          "scattercarpet": [
           {
            "marker": {
             "colorbar": {
              "outlinewidth": 0,
              "ticks": ""
             }
            },
            "type": "scattercarpet"
           }
          ],
          "scattergeo": [
           {
            "marker": {
             "colorbar": {
              "outlinewidth": 0,
              "ticks": ""
             }
            },
            "type": "scattergeo"
           }
          ],
          "scattergl": [
           {
            "marker": {
             "colorbar": {
              "outlinewidth": 0,
              "ticks": ""
             }
            },
            "type": "scattergl"
           }
          ],
          "scattermapbox": [
           {
            "marker": {
             "colorbar": {
              "outlinewidth": 0,
              "ticks": ""
             }
            },
            "type": "scattermapbox"
           }
          ],
          "scatterpolar": [
           {
            "marker": {
             "colorbar": {
              "outlinewidth": 0,
              "ticks": ""
             }
            },
            "type": "scatterpolar"
           }
          ],
          "scatterpolargl": [
           {
            "marker": {
             "colorbar": {
              "outlinewidth": 0,
              "ticks": ""
             }
            },
            "type": "scatterpolargl"
           }
          ],
          "scatterternary": [
           {
            "marker": {
             "colorbar": {
              "outlinewidth": 0,
              "ticks": ""
             }
            },
            "type": "scatterternary"
           }
          ],
          "surface": [
           {
            "colorbar": {
             "outlinewidth": 0,
             "ticks": ""
            },
            "colorscale": [
             [
              0,
              "#0d0887"
             ],
             [
              0.1111111111111111,
              "#46039f"
             ],
             [
              0.2222222222222222,
              "#7201a8"
             ],
             [
              0.3333333333333333,
              "#9c179e"
             ],
             [
              0.4444444444444444,
              "#bd3786"
             ],
             [
              0.5555555555555556,
              "#d8576b"
             ],
             [
              0.6666666666666666,
              "#ed7953"
             ],
             [
              0.7777777777777778,
              "#fb9f3a"
             ],
             [
              0.8888888888888888,
              "#fdca26"
             ],
             [
              1,
              "#f0f921"
             ]
            ],
            "type": "surface"
           }
          ],
          "table": [
           {
            "cells": {
             "fill": {
              "color": "#EBF0F8"
             },
             "line": {
              "color": "white"
             }
            },
            "header": {
             "fill": {
              "color": "#C8D4E3"
             },
             "line": {
              "color": "white"
             }
            },
            "type": "table"
           }
          ]
         },
         "layout": {
          "annotationdefaults": {
           "arrowcolor": "#2a3f5f",
           "arrowhead": 0,
           "arrowwidth": 1
          },
          "autotypenumbers": "strict",
          "coloraxis": {
           "colorbar": {
            "outlinewidth": 0,
            "ticks": ""
           }
          },
          "colorscale": {
           "diverging": [
            [
             0,
             "#8e0152"
            ],
            [
             0.1,
             "#c51b7d"
            ],
            [
             0.2,
             "#de77ae"
            ],
            [
             0.3,
             "#f1b6da"
            ],
            [
             0.4,
             "#fde0ef"
            ],
            [
             0.5,
             "#f7f7f7"
            ],
            [
             0.6,
             "#e6f5d0"
            ],
            [
             0.7,
             "#b8e186"
            ],
            [
             0.8,
             "#7fbc41"
            ],
            [
             0.9,
             "#4d9221"
            ],
            [
             1,
             "#276419"
            ]
           ],
           "sequential": [
            [
             0,
             "#0d0887"
            ],
            [
             0.1111111111111111,
             "#46039f"
            ],
            [
             0.2222222222222222,
             "#7201a8"
            ],
            [
             0.3333333333333333,
             "#9c179e"
            ],
            [
             0.4444444444444444,
             "#bd3786"
            ],
            [
             0.5555555555555556,
             "#d8576b"
            ],
            [
             0.6666666666666666,
             "#ed7953"
            ],
            [
             0.7777777777777778,
             "#fb9f3a"
            ],
            [
             0.8888888888888888,
             "#fdca26"
            ],
            [
             1,
             "#f0f921"
            ]
           ],
           "sequentialminus": [
            [
             0,
             "#0d0887"
            ],
            [
             0.1111111111111111,
             "#46039f"
            ],
            [
             0.2222222222222222,
             "#7201a8"
            ],
            [
             0.3333333333333333,
             "#9c179e"
            ],
            [
             0.4444444444444444,
             "#bd3786"
            ],
            [
             0.5555555555555556,
             "#d8576b"
            ],
            [
             0.6666666666666666,
             "#ed7953"
            ],
            [
             0.7777777777777778,
             "#fb9f3a"
            ],
            [
             0.8888888888888888,
             "#fdca26"
            ],
            [
             1,
             "#f0f921"
            ]
           ]
          },
          "colorway": [
           "#636efa",
           "#EF553B",
           "#00cc96",
           "#ab63fa",
           "#FFA15A",
           "#19d3f3",
           "#FF6692",
           "#B6E880",
           "#FF97FF",
           "#FECB52"
          ],
          "font": {
           "color": "#2a3f5f"
          },
          "geo": {
           "bgcolor": "white",
           "lakecolor": "white",
           "landcolor": "#E5ECF6",
           "showlakes": true,
           "showland": true,
           "subunitcolor": "white"
          },
          "hoverlabel": {
           "align": "left"
          },
          "hovermode": "closest",
          "mapbox": {
           "style": "light"
          },
          "paper_bgcolor": "white",
          "plot_bgcolor": "#E5ECF6",
          "polar": {
           "angularaxis": {
            "gridcolor": "white",
            "linecolor": "white",
            "ticks": ""
           },
           "bgcolor": "#E5ECF6",
           "radialaxis": {
            "gridcolor": "white",
            "linecolor": "white",
            "ticks": ""
           }
          },
          "scene": {
           "xaxis": {
            "backgroundcolor": "#E5ECF6",
            "gridcolor": "white",
            "gridwidth": 2,
            "linecolor": "white",
            "showbackground": true,
            "ticks": "",
            "zerolinecolor": "white"
           },
           "yaxis": {
            "backgroundcolor": "#E5ECF6",
            "gridcolor": "white",
            "gridwidth": 2,
            "linecolor": "white",
            "showbackground": true,
            "ticks": "",
            "zerolinecolor": "white"
           },
           "zaxis": {
            "backgroundcolor": "#E5ECF6",
            "gridcolor": "white",
            "gridwidth": 2,
            "linecolor": "white",
            "showbackground": true,
            "ticks": "",
            "zerolinecolor": "white"
           }
          },
          "shapedefaults": {
           "line": {
            "color": "#2a3f5f"
           }
          },
          "ternary": {
           "aaxis": {
            "gridcolor": "white",
            "linecolor": "white",
            "ticks": ""
           },
           "baxis": {
            "gridcolor": "white",
            "linecolor": "white",
            "ticks": ""
           },
           "bgcolor": "#E5ECF6",
           "caxis": {
            "gridcolor": "white",
            "linecolor": "white",
            "ticks": ""
           }
          },
          "title": {
           "x": 0.05
          },
          "xaxis": {
           "automargin": true,
           "gridcolor": "white",
           "linecolor": "white",
           "ticks": "",
           "title": {
            "standoff": 15
           },
           "zerolinecolor": "white",
           "zerolinewidth": 2
          },
          "yaxis": {
           "automargin": true,
           "gridcolor": "white",
           "linecolor": "white",
           "ticks": "",
           "title": {
            "standoff": 15
           },
           "zerolinecolor": "white",
           "zerolinewidth": 2
          }
         }
        },
        "xaxis": {
         "title": {
          "text": "Count"
         }
        },
        "yaxis": {
         "automargin": true,
         "categoryorder": "total descending"
        }
       }
      },
      "text/html": [
       "<div>                            <div id=\"bcefc346-375e-498c-a0c2-ae3f6152d06a\" class=\"plotly-graph-div\" style=\"height:525px; width:100%;\"></div>            <script type=\"text/javascript\">                require([\"plotly\"], function(Plotly) {                    window.PLOTLYENV=window.PLOTLYENV || {};                                    if (document.getElementById(\"bcefc346-375e-498c-a0c2-ae3f6152d06a\")) {                    Plotly.newPlot(                        \"bcefc346-375e-498c-a0c2-ae3f6152d06a\",                        [{\"marker\": {\"color\": \"navy\"}, \"orientation\": \"h\", \"text\": [198.0, 141.0, 78.0, 71.0, 29.0, 23.0, 23.0, 19.0, 18.0, 16.0, 15.0, 14.0, 14.0, 10.0, 10.0, 6.0, 5.0, 4.0, 3.0, 1.0, 1.0], \"textangle\": 0, \"textposition\": \"auto\", \"type\": \"bar\", \"x\": [198, 141, 78, 71, 29, 23, 23, 19, 18, 16, 15, 14, 14, 10, 10, 6, 5, 4, 3, 1, 1], \"y\": [\"ROTATION PLAYER\", \"SCRUB\", \"MARGINAL PROSPECT\", \"PROJECT\", \"WAY PAST HIS PRIME\", \"UP-AND-COMER\", \"OK PROSPECT\", \"BORDERLINE ALL-STAR\", \"KEY ROLE PLAYER\", \"AVERAGE STARTER\", \"ALL-STAR\", \"DEFENSIVE SPECIALIST\", \"\\u00af\\\\_(\\u30c4)_/\\u00af\", \"FUTURE ALL-STAR\", \"SCRAPPY VETERAN\", \"MVP CANDIDATE\", \"GOOD PROSPECT\", \"GOOD STARTER\", \"GREAT PROSPECT\", \"DUBIOUS STARTER\", \"OFFENSIVE SPECIALIST\"]}],                        {\"font\": {\"family\": \"Computer Modern\", \"size\": 13}, \"template\": {\"data\": {\"bar\": [{\"error_x\": {\"color\": \"#2a3f5f\"}, \"error_y\": {\"color\": \"#2a3f5f\"}, \"marker\": {\"line\": {\"color\": \"#E5ECF6\", \"width\": 0.5}}, \"type\": \"bar\"}], \"barpolar\": [{\"marker\": {\"line\": {\"color\": \"#E5ECF6\", \"width\": 0.5}}, \"type\": \"barpolar\"}], \"carpet\": [{\"aaxis\": {\"endlinecolor\": \"#2a3f5f\", \"gridcolor\": \"white\", \"linecolor\": \"white\", \"minorgridcolor\": \"white\", \"startlinecolor\": \"#2a3f5f\"}, \"baxis\": {\"endlinecolor\": \"#2a3f5f\", \"gridcolor\": \"white\", \"linecolor\": \"white\", \"minorgridcolor\": \"white\", \"startlinecolor\": \"#2a3f5f\"}, \"type\": \"carpet\"}], \"choropleth\": [{\"colorbar\": {\"outlinewidth\": 0, \"ticks\": \"\"}, \"type\": \"choropleth\"}], \"contour\": [{\"colorbar\": {\"outlinewidth\": 0, \"ticks\": \"\"}, \"colorscale\": [[0.0, \"#0d0887\"], [0.1111111111111111, \"#46039f\"], [0.2222222222222222, \"#7201a8\"], [0.3333333333333333, \"#9c179e\"], [0.4444444444444444, \"#bd3786\"], [0.5555555555555556, \"#d8576b\"], [0.6666666666666666, \"#ed7953\"], [0.7777777777777778, \"#fb9f3a\"], [0.8888888888888888, \"#fdca26\"], [1.0, \"#f0f921\"]], \"type\": \"contour\"}], \"contourcarpet\": [{\"colorbar\": {\"outlinewidth\": 0, \"ticks\": \"\"}, \"type\": \"contourcarpet\"}], \"heatmap\": [{\"colorbar\": {\"outlinewidth\": 0, \"ticks\": \"\"}, \"colorscale\": [[0.0, \"#0d0887\"], [0.1111111111111111, \"#46039f\"], [0.2222222222222222, \"#7201a8\"], [0.3333333333333333, \"#9c179e\"], [0.4444444444444444, \"#bd3786\"], [0.5555555555555556, \"#d8576b\"], [0.6666666666666666, \"#ed7953\"], [0.7777777777777778, \"#fb9f3a\"], [0.8888888888888888, \"#fdca26\"], [1.0, \"#f0f921\"]], \"type\": \"heatmap\"}], \"heatmapgl\": [{\"colorbar\": {\"outlinewidth\": 0, \"ticks\": \"\"}, \"colorscale\": [[0.0, \"#0d0887\"], [0.1111111111111111, \"#46039f\"], [0.2222222222222222, \"#7201a8\"], [0.3333333333333333, \"#9c179e\"], [0.4444444444444444, \"#bd3786\"], [0.5555555555555556, \"#d8576b\"], [0.6666666666666666, \"#ed7953\"], [0.7777777777777778, \"#fb9f3a\"], [0.8888888888888888, \"#fdca26\"], [1.0, \"#f0f921\"]], \"type\": \"heatmapgl\"}], \"histogram\": [{\"marker\": {\"colorbar\": {\"outlinewidth\": 0, \"ticks\": \"\"}}, \"type\": \"histogram\"}], \"histogram2d\": [{\"colorbar\": {\"outlinewidth\": 0, \"ticks\": \"\"}, \"colorscale\": [[0.0, \"#0d0887\"], [0.1111111111111111, \"#46039f\"], [0.2222222222222222, \"#7201a8\"], [0.3333333333333333, \"#9c179e\"], [0.4444444444444444, \"#bd3786\"], [0.5555555555555556, \"#d8576b\"], [0.6666666666666666, \"#ed7953\"], [0.7777777777777778, \"#fb9f3a\"], [0.8888888888888888, \"#fdca26\"], [1.0, \"#f0f921\"]], \"type\": \"histogram2d\"}], \"histogram2dcontour\": [{\"colorbar\": {\"outlinewidth\": 0, \"ticks\": \"\"}, \"colorscale\": [[0.0, \"#0d0887\"], [0.1111111111111111, \"#46039f\"], [0.2222222222222222, \"#7201a8\"], [0.3333333333333333, \"#9c179e\"], [0.4444444444444444, \"#bd3786\"], [0.5555555555555556, \"#d8576b\"], [0.6666666666666666, \"#ed7953\"], [0.7777777777777778, \"#fb9f3a\"], [0.8888888888888888, \"#fdca26\"], [1.0, \"#f0f921\"]], \"type\": \"histogram2dcontour\"}], \"mesh3d\": [{\"colorbar\": {\"outlinewidth\": 0, \"ticks\": \"\"}, \"type\": \"mesh3d\"}], \"parcoords\": [{\"line\": {\"colorbar\": {\"outlinewidth\": 0, \"ticks\": \"\"}}, \"type\": \"parcoords\"}], \"pie\": [{\"automargin\": true, \"type\": \"pie\"}], \"scatter\": [{\"marker\": {\"colorbar\": {\"outlinewidth\": 0, \"ticks\": \"\"}}, \"type\": \"scatter\"}], \"scatter3d\": [{\"line\": {\"colorbar\": {\"outlinewidth\": 0, \"ticks\": \"\"}}, \"marker\": {\"colorbar\": {\"outlinewidth\": 0, \"ticks\": \"\"}}, \"type\": \"scatter3d\"}], \"scattercarpet\": [{\"marker\": {\"colorbar\": {\"outlinewidth\": 0, \"ticks\": \"\"}}, \"type\": \"scattercarpet\"}], \"scattergeo\": [{\"marker\": {\"colorbar\": {\"outlinewidth\": 0, \"ticks\": \"\"}}, \"type\": \"scattergeo\"}], \"scattergl\": [{\"marker\": {\"colorbar\": {\"outlinewidth\": 0, \"ticks\": \"\"}}, \"type\": \"scattergl\"}], \"scattermapbox\": [{\"marker\": {\"colorbar\": {\"outlinewidth\": 0, \"ticks\": \"\"}}, \"type\": \"scattermapbox\"}], \"scatterpolar\": [{\"marker\": {\"colorbar\": {\"outlinewidth\": 0, \"ticks\": \"\"}}, \"type\": \"scatterpolar\"}], \"scatterpolargl\": [{\"marker\": {\"colorbar\": {\"outlinewidth\": 0, \"ticks\": \"\"}}, \"type\": \"scatterpolargl\"}], \"scatterternary\": [{\"marker\": {\"colorbar\": {\"outlinewidth\": 0, \"ticks\": \"\"}}, \"type\": \"scatterternary\"}], \"surface\": [{\"colorbar\": {\"outlinewidth\": 0, \"ticks\": \"\"}, \"colorscale\": [[0.0, \"#0d0887\"], [0.1111111111111111, \"#46039f\"], [0.2222222222222222, \"#7201a8\"], [0.3333333333333333, \"#9c179e\"], [0.4444444444444444, \"#bd3786\"], [0.5555555555555556, \"#d8576b\"], [0.6666666666666666, \"#ed7953\"], [0.7777777777777778, \"#fb9f3a\"], [0.8888888888888888, \"#fdca26\"], [1.0, \"#f0f921\"]], \"type\": \"surface\"}], \"table\": [{\"cells\": {\"fill\": {\"color\": \"#EBF0F8\"}, \"line\": {\"color\": \"white\"}}, \"header\": {\"fill\": {\"color\": \"#C8D4E3\"}, \"line\": {\"color\": \"white\"}}, \"type\": \"table\"}]}, \"layout\": {\"annotationdefaults\": {\"arrowcolor\": \"#2a3f5f\", \"arrowhead\": 0, \"arrowwidth\": 1}, \"autotypenumbers\": \"strict\", \"coloraxis\": {\"colorbar\": {\"outlinewidth\": 0, \"ticks\": \"\"}}, \"colorscale\": {\"diverging\": [[0, \"#8e0152\"], [0.1, \"#c51b7d\"], [0.2, \"#de77ae\"], [0.3, \"#f1b6da\"], [0.4, \"#fde0ef\"], [0.5, \"#f7f7f7\"], [0.6, \"#e6f5d0\"], [0.7, \"#b8e186\"], [0.8, \"#7fbc41\"], [0.9, \"#4d9221\"], [1, \"#276419\"]], \"sequential\": [[0.0, \"#0d0887\"], [0.1111111111111111, \"#46039f\"], [0.2222222222222222, \"#7201a8\"], [0.3333333333333333, \"#9c179e\"], [0.4444444444444444, \"#bd3786\"], [0.5555555555555556, \"#d8576b\"], [0.6666666666666666, \"#ed7953\"], [0.7777777777777778, \"#fb9f3a\"], [0.8888888888888888, \"#fdca26\"], [1.0, \"#f0f921\"]], \"sequentialminus\": [[0.0, \"#0d0887\"], [0.1111111111111111, \"#46039f\"], [0.2222222222222222, \"#7201a8\"], [0.3333333333333333, \"#9c179e\"], [0.4444444444444444, \"#bd3786\"], [0.5555555555555556, \"#d8576b\"], [0.6666666666666666, \"#ed7953\"], [0.7777777777777778, \"#fb9f3a\"], [0.8888888888888888, \"#fdca26\"], [1.0, \"#f0f921\"]]}, \"colorway\": [\"#636efa\", \"#EF553B\", \"#00cc96\", \"#ab63fa\", \"#FFA15A\", \"#19d3f3\", \"#FF6692\", \"#B6E880\", \"#FF97FF\", \"#FECB52\"], \"font\": {\"color\": \"#2a3f5f\"}, \"geo\": {\"bgcolor\": \"white\", \"lakecolor\": \"white\", \"landcolor\": \"#E5ECF6\", \"showlakes\": true, \"showland\": true, \"subunitcolor\": \"white\"}, \"hoverlabel\": {\"align\": \"left\"}, \"hovermode\": \"closest\", \"mapbox\": {\"style\": \"light\"}, \"paper_bgcolor\": \"white\", \"plot_bgcolor\": \"#E5ECF6\", \"polar\": {\"angularaxis\": {\"gridcolor\": \"white\", \"linecolor\": \"white\", \"ticks\": \"\"}, \"bgcolor\": \"#E5ECF6\", \"radialaxis\": {\"gridcolor\": \"white\", \"linecolor\": \"white\", \"ticks\": \"\"}}, \"scene\": {\"xaxis\": {\"backgroundcolor\": \"#E5ECF6\", \"gridcolor\": \"white\", \"gridwidth\": 2, \"linecolor\": \"white\", \"showbackground\": true, \"ticks\": \"\", \"zerolinecolor\": \"white\"}, \"yaxis\": {\"backgroundcolor\": \"#E5ECF6\", \"gridcolor\": \"white\", \"gridwidth\": 2, \"linecolor\": \"white\", \"showbackground\": true, \"ticks\": \"\", \"zerolinecolor\": \"white\"}, \"zaxis\": {\"backgroundcolor\": \"#E5ECF6\", \"gridcolor\": \"white\", \"gridwidth\": 2, \"linecolor\": \"white\", \"showbackground\": true, \"ticks\": \"\", \"zerolinecolor\": \"white\"}}, \"shapedefaults\": {\"line\": {\"color\": \"#2a3f5f\"}}, \"ternary\": {\"aaxis\": {\"gridcolor\": \"white\", \"linecolor\": \"white\", \"ticks\": \"\"}, \"baxis\": {\"gridcolor\": \"white\", \"linecolor\": \"white\", \"ticks\": \"\"}, \"bgcolor\": \"#E5ECF6\", \"caxis\": {\"gridcolor\": \"white\", \"linecolor\": \"white\", \"ticks\": \"\"}}, \"title\": {\"x\": 0.05}, \"xaxis\": {\"automargin\": true, \"gridcolor\": \"white\", \"linecolor\": \"white\", \"ticks\": \"\", \"title\": {\"standoff\": 15}, \"zerolinecolor\": \"white\", \"zerolinewidth\": 2}, \"yaxis\": {\"automargin\": true, \"gridcolor\": \"white\", \"linecolor\": \"white\", \"ticks\": \"\", \"title\": {\"standoff\": 15}, \"zerolinecolor\": \"white\", \"zerolinewidth\": 2}}}, \"xaxis\": {\"title\": {\"text\": \"Count\"}}, \"yaxis\": {\"automargin\": true, \"categoryorder\": \"total descending\"}},                        {\"responsive\": true}                    ).then(function(){\n",
       "                            \n",
       "var gd = document.getElementById('bcefc346-375e-498c-a0c2-ae3f6152d06a');\n",
       "var x = new MutationObserver(function (mutations, observer) {{\n",
       "        var display = window.getComputedStyle(gd).display;\n",
       "        if (!display || display === 'none') {{\n",
       "            console.log([gd, 'removed!']);\n",
       "            Plotly.purge(gd);\n",
       "            observer.disconnect();\n",
       "        }}\n",
       "}});\n",
       "\n",
       "// Listen for the removal of the full notebook cells\n",
       "var notebookContainer = gd.closest('#notebook-container');\n",
       "if (notebookContainer) {{\n",
       "    x.observe(notebookContainer, {childList: true});\n",
       "}}\n",
       "\n",
       "// Listen for the clearing of the current output cell\n",
       "var outputEl = gd.closest('.output');\n",
       "if (outputEl) {{\n",
       "    x.observe(outputEl, {childList: true});\n",
       "}}\n",
       "\n",
       "                        })                };                });            </script>        </div>"
      ]
     },
     "metadata": {},
     "output_type": "display_data"
    }
   ],
   "source": [
    "clust = pd.read_csv('cluster538_2020_full.csv').drop(columns=['Unnamed: 0']).dropna()\n",
    "clust['name'] = clust['name'].apply(drop_accent)\n",
    "boole = clust.name.isin(name2pid)\n",
    "clust = clust[boole]\n",
    "clust['pid'] = clust['name'].replace(name2pid)\n",
    "pid2clust = dict(zip(clust.pid,clust.cluster))\n",
    "\n",
    "counts = pd.DataFrame(clust.value_counts('cluster')).reset_index()\n",
    "counts.columns = ['cluster', 'counts']\n",
    "fig = go.Figure(data=[go.Bar(\n",
    "        y=counts['cluster'],x=counts['counts'],\n",
    "    orientation='h',marker_color='navy',\n",
    "    text=counts['counts'],textposition='auto',textangle = 0,\n",
    "    )])\n",
    "\n",
    "fig.update_layout(\n",
    "    xaxis_title=\"Count\",\n",
    "    font=dict(\n",
    "        family=\"Computer Modern\",\n",
    "        size=13,\n",
    "    )\n",
    ")\n",
    "fig.update_yaxes(\n",
    "{'automargin':True,'categoryorder':'total descending'}\n",
    ")\n",
    "\n",
    "fig.show()"
   ]
  },
  {
   "cell_type": "markdown",
   "id": "early-bread",
   "metadata": {},
   "source": [
    "## Calculate Cluster Synergy\n",
    "\n",
    "data from https://www.kaggle.com/datasets/schmadam97/nba-playbyplay-data-20182019"
   ]
  },
  {
   "cell_type": "code",
   "execution_count": 12,
   "id": "running-southwest",
   "metadata": {},
   "outputs": [],
   "source": [
    "pbp = pd.read_csv('/u/au/sa/meganmuniz/env1/Research/TakeTwo/kagglePBP/NBA_PBP_2019-20.csv')\n",
    "pbp['Season'] = '2019-20'\n",
    "pbp = pbp[(pbp.GameType=='regular')].reset_index() # regular season only\n",
    "\n",
    "# print(pbp.columns)\n",
    "# pbp.head()"
   ]
  },
  {
   "cell_type": "code",
   "execution_count": 13,
   "id": "superb-triangle",
   "metadata": {},
   "outputs": [],
   "source": [
    "## rebound to score ##\n",
    "rebs = pbp[~(pbp.Rebounder.isna())][['Rebounder','Season']]\n",
    "rebTemp = pbp.iloc[pbp[~(pbp.Rebounder.isna())].index+1]\n",
    "scoreReb = rebTemp[(rebTemp.ShotOutcome=='make')][['Shooter']]\n",
    "boole = (rebs.index+1).isin(list(scoreReb.index))\n",
    "rebs = rebs[boole].reset_index()\n",
    "reboundScore = pd.concat([rebs,scoreReb.reset_index()],axis=1)#.replace(pid2pbp)\n",
    "reboundScore.columns = ['rebIndex', 'Player1','Season', 'asstIndex', 'Player2']\n",
    "# reboundScore"
   ]
  },
  {
   "cell_type": "code",
   "execution_count": 14,
   "id": "abstract-general",
   "metadata": {},
   "outputs": [],
   "source": [
    "## rebound to assist ##\n",
    "rebs = pbp[~(pbp.Rebounder.isna())][['Rebounder','Season']]\n",
    "rebTemp = pbp.iloc[pbp[~(pbp.Rebounder.isna())].index+1]\n",
    "rebAsst = rebTemp[~(rebTemp.Assister.isna())][['Assister']]\n",
    "boole = (rebs.index+1).isin(list(rebAsst.index))\n",
    "rebs = rebs[boole].reset_index()\n",
    "reboundAssist = pd.concat([rebs,rebAsst.reset_index()],axis=1)#.replace(pid2pbp)\n",
    "reboundAssist.columns = ['rebIndex', 'Player1','Season', 'asstIndex', 'Player2']\n",
    "# reboundAssist"
   ]
  },
  {
   "cell_type": "code",
   "execution_count": 15,
   "id": "biblical-algeria",
   "metadata": {},
   "outputs": [],
   "source": [
    "## steal to score ##\n",
    "stls = pbp[(pbp.TurnoverCause=='steal')][['TurnoverCauser', 'Season']]\n",
    "stlTemp = pbp.iloc[stls.index+1]\n",
    "scoreStl = stlTemp[(stlTemp.ShotOutcome=='make')][['Shooter']]\n",
    "boole = (stls.index+1).isin(list(scoreStl.index))\n",
    "stls = stls[boole].reset_index()\n",
    "stealScore = pd.concat([stls,scoreStl.reset_index()],axis=1)#.dropna()#replace(pid2pbp)\n",
    "stealScore.columns = ['stlIndex', 'Player1', 'Season', 'shootIndex', 'Player2']\n",
    "# stealScore"
   ]
  },
  {
   "cell_type": "code",
   "execution_count": 16,
   "id": "northern-canada",
   "metadata": {},
   "outputs": [],
   "source": [
    "## steal to assist ##\n",
    "stls = pbp[(pbp.TurnoverCause=='steal')][['TurnoverCauser', 'Season']]\n",
    "stlTemp = pbp.iloc[stls.index+1]\n",
    "stlAsst = stlTemp[~(stlTemp.Assister.isna())][['Assister']]\n",
    "boole = (stls.index+1).isin(list(stlAsst.index))\n",
    "stls = stls[boole].reset_index()\n",
    "stealAssist = pd.concat([stls,stlAsst.reset_index()],axis=1)#.dropna()#replace(pid2pbp)\n",
    "stealAssist.columns = ['stlIndex', 'Player1', 'Season', 'asstIndex', 'Player2']\n",
    "# stealAssist"
   ]
  },
  {
   "cell_type": "code",
   "execution_count": 17,
   "id": "consolidated-india",
   "metadata": {},
   "outputs": [],
   "source": [
    "## assists ##\n",
    "assist = pbp[~(pbp.Assister.isna())][['Assister','Shooter', 'Season']]\n",
    "## make sure we don't double count the ones that are after rebounds or steals\n",
    "dropStl = assist.index.isin(stealAssist.asstIndex)\n",
    "assist = assist[~dropStl]\n",
    "dropReb = assist.index.isin(reboundAssist.asstIndex)\n",
    "assist = assist[~dropReb]\n",
    "assist.columns = ['Player1', 'Player2', 'Season']\n",
    "# assist#.replace(pid2pbp)"
   ]
  },
  {
   "cell_type": "code",
   "execution_count": 18,
   "id": "color-tolerance",
   "metadata": {},
   "outputs": [],
   "source": [
    "## count direct positive interactions ##\n",
    "type1 = ['rebound', 'steal']\n",
    "type2 = ['Score','Assist']\n",
    "# positiveInteractions = {}\n",
    "\n",
    "positiveList = []\n",
    "\n",
    "for t1 in type1:\n",
    "    for t2 in type2:\n",
    "        df = eval(t1+t2)\n",
    "        df = df[(df.Player1 != df.Player2)]\n",
    "        df = df.dropna()\n",
    "        temp1 = df.Player1.str.split(' - ',expand=True).replace(bref2nba)#[1]\n",
    "        temp2 = df.Player2.str.split(' - ',expand=True).replace(bref2nba)#[1]\n",
    "        newdf = pd.concat([temp1,temp2],axis=1)#.replace(pid2gpAll)\n",
    "        newdf.columns = ['name1','pid1','name2','pid2']\n",
    "        positiveList.extend(list(zip(newdf.pid1,newdf.pid2)))\n"
   ]
  },
  {
   "cell_type": "code",
   "execution_count": 19,
   "id": "bright-homework",
   "metadata": {},
   "outputs": [],
   "source": [
    "## add assists\n",
    "df = assist[(assist.Player1 != assist.Player2)]\n",
    "df.dropna(inplace=True)\n",
    "temp1 = df.Player1.str.split(' - ',expand=True).replace(bref2nba)#[1]\n",
    "temp2 = df.Player2.str.split(' - ',expand=True).replace(bref2nba)#[1]\n",
    "newdf = pd.concat([temp1,temp2],axis=1)\n",
    "newdf.columns = ['name1','pid1','name2','pid2']\n",
    "positiveList.extend(list(zip(newdf.pid1,newdf.pid2)))"
   ]
  },
  {
   "cell_type": "code",
   "execution_count": 23,
   "id": "younger-output",
   "metadata": {},
   "outputs": [],
   "source": [
    "## order pairs then use counter to create positiveInteractions\n",
    "## take out if not in feasible combo (unrecognized)\n",
    "# positiveList\n",
    "\n",
    "# positiveList_ = [tuple(sorted(x)) for x in positiveList]\n",
    "positiveList_ = []\n",
    "for pair in positiveList:\n",
    "    try:\n",
    "        \n",
    "        positiveList_.append(tuple(sorted(pair)))\n",
    "    except:\n",
    "        continue\n",
    "\n",
    "\n",
    "positiveInteractions = dict(Counter(positiveList_))\n",
    "# positiveInteractions"
   ]
  },
  {
   "cell_type": "code",
   "execution_count": 24,
   "id": "worse-fluid",
   "metadata": {},
   "outputs": [],
   "source": [
    "# create df: pair to positive interaction\n",
    "archSyn = pd.DataFrame().from_dict(positiveInteractions,orient='index').reset_index()\n",
    "archSyn['p1'], archSyn['p2'] = zip(*archSyn['index'])\n",
    "archSyn.dropna(inplace=True)"
   ]
  },
  {
   "cell_type": "code",
   "execution_count": 27,
   "id": "continuing-congo",
   "metadata": {},
   "outputs": [],
   "source": [
    "## get possessions per pair\n",
    "newBase = pd.read_csv('/u/au/sa/meganmuniz/env1/Research/TakeTwo/leaguedashlineup/lineupStats_Advanced_2man_allSeasons(per100Poss).csv')\n",
    "newBase.drop(columns = 'Unnamed: 0',inplace=True)\n",
    "\n",
    "base = newBase['GROUP_ID'].str.split('-',expand=True)\n",
    "base[3] = newBase['Season'] #6\n",
    "base = base[(base.columns[1:])]\n",
    "base.columns = ['p1','p2','szn']\n",
    "base['poss'] = newBase['POSS']\n",
    "base = base[(base.szn=='2019-20')]\n",
    "base['p1'] = base['p1'].astype(int)\n",
    "base['p2'] = base['p2'].astype(int)\n",
    "\n",
    "baseList = list(zip(base.p1,base.p2))\n",
    "baseList = [tuple(sorted(x)) for x in baseList]\n",
    "possDict = dict(zip(baseList,base.poss))\n",
    "\n",
    "## get positive interaction/poss for each indy pair using newbase,\n",
    "posIntPerPoss = {}\n",
    "for key,val in positiveInteractions.items():\n",
    "    try:\n",
    "        posIntPerPoss[key] = round(val / possDict[key], 4)\n",
    "    except:\n",
    "        continue\n",
    "# posIntPerPoss"
   ]
  },
  {
   "cell_type": "code",
   "execution_count": 37,
   "id": "above-yacht",
   "metadata": {},
   "outputs": [
    {
     "data": {
      "text/html": [
       "<div>\n",
       "<style scoped>\n",
       "    .dataframe tbody tr th:only-of-type {\n",
       "        vertical-align: middle;\n",
       "    }\n",
       "\n",
       "    .dataframe tbody tr th {\n",
       "        vertical-align: top;\n",
       "    }\n",
       "\n",
       "    .dataframe thead th {\n",
       "        text-align: right;\n",
       "    }\n",
       "</style>\n",
       "<table border=\"1\" class=\"dataframe\">\n",
       "  <thead>\n",
       "    <tr style=\"text-align: right;\">\n",
       "      <th></th>\n",
       "      <th>Archetype 1</th>\n",
       "      <th>Archetype 2</th>\n",
       "      <th>Synergy</th>\n",
       "    </tr>\n",
       "  </thead>\n",
       "  <tbody>\n",
       "    <tr>\n",
       "      <th>0</th>\n",
       "      <td>ALL-STAR</td>\n",
       "      <td>ALL-STAR</td>\n",
       "      <td>8.570</td>\n",
       "    </tr>\n",
       "    <tr>\n",
       "      <th>64</th>\n",
       "      <td>FUTURE ALL-STAR</td>\n",
       "      <td>FUTURE ALL-STAR</td>\n",
       "      <td>7.060</td>\n",
       "    </tr>\n",
       "    <tr>\n",
       "      <th>69</th>\n",
       "      <td>FUTURE ALL-STAR</td>\n",
       "      <td>MVP CANDIDATE</td>\n",
       "      <td>6.592</td>\n",
       "    </tr>\n",
       "    <tr>\n",
       "      <th>95</th>\n",
       "      <td>GREAT PROSPECT</td>\n",
       "      <td>OK PROSPECT</td>\n",
       "      <td>6.190</td>\n",
       "    </tr>\n",
       "    <tr>\n",
       "      <th>119</th>\n",
       "      <td>MVP CANDIDATE</td>\n",
       "      <td>OK PROSPECT</td>\n",
       "      <td>6.160</td>\n",
       "    </tr>\n",
       "    <tr>\n",
       "      <th>...</th>\n",
       "      <td>...</td>\n",
       "      <td>...</td>\n",
       "      <td>...</td>\n",
       "    </tr>\n",
       "    <tr>\n",
       "      <th>57</th>\n",
       "      <td>DEFENSIVE SPECIALIST</td>\n",
       "      <td>SCRAPPY VETERAN</td>\n",
       "      <td>1.550</td>\n",
       "    </tr>\n",
       "    <tr>\n",
       "      <th>54</th>\n",
       "      <td>DEFENSIVE SPECIALIST</td>\n",
       "      <td>OK PROSPECT</td>\n",
       "      <td>1.470</td>\n",
       "    </tr>\n",
       "    <tr>\n",
       "      <th>90</th>\n",
       "      <td>GOOD STARTER</td>\n",
       "      <td>SCRUB</td>\n",
       "      <td>1.426</td>\n",
       "    </tr>\n",
       "    <tr>\n",
       "      <th>78</th>\n",
       "      <td>GOOD PROSPECT</td>\n",
       "      <td>KEY ROLE PLAYER</td>\n",
       "      <td>1.330</td>\n",
       "    </tr>\n",
       "    <tr>\n",
       "      <th>63</th>\n",
       "      <td>DUBIOUS STARTER</td>\n",
       "      <td>UP-AND-COMER</td>\n",
       "      <td>1.040</td>\n",
       "    </tr>\n",
       "  </tbody>\n",
       "</table>\n",
       "<p>155 rows × 3 columns</p>\n",
       "</div>"
      ],
      "text/plain": [
       "              Archetype 1      Archetype 2  Synergy\n",
       "0                ALL-STAR         ALL-STAR    8.570\n",
       "64        FUTURE ALL-STAR  FUTURE ALL-STAR    7.060\n",
       "69        FUTURE ALL-STAR    MVP CANDIDATE    6.592\n",
       "95         GREAT PROSPECT      OK PROSPECT    6.190\n",
       "119         MVP CANDIDATE      OK PROSPECT    6.160\n",
       "..                    ...              ...      ...\n",
       "57   DEFENSIVE SPECIALIST  SCRAPPY VETERAN    1.550\n",
       "54   DEFENSIVE SPECIALIST      OK PROSPECT    1.470\n",
       "90           GOOD STARTER            SCRUB    1.426\n",
       "78          GOOD PROSPECT  KEY ROLE PLAYER    1.330\n",
       "63        DUBIOUS STARTER     UP-AND-COMER    1.040\n",
       "\n",
       "[155 rows x 3 columns]"
      ]
     },
     "execution_count": 37,
     "metadata": {},
     "output_type": "execute_result"
    }
   ],
   "source": [
    "interactions = pd.DataFrame()\n",
    "for idx, row in archSyn.iterrows():\n",
    "    tup = tuple(sorted(tuple((row.p1,row.p2))))\n",
    "    try:\n",
    "        a1 = pid2clust[row.p1]\n",
    "        a2 = pid2clust[row.p2]\n",
    "        if a1 == 'Singleton' or a2 == 'Singleton':\n",
    "            continue\n",
    "        arch1,arch2 = sorted(tuple([a1,a2]))\n",
    "        interactions = interactions.append({'Arch1': arch1, 'Arch2': arch2, 'Value': posIntPerPoss[tup]},ignore_index=True)\n",
    "    except:\n",
    "        continue\n",
    "\n",
    "interactions['lineupGroup'] = interactions['Arch1'] + '$' + interactions['Arch2']\n",
    "\n",
    "hmeanInters = interactions.groupby('lineupGroup').agg({'Value':hmean}).reset_index()\n",
    "sortedHmean = hmeanInters.sort_values(by='Value',ascending=False)\n",
    "gp2synergy = dict(zip(sortedHmean.lineupGroup,round(sortedHmean['Value']*100,3))) \n",
    "\n",
    "new = sortedHmean['lineupGroup'].str.split('$',expand=True)\n",
    "finalSynergy = pd.concat([new[0],new[1], round(sortedHmean['Value']*100,3)],axis=1)\n",
    "finalSynergy.columns = ['Archetype 1', 'Archetype 2', 'Synergy']\n",
    "\n",
    "tup2syn = dict(zip(zip(finalSynergy['Archetype 1'],finalSynergy['Archetype 2']),finalSynergy['Synergy']))\n",
    "\n",
    "finalSynergy\n"
   ]
  },
  {
   "cell_type": "code",
   "execution_count": 40,
   "id": "bacterial-digit",
   "metadata": {},
   "outputs": [
    {
     "data": {
      "application/vnd.plotly.v1+json": {
       "config": {
        "plotlyServerURL": "https://plot.ly"
       },
       "data": [
        {
         "colorscale": [
          [
           0,
           "rgb(63, 5, 5)"
          ],
          [
           0.09090909090909091,
           "rgb(101, 6, 13)"
          ],
          [
           0.18181818181818182,
           "rgb(138, 17, 9)"
          ],
          [
           0.2727272727272727,
           "rgb(96, 95, 95)"
          ],
          [
           0.36363636363636365,
           "rgb(119, 118, 118)"
          ],
          [
           0.45454545454545453,
           "rgb(142, 141, 141)"
          ],
          [
           0.5454545454545454,
           "rgb(166, 166, 165)"
          ],
          [
           0.6363636363636364,
           "rgb(193, 192, 191)"
          ],
          [
           0.7272727272727273,
           "rgb(222, 222, 220)"
          ],
          [
           0.8181818181818182,
           "rgb(239, 248, 90)"
          ],
          [
           0.9090909090909091,
           "rgb(230, 210, 41)"
          ],
          [
           1,
           "rgb(220, 174, 25)"
          ]
         ],
         "reversescale": false,
         "showscale": true,
         "type": "heatmap",
         "x": [
          "ALL-STAR",
          "AVERAGE STARTER",
          "BORDERLINE ALL-STAR",
          "FUTURE ALL-STAR",
          "KEY ROLE PLAYER",
          "DEFENSIVE SPECIALIST",
          "MARGINAL PROSPECT",
          "GOOD STARTER",
          "GOOD PROSPECT",
          "GREAT PROSPECT",
          "MVP CANDIDATE",
          "PROJECT",
          "OK PROSPECT",
          "ROTATION PLAYER",
          "DUBIOUS STARTER",
          "OFFENSIVE SPECIALIST",
          "SCRUB",
          "SCRAPPY VETERAN",
          "UP-AND-COMER"
         ],
         "y": [
          "ALL-STAR",
          "AVERAGE STARTER",
          "BORDERLINE ALL-STAR",
          "FUTURE ALL-STAR",
          "KEY ROLE PLAYER",
          "DEFENSIVE SPECIALIST",
          "MARGINAL PROSPECT",
          "GOOD STARTER",
          "GOOD PROSPECT",
          "GREAT PROSPECT",
          "MVP CANDIDATE",
          "PROJECT",
          "OK PROSPECT",
          "ROTATION PLAYER",
          "DUBIOUS STARTER",
          "OFFENSIVE SPECIALIST",
          "SCRUB",
          "SCRAPPY VETERAN",
          "UP-AND-COMER"
         ],
         "z": [
          [
           8.57,
           4.139,
           3.738,
           3.455,
           4.333,
           4.44,
           3.241,
           null,
           4.8,
           null,
           4.39,
           3.347,
           3.416,
           3.515,
           null,
           null,
           3.138,
           2.641,
           3.689
          ],
          [
           null,
           2.867,
           3.09,
           2.74,
           3.079,
           null,
           3.126,
           2.25,
           1.82,
           2.49,
           4.117,
           2.611,
           3.26,
           2.366,
           1.91,
           null,
           2.196,
           null,
           2.645
          ],
          [
           null,
           null,
           4.05,
           3.283,
           4.005,
           3.071,
           1.582,
           3.34,
           2.194,
           1.951,
           5.189,
           2.943,
           2.237,
           2.672,
           null,
           null,
           2.777,
           4.476,
           3.294
          ],
          [
           null,
           null,
           null,
           7.06,
           2.375,
           null,
           2.069,
           null,
           2.24,
           3.933,
           6.592,
           2.483,
           1.795,
           2.21,
           null,
           null,
           2.199,
           3.22,
           3.045
          ],
          [
           null,
           null,
           null,
           null,
           3.351,
           null,
           1.85,
           null,
           null,
           null,
           4.534,
           2.562,
           2.098,
           2.627,
           null,
           null,
           2.013,
           2.703,
           3.377
          ],
          [
           null,
           null,
           null,
           null,
           2.8,
           null,
           null,
           2.13,
           3.28,
           null,
           5.054,
           2.12,
           1.47,
           2.002,
           null,
           null,
           1.64,
           1.55,
           2.306
          ],
          [
           null,
           null,
           null,
           null,
           null,
           null,
           3.31,
           null,
           null,
           null,
           null,
           2.373,
           1.713,
           2.434,
           null,
           2.06,
           1.891,
           2.373,
           2.856
          ],
          [
           null,
           null,
           null,
           null,
           3.234,
           null,
           2.621,
           null,
           null,
           3,
           null,
           2.576,
           3.24,
           3.01,
           null,
           null,
           1.426,
           null,
           3.741
          ],
          [
           null,
           null,
           null,
           null,
           1.33,
           null,
           1.67,
           3.09,
           null,
           null,
           null,
           2.081,
           null,
           1.979,
           null,
           null,
           1.728,
           null,
           2.549
          ],
          [
           null,
           null,
           null,
           null,
           3.24,
           null,
           2.03,
           null,
           null,
           null,
           2.05,
           2.584,
           6.19,
           2.373,
           null,
           null,
           1.593,
           null,
           null
          ],
          [
           null,
           null,
           null,
           null,
           null,
           null,
           null,
           null,
           null,
           null,
           null,
           4.06,
           6.16,
           3.103,
           null,
           null,
           3.331,
           4.04,
           4.584
          ],
          [
           null,
           null,
           null,
           null,
           null,
           null,
           null,
           null,
           null,
           null,
           null,
           1.753,
           null,
           2.331,
           null,
           null,
           1.981,
           2.649,
           2.094
          ],
          [
           null,
           null,
           null,
           null,
           null,
           null,
           null,
           null,
           null,
           null,
           null,
           2.192,
           2.039,
           1.921,
           null,
           null,
           1.811,
           2.044,
           2.633
          ],
          [
           null,
           null,
           null,
           null,
           null,
           null,
           null,
           null,
           null,
           null,
           null,
           null,
           null,
           2.427,
           null,
           null,
           2.075,
           1.834,
           2.633
          ],
          [
           null,
           null,
           null,
           null,
           null,
           null,
           null,
           null,
           null,
           null,
           null,
           4.55,
           null,
           1.657,
           null,
           null,
           1.57,
           null,
           1.04
          ],
          [
           null,
           null,
           null,
           null,
           null,
           null,
           null,
           null,
           null,
           null,
           null,
           1.75,
           null,
           3.052,
           null,
           null,
           2.649,
           null,
           null
          ],
          [
           null,
           null,
           null,
           null,
           null,
           null,
           null,
           null,
           null,
           null,
           null,
           null,
           null,
           null,
           null,
           null,
           1.597,
           null,
           2.382
          ],
          [
           null,
           null,
           null,
           null,
           null,
           null,
           null,
           null,
           null,
           null,
           null,
           null,
           null,
           null,
           null,
           null,
           2.528,
           null,
           2.949
          ],
          [
           null,
           null,
           null,
           null,
           null,
           null,
           null,
           null,
           null,
           null,
           null,
           null,
           null,
           null,
           null,
           null,
           null,
           null,
           3.917
          ]
         ]
        }
       ],
       "layout": {
        "annotations": [
         {
          "font": {
           "color": "#FFFFFF"
          },
          "showarrow": false,
          "text": "8.57",
          "x": "ALL-STAR",
          "xref": "x",
          "y": "ALL-STAR",
          "yref": "y"
         },
         {
          "font": {
           "color": "#FFFFFF"
          },
          "showarrow": false,
          "text": "4.139",
          "x": "AVERAGE STARTER",
          "xref": "x",
          "y": "ALL-STAR",
          "yref": "y"
         },
         {
          "font": {
           "color": "#FFFFFF"
          },
          "showarrow": false,
          "text": "3.738",
          "x": "BORDERLINE ALL-STAR",
          "xref": "x",
          "y": "ALL-STAR",
          "yref": "y"
         },
         {
          "font": {
           "color": "#FFFFFF"
          },
          "showarrow": false,
          "text": "3.455",
          "x": "FUTURE ALL-STAR",
          "xref": "x",
          "y": "ALL-STAR",
          "yref": "y"
         },
         {
          "font": {
           "color": "#FFFFFF"
          },
          "showarrow": false,
          "text": "4.333",
          "x": "KEY ROLE PLAYER",
          "xref": "x",
          "y": "ALL-STAR",
          "yref": "y"
         },
         {
          "font": {
           "color": "#FFFFFF"
          },
          "showarrow": false,
          "text": "4.44",
          "x": "DEFENSIVE SPECIALIST",
          "xref": "x",
          "y": "ALL-STAR",
          "yref": "y"
         },
         {
          "font": {
           "color": "#FFFFFF"
          },
          "showarrow": false,
          "text": "3.241",
          "x": "MARGINAL PROSPECT",
          "xref": "x",
          "y": "ALL-STAR",
          "yref": "y"
         },
         {
          "font": {
           "color": "#FFFFFF"
          },
          "showarrow": false,
          "text": "",
          "x": "GOOD STARTER",
          "xref": "x",
          "y": "ALL-STAR",
          "yref": "y"
         },
         {
          "font": {
           "color": "#FFFFFF"
          },
          "showarrow": false,
          "text": "4.8",
          "x": "GOOD PROSPECT",
          "xref": "x",
          "y": "ALL-STAR",
          "yref": "y"
         },
         {
          "font": {
           "color": "#FFFFFF"
          },
          "showarrow": false,
          "text": "",
          "x": "GREAT PROSPECT",
          "xref": "x",
          "y": "ALL-STAR",
          "yref": "y"
         },
         {
          "font": {
           "color": "#FFFFFF"
          },
          "showarrow": false,
          "text": "4.39",
          "x": "MVP CANDIDATE",
          "xref": "x",
          "y": "ALL-STAR",
          "yref": "y"
         },
         {
          "font": {
           "color": "#FFFFFF"
          },
          "showarrow": false,
          "text": "3.347",
          "x": "PROJECT",
          "xref": "x",
          "y": "ALL-STAR",
          "yref": "y"
         },
         {
          "font": {
           "color": "#FFFFFF"
          },
          "showarrow": false,
          "text": "3.416",
          "x": "OK PROSPECT",
          "xref": "x",
          "y": "ALL-STAR",
          "yref": "y"
         },
         {
          "font": {
           "color": "#FFFFFF"
          },
          "showarrow": false,
          "text": "3.515",
          "x": "ROTATION PLAYER",
          "xref": "x",
          "y": "ALL-STAR",
          "yref": "y"
         },
         {
          "font": {
           "color": "#FFFFFF"
          },
          "showarrow": false,
          "text": "",
          "x": "DUBIOUS STARTER",
          "xref": "x",
          "y": "ALL-STAR",
          "yref": "y"
         },
         {
          "font": {
           "color": "#FFFFFF"
          },
          "showarrow": false,
          "text": "",
          "x": "OFFENSIVE SPECIALIST",
          "xref": "x",
          "y": "ALL-STAR",
          "yref": "y"
         },
         {
          "font": {
           "color": "#FFFFFF"
          },
          "showarrow": false,
          "text": "3.138",
          "x": "SCRUB",
          "xref": "x",
          "y": "ALL-STAR",
          "yref": "y"
         },
         {
          "font": {
           "color": "#FFFFFF"
          },
          "showarrow": false,
          "text": "2.641",
          "x": "SCRAPPY VETERAN",
          "xref": "x",
          "y": "ALL-STAR",
          "yref": "y"
         },
         {
          "font": {
           "color": "#FFFFFF"
          },
          "showarrow": false,
          "text": "3.689",
          "x": "UP-AND-COMER",
          "xref": "x",
          "y": "ALL-STAR",
          "yref": "y"
         },
         {
          "font": {
           "color": "#FFFFFF"
          },
          "showarrow": false,
          "text": "",
          "x": "ALL-STAR",
          "xref": "x",
          "y": "AVERAGE STARTER",
          "yref": "y"
         },
         {
          "font": {
           "color": "#FFFFFF"
          },
          "showarrow": false,
          "text": "2.867",
          "x": "AVERAGE STARTER",
          "xref": "x",
          "y": "AVERAGE STARTER",
          "yref": "y"
         },
         {
          "font": {
           "color": "#FFFFFF"
          },
          "showarrow": false,
          "text": "3.09",
          "x": "BORDERLINE ALL-STAR",
          "xref": "x",
          "y": "AVERAGE STARTER",
          "yref": "y"
         },
         {
          "font": {
           "color": "#FFFFFF"
          },
          "showarrow": false,
          "text": "2.74",
          "x": "FUTURE ALL-STAR",
          "xref": "x",
          "y": "AVERAGE STARTER",
          "yref": "y"
         },
         {
          "font": {
           "color": "#FFFFFF"
          },
          "showarrow": false,
          "text": "3.079",
          "x": "KEY ROLE PLAYER",
          "xref": "x",
          "y": "AVERAGE STARTER",
          "yref": "y"
         },
         {
          "font": {
           "color": "#FFFFFF"
          },
          "showarrow": false,
          "text": "",
          "x": "DEFENSIVE SPECIALIST",
          "xref": "x",
          "y": "AVERAGE STARTER",
          "yref": "y"
         },
         {
          "font": {
           "color": "#FFFFFF"
          },
          "showarrow": false,
          "text": "3.126",
          "x": "MARGINAL PROSPECT",
          "xref": "x",
          "y": "AVERAGE STARTER",
          "yref": "y"
         },
         {
          "font": {
           "color": "#FFFFFF"
          },
          "showarrow": false,
          "text": "2.25",
          "x": "GOOD STARTER",
          "xref": "x",
          "y": "AVERAGE STARTER",
          "yref": "y"
         },
         {
          "font": {
           "color": "#FFFFFF"
          },
          "showarrow": false,
          "text": "1.82",
          "x": "GOOD PROSPECT",
          "xref": "x",
          "y": "AVERAGE STARTER",
          "yref": "y"
         },
         {
          "font": {
           "color": "#FFFFFF"
          },
          "showarrow": false,
          "text": "2.49",
          "x": "GREAT PROSPECT",
          "xref": "x",
          "y": "AVERAGE STARTER",
          "yref": "y"
         },
         {
          "font": {
           "color": "#FFFFFF"
          },
          "showarrow": false,
          "text": "4.117",
          "x": "MVP CANDIDATE",
          "xref": "x",
          "y": "AVERAGE STARTER",
          "yref": "y"
         },
         {
          "font": {
           "color": "#FFFFFF"
          },
          "showarrow": false,
          "text": "2.611",
          "x": "PROJECT",
          "xref": "x",
          "y": "AVERAGE STARTER",
          "yref": "y"
         },
         {
          "font": {
           "color": "#FFFFFF"
          },
          "showarrow": false,
          "text": "3.26",
          "x": "OK PROSPECT",
          "xref": "x",
          "y": "AVERAGE STARTER",
          "yref": "y"
         },
         {
          "font": {
           "color": "#FFFFFF"
          },
          "showarrow": false,
          "text": "2.366",
          "x": "ROTATION PLAYER",
          "xref": "x",
          "y": "AVERAGE STARTER",
          "yref": "y"
         },
         {
          "font": {
           "color": "#FFFFFF"
          },
          "showarrow": false,
          "text": "1.91",
          "x": "DUBIOUS STARTER",
          "xref": "x",
          "y": "AVERAGE STARTER",
          "yref": "y"
         },
         {
          "font": {
           "color": "#FFFFFF"
          },
          "showarrow": false,
          "text": "",
          "x": "OFFENSIVE SPECIALIST",
          "xref": "x",
          "y": "AVERAGE STARTER",
          "yref": "y"
         },
         {
          "font": {
           "color": "#FFFFFF"
          },
          "showarrow": false,
          "text": "2.196",
          "x": "SCRUB",
          "xref": "x",
          "y": "AVERAGE STARTER",
          "yref": "y"
         },
         {
          "font": {
           "color": "#FFFFFF"
          },
          "showarrow": false,
          "text": "",
          "x": "SCRAPPY VETERAN",
          "xref": "x",
          "y": "AVERAGE STARTER",
          "yref": "y"
         },
         {
          "font": {
           "color": "#FFFFFF"
          },
          "showarrow": false,
          "text": "2.645",
          "x": "UP-AND-COMER",
          "xref": "x",
          "y": "AVERAGE STARTER",
          "yref": "y"
         },
         {
          "font": {
           "color": "#FFFFFF"
          },
          "showarrow": false,
          "text": "",
          "x": "ALL-STAR",
          "xref": "x",
          "y": "BORDERLINE ALL-STAR",
          "yref": "y"
         },
         {
          "font": {
           "color": "#FFFFFF"
          },
          "showarrow": false,
          "text": "",
          "x": "AVERAGE STARTER",
          "xref": "x",
          "y": "BORDERLINE ALL-STAR",
          "yref": "y"
         },
         {
          "font": {
           "color": "#FFFFFF"
          },
          "showarrow": false,
          "text": "4.05",
          "x": "BORDERLINE ALL-STAR",
          "xref": "x",
          "y": "BORDERLINE ALL-STAR",
          "yref": "y"
         },
         {
          "font": {
           "color": "#FFFFFF"
          },
          "showarrow": false,
          "text": "3.283",
          "x": "FUTURE ALL-STAR",
          "xref": "x",
          "y": "BORDERLINE ALL-STAR",
          "yref": "y"
         },
         {
          "font": {
           "color": "#FFFFFF"
          },
          "showarrow": false,
          "text": "4.005",
          "x": "KEY ROLE PLAYER",
          "xref": "x",
          "y": "BORDERLINE ALL-STAR",
          "yref": "y"
         },
         {
          "font": {
           "color": "#FFFFFF"
          },
          "showarrow": false,
          "text": "3.071",
          "x": "DEFENSIVE SPECIALIST",
          "xref": "x",
          "y": "BORDERLINE ALL-STAR",
          "yref": "y"
         },
         {
          "font": {
           "color": "#FFFFFF"
          },
          "showarrow": false,
          "text": "1.582",
          "x": "MARGINAL PROSPECT",
          "xref": "x",
          "y": "BORDERLINE ALL-STAR",
          "yref": "y"
         },
         {
          "font": {
           "color": "#FFFFFF"
          },
          "showarrow": false,
          "text": "3.34",
          "x": "GOOD STARTER",
          "xref": "x",
          "y": "BORDERLINE ALL-STAR",
          "yref": "y"
         },
         {
          "font": {
           "color": "#FFFFFF"
          },
          "showarrow": false,
          "text": "2.194",
          "x": "GOOD PROSPECT",
          "xref": "x",
          "y": "BORDERLINE ALL-STAR",
          "yref": "y"
         },
         {
          "font": {
           "color": "#FFFFFF"
          },
          "showarrow": false,
          "text": "1.951",
          "x": "GREAT PROSPECT",
          "xref": "x",
          "y": "BORDERLINE ALL-STAR",
          "yref": "y"
         },
         {
          "font": {
           "color": "#FFFFFF"
          },
          "showarrow": false,
          "text": "5.189",
          "x": "MVP CANDIDATE",
          "xref": "x",
          "y": "BORDERLINE ALL-STAR",
          "yref": "y"
         },
         {
          "font": {
           "color": "#FFFFFF"
          },
          "showarrow": false,
          "text": "2.943",
          "x": "PROJECT",
          "xref": "x",
          "y": "BORDERLINE ALL-STAR",
          "yref": "y"
         },
         {
          "font": {
           "color": "#FFFFFF"
          },
          "showarrow": false,
          "text": "2.237",
          "x": "OK PROSPECT",
          "xref": "x",
          "y": "BORDERLINE ALL-STAR",
          "yref": "y"
         },
         {
          "font": {
           "color": "#FFFFFF"
          },
          "showarrow": false,
          "text": "2.672",
          "x": "ROTATION PLAYER",
          "xref": "x",
          "y": "BORDERLINE ALL-STAR",
          "yref": "y"
         },
         {
          "font": {
           "color": "#FFFFFF"
          },
          "showarrow": false,
          "text": "",
          "x": "DUBIOUS STARTER",
          "xref": "x",
          "y": "BORDERLINE ALL-STAR",
          "yref": "y"
         },
         {
          "font": {
           "color": "#FFFFFF"
          },
          "showarrow": false,
          "text": "",
          "x": "OFFENSIVE SPECIALIST",
          "xref": "x",
          "y": "BORDERLINE ALL-STAR",
          "yref": "y"
         },
         {
          "font": {
           "color": "#FFFFFF"
          },
          "showarrow": false,
          "text": "2.777",
          "x": "SCRUB",
          "xref": "x",
          "y": "BORDERLINE ALL-STAR",
          "yref": "y"
         },
         {
          "font": {
           "color": "#FFFFFF"
          },
          "showarrow": false,
          "text": "4.476",
          "x": "SCRAPPY VETERAN",
          "xref": "x",
          "y": "BORDERLINE ALL-STAR",
          "yref": "y"
         },
         {
          "font": {
           "color": "#FFFFFF"
          },
          "showarrow": false,
          "text": "3.294",
          "x": "UP-AND-COMER",
          "xref": "x",
          "y": "BORDERLINE ALL-STAR",
          "yref": "y"
         },
         {
          "font": {
           "color": "#FFFFFF"
          },
          "showarrow": false,
          "text": "",
          "x": "ALL-STAR",
          "xref": "x",
          "y": "FUTURE ALL-STAR",
          "yref": "y"
         },
         {
          "font": {
           "color": "#FFFFFF"
          },
          "showarrow": false,
          "text": "",
          "x": "AVERAGE STARTER",
          "xref": "x",
          "y": "FUTURE ALL-STAR",
          "yref": "y"
         },
         {
          "font": {
           "color": "#FFFFFF"
          },
          "showarrow": false,
          "text": "",
          "x": "BORDERLINE ALL-STAR",
          "xref": "x",
          "y": "FUTURE ALL-STAR",
          "yref": "y"
         },
         {
          "font": {
           "color": "#FFFFFF"
          },
          "showarrow": false,
          "text": "7.06",
          "x": "FUTURE ALL-STAR",
          "xref": "x",
          "y": "FUTURE ALL-STAR",
          "yref": "y"
         },
         {
          "font": {
           "color": "#FFFFFF"
          },
          "showarrow": false,
          "text": "2.375",
          "x": "KEY ROLE PLAYER",
          "xref": "x",
          "y": "FUTURE ALL-STAR",
          "yref": "y"
         },
         {
          "font": {
           "color": "#FFFFFF"
          },
          "showarrow": false,
          "text": "",
          "x": "DEFENSIVE SPECIALIST",
          "xref": "x",
          "y": "FUTURE ALL-STAR",
          "yref": "y"
         },
         {
          "font": {
           "color": "#FFFFFF"
          },
          "showarrow": false,
          "text": "2.069",
          "x": "MARGINAL PROSPECT",
          "xref": "x",
          "y": "FUTURE ALL-STAR",
          "yref": "y"
         },
         {
          "font": {
           "color": "#FFFFFF"
          },
          "showarrow": false,
          "text": "",
          "x": "GOOD STARTER",
          "xref": "x",
          "y": "FUTURE ALL-STAR",
          "yref": "y"
         },
         {
          "font": {
           "color": "#FFFFFF"
          },
          "showarrow": false,
          "text": "2.24",
          "x": "GOOD PROSPECT",
          "xref": "x",
          "y": "FUTURE ALL-STAR",
          "yref": "y"
         },
         {
          "font": {
           "color": "#FFFFFF"
          },
          "showarrow": false,
          "text": "3.933",
          "x": "GREAT PROSPECT",
          "xref": "x",
          "y": "FUTURE ALL-STAR",
          "yref": "y"
         },
         {
          "font": {
           "color": "#FFFFFF"
          },
          "showarrow": false,
          "text": "6.592",
          "x": "MVP CANDIDATE",
          "xref": "x",
          "y": "FUTURE ALL-STAR",
          "yref": "y"
         },
         {
          "font": {
           "color": "#FFFFFF"
          },
          "showarrow": false,
          "text": "2.483",
          "x": "PROJECT",
          "xref": "x",
          "y": "FUTURE ALL-STAR",
          "yref": "y"
         },
         {
          "font": {
           "color": "#FFFFFF"
          },
          "showarrow": false,
          "text": "1.795",
          "x": "OK PROSPECT",
          "xref": "x",
          "y": "FUTURE ALL-STAR",
          "yref": "y"
         },
         {
          "font": {
           "color": "#FFFFFF"
          },
          "showarrow": false,
          "text": "2.21",
          "x": "ROTATION PLAYER",
          "xref": "x",
          "y": "FUTURE ALL-STAR",
          "yref": "y"
         },
         {
          "font": {
           "color": "#FFFFFF"
          },
          "showarrow": false,
          "text": "",
          "x": "DUBIOUS STARTER",
          "xref": "x",
          "y": "FUTURE ALL-STAR",
          "yref": "y"
         },
         {
          "font": {
           "color": "#FFFFFF"
          },
          "showarrow": false,
          "text": "",
          "x": "OFFENSIVE SPECIALIST",
          "xref": "x",
          "y": "FUTURE ALL-STAR",
          "yref": "y"
         },
         {
          "font": {
           "color": "#FFFFFF"
          },
          "showarrow": false,
          "text": "2.199",
          "x": "SCRUB",
          "xref": "x",
          "y": "FUTURE ALL-STAR",
          "yref": "y"
         },
         {
          "font": {
           "color": "#FFFFFF"
          },
          "showarrow": false,
          "text": "3.22",
          "x": "SCRAPPY VETERAN",
          "xref": "x",
          "y": "FUTURE ALL-STAR",
          "yref": "y"
         },
         {
          "font": {
           "color": "#FFFFFF"
          },
          "showarrow": false,
          "text": "3.045",
          "x": "UP-AND-COMER",
          "xref": "x",
          "y": "FUTURE ALL-STAR",
          "yref": "y"
         },
         {
          "font": {
           "color": "#FFFFFF"
          },
          "showarrow": false,
          "text": "",
          "x": "ALL-STAR",
          "xref": "x",
          "y": "KEY ROLE PLAYER",
          "yref": "y"
         },
         {
          "font": {
           "color": "#FFFFFF"
          },
          "showarrow": false,
          "text": "",
          "x": "AVERAGE STARTER",
          "xref": "x",
          "y": "KEY ROLE PLAYER",
          "yref": "y"
         },
         {
          "font": {
           "color": "#FFFFFF"
          },
          "showarrow": false,
          "text": "",
          "x": "BORDERLINE ALL-STAR",
          "xref": "x",
          "y": "KEY ROLE PLAYER",
          "yref": "y"
         },
         {
          "font": {
           "color": "#FFFFFF"
          },
          "showarrow": false,
          "text": "",
          "x": "FUTURE ALL-STAR",
          "xref": "x",
          "y": "KEY ROLE PLAYER",
          "yref": "y"
         },
         {
          "font": {
           "color": "#FFFFFF"
          },
          "showarrow": false,
          "text": "3.351",
          "x": "KEY ROLE PLAYER",
          "xref": "x",
          "y": "KEY ROLE PLAYER",
          "yref": "y"
         },
         {
          "font": {
           "color": "#FFFFFF"
          },
          "showarrow": false,
          "text": "",
          "x": "DEFENSIVE SPECIALIST",
          "xref": "x",
          "y": "KEY ROLE PLAYER",
          "yref": "y"
         },
         {
          "font": {
           "color": "#FFFFFF"
          },
          "showarrow": false,
          "text": "1.85",
          "x": "MARGINAL PROSPECT",
          "xref": "x",
          "y": "KEY ROLE PLAYER",
          "yref": "y"
         },
         {
          "font": {
           "color": "#FFFFFF"
          },
          "showarrow": false,
          "text": "",
          "x": "GOOD STARTER",
          "xref": "x",
          "y": "KEY ROLE PLAYER",
          "yref": "y"
         },
         {
          "font": {
           "color": "#FFFFFF"
          },
          "showarrow": false,
          "text": "",
          "x": "GOOD PROSPECT",
          "xref": "x",
          "y": "KEY ROLE PLAYER",
          "yref": "y"
         },
         {
          "font": {
           "color": "#FFFFFF"
          },
          "showarrow": false,
          "text": "",
          "x": "GREAT PROSPECT",
          "xref": "x",
          "y": "KEY ROLE PLAYER",
          "yref": "y"
         },
         {
          "font": {
           "color": "#FFFFFF"
          },
          "showarrow": false,
          "text": "4.534",
          "x": "MVP CANDIDATE",
          "xref": "x",
          "y": "KEY ROLE PLAYER",
          "yref": "y"
         },
         {
          "font": {
           "color": "#FFFFFF"
          },
          "showarrow": false,
          "text": "2.562",
          "x": "PROJECT",
          "xref": "x",
          "y": "KEY ROLE PLAYER",
          "yref": "y"
         },
         {
          "font": {
           "color": "#FFFFFF"
          },
          "showarrow": false,
          "text": "2.098",
          "x": "OK PROSPECT",
          "xref": "x",
          "y": "KEY ROLE PLAYER",
          "yref": "y"
         },
         {
          "font": {
           "color": "#FFFFFF"
          },
          "showarrow": false,
          "text": "2.627",
          "x": "ROTATION PLAYER",
          "xref": "x",
          "y": "KEY ROLE PLAYER",
          "yref": "y"
         },
         {
          "font": {
           "color": "#FFFFFF"
          },
          "showarrow": false,
          "text": "",
          "x": "DUBIOUS STARTER",
          "xref": "x",
          "y": "KEY ROLE PLAYER",
          "yref": "y"
         },
         {
          "font": {
           "color": "#FFFFFF"
          },
          "showarrow": false,
          "text": "",
          "x": "OFFENSIVE SPECIALIST",
          "xref": "x",
          "y": "KEY ROLE PLAYER",
          "yref": "y"
         },
         {
          "font": {
           "color": "#FFFFFF"
          },
          "showarrow": false,
          "text": "2.013",
          "x": "SCRUB",
          "xref": "x",
          "y": "KEY ROLE PLAYER",
          "yref": "y"
         },
         {
          "font": {
           "color": "#FFFFFF"
          },
          "showarrow": false,
          "text": "2.703",
          "x": "SCRAPPY VETERAN",
          "xref": "x",
          "y": "KEY ROLE PLAYER",
          "yref": "y"
         },
         {
          "font": {
           "color": "#FFFFFF"
          },
          "showarrow": false,
          "text": "3.377",
          "x": "UP-AND-COMER",
          "xref": "x",
          "y": "KEY ROLE PLAYER",
          "yref": "y"
         },
         {
          "font": {
           "color": "#FFFFFF"
          },
          "showarrow": false,
          "text": "",
          "x": "ALL-STAR",
          "xref": "x",
          "y": "DEFENSIVE SPECIALIST",
          "yref": "y"
         },
         {
          "font": {
           "color": "#FFFFFF"
          },
          "showarrow": false,
          "text": "",
          "x": "AVERAGE STARTER",
          "xref": "x",
          "y": "DEFENSIVE SPECIALIST",
          "yref": "y"
         },
         {
          "font": {
           "color": "#FFFFFF"
          },
          "showarrow": false,
          "text": "",
          "x": "BORDERLINE ALL-STAR",
          "xref": "x",
          "y": "DEFENSIVE SPECIALIST",
          "yref": "y"
         },
         {
          "font": {
           "color": "#FFFFFF"
          },
          "showarrow": false,
          "text": "",
          "x": "FUTURE ALL-STAR",
          "xref": "x",
          "y": "DEFENSIVE SPECIALIST",
          "yref": "y"
         },
         {
          "font": {
           "color": "#FFFFFF"
          },
          "showarrow": false,
          "text": "2.8",
          "x": "KEY ROLE PLAYER",
          "xref": "x",
          "y": "DEFENSIVE SPECIALIST",
          "yref": "y"
         },
         {
          "font": {
           "color": "#FFFFFF"
          },
          "showarrow": false,
          "text": "",
          "x": "DEFENSIVE SPECIALIST",
          "xref": "x",
          "y": "DEFENSIVE SPECIALIST",
          "yref": "y"
         },
         {
          "font": {
           "color": "#FFFFFF"
          },
          "showarrow": false,
          "text": "",
          "x": "MARGINAL PROSPECT",
          "xref": "x",
          "y": "DEFENSIVE SPECIALIST",
          "yref": "y"
         },
         {
          "font": {
           "color": "#FFFFFF"
          },
          "showarrow": false,
          "text": "2.13",
          "x": "GOOD STARTER",
          "xref": "x",
          "y": "DEFENSIVE SPECIALIST",
          "yref": "y"
         },
         {
          "font": {
           "color": "#FFFFFF"
          },
          "showarrow": false,
          "text": "3.28",
          "x": "GOOD PROSPECT",
          "xref": "x",
          "y": "DEFENSIVE SPECIALIST",
          "yref": "y"
         },
         {
          "font": {
           "color": "#FFFFFF"
          },
          "showarrow": false,
          "text": "",
          "x": "GREAT PROSPECT",
          "xref": "x",
          "y": "DEFENSIVE SPECIALIST",
          "yref": "y"
         },
         {
          "font": {
           "color": "#FFFFFF"
          },
          "showarrow": false,
          "text": "5.054",
          "x": "MVP CANDIDATE",
          "xref": "x",
          "y": "DEFENSIVE SPECIALIST",
          "yref": "y"
         },
         {
          "font": {
           "color": "#FFFFFF"
          },
          "showarrow": false,
          "text": "2.12",
          "x": "PROJECT",
          "xref": "x",
          "y": "DEFENSIVE SPECIALIST",
          "yref": "y"
         },
         {
          "font": {
           "color": "#FFFFFF"
          },
          "showarrow": false,
          "text": "1.47",
          "x": "OK PROSPECT",
          "xref": "x",
          "y": "DEFENSIVE SPECIALIST",
          "yref": "y"
         },
         {
          "font": {
           "color": "#FFFFFF"
          },
          "showarrow": false,
          "text": "2.002",
          "x": "ROTATION PLAYER",
          "xref": "x",
          "y": "DEFENSIVE SPECIALIST",
          "yref": "y"
         },
         {
          "font": {
           "color": "#FFFFFF"
          },
          "showarrow": false,
          "text": "",
          "x": "DUBIOUS STARTER",
          "xref": "x",
          "y": "DEFENSIVE SPECIALIST",
          "yref": "y"
         },
         {
          "font": {
           "color": "#FFFFFF"
          },
          "showarrow": false,
          "text": "",
          "x": "OFFENSIVE SPECIALIST",
          "xref": "x",
          "y": "DEFENSIVE SPECIALIST",
          "yref": "y"
         },
         {
          "font": {
           "color": "#FFFFFF"
          },
          "showarrow": false,
          "text": "1.64",
          "x": "SCRUB",
          "xref": "x",
          "y": "DEFENSIVE SPECIALIST",
          "yref": "y"
         },
         {
          "font": {
           "color": "#FFFFFF"
          },
          "showarrow": false,
          "text": "1.55",
          "x": "SCRAPPY VETERAN",
          "xref": "x",
          "y": "DEFENSIVE SPECIALIST",
          "yref": "y"
         },
         {
          "font": {
           "color": "#FFFFFF"
          },
          "showarrow": false,
          "text": "2.306",
          "x": "UP-AND-COMER",
          "xref": "x",
          "y": "DEFENSIVE SPECIALIST",
          "yref": "y"
         },
         {
          "font": {
           "color": "#FFFFFF"
          },
          "showarrow": false,
          "text": "",
          "x": "ALL-STAR",
          "xref": "x",
          "y": "MARGINAL PROSPECT",
          "yref": "y"
         },
         {
          "font": {
           "color": "#FFFFFF"
          },
          "showarrow": false,
          "text": "",
          "x": "AVERAGE STARTER",
          "xref": "x",
          "y": "MARGINAL PROSPECT",
          "yref": "y"
         },
         {
          "font": {
           "color": "#FFFFFF"
          },
          "showarrow": false,
          "text": "",
          "x": "BORDERLINE ALL-STAR",
          "xref": "x",
          "y": "MARGINAL PROSPECT",
          "yref": "y"
         },
         {
          "font": {
           "color": "#FFFFFF"
          },
          "showarrow": false,
          "text": "",
          "x": "FUTURE ALL-STAR",
          "xref": "x",
          "y": "MARGINAL PROSPECT",
          "yref": "y"
         },
         {
          "font": {
           "color": "#FFFFFF"
          },
          "showarrow": false,
          "text": "",
          "x": "KEY ROLE PLAYER",
          "xref": "x",
          "y": "MARGINAL PROSPECT",
          "yref": "y"
         },
         {
          "font": {
           "color": "#FFFFFF"
          },
          "showarrow": false,
          "text": "",
          "x": "DEFENSIVE SPECIALIST",
          "xref": "x",
          "y": "MARGINAL PROSPECT",
          "yref": "y"
         },
         {
          "font": {
           "color": "#FFFFFF"
          },
          "showarrow": false,
          "text": "3.31",
          "x": "MARGINAL PROSPECT",
          "xref": "x",
          "y": "MARGINAL PROSPECT",
          "yref": "y"
         },
         {
          "font": {
           "color": "#FFFFFF"
          },
          "showarrow": false,
          "text": "",
          "x": "GOOD STARTER",
          "xref": "x",
          "y": "MARGINAL PROSPECT",
          "yref": "y"
         },
         {
          "font": {
           "color": "#FFFFFF"
          },
          "showarrow": false,
          "text": "",
          "x": "GOOD PROSPECT",
          "xref": "x",
          "y": "MARGINAL PROSPECT",
          "yref": "y"
         },
         {
          "font": {
           "color": "#FFFFFF"
          },
          "showarrow": false,
          "text": "",
          "x": "GREAT PROSPECT",
          "xref": "x",
          "y": "MARGINAL PROSPECT",
          "yref": "y"
         },
         {
          "font": {
           "color": "#FFFFFF"
          },
          "showarrow": false,
          "text": "",
          "x": "MVP CANDIDATE",
          "xref": "x",
          "y": "MARGINAL PROSPECT",
          "yref": "y"
         },
         {
          "font": {
           "color": "#FFFFFF"
          },
          "showarrow": false,
          "text": "2.373",
          "x": "PROJECT",
          "xref": "x",
          "y": "MARGINAL PROSPECT",
          "yref": "y"
         },
         {
          "font": {
           "color": "#FFFFFF"
          },
          "showarrow": false,
          "text": "1.713",
          "x": "OK PROSPECT",
          "xref": "x",
          "y": "MARGINAL PROSPECT",
          "yref": "y"
         },
         {
          "font": {
           "color": "#FFFFFF"
          },
          "showarrow": false,
          "text": "2.434",
          "x": "ROTATION PLAYER",
          "xref": "x",
          "y": "MARGINAL PROSPECT",
          "yref": "y"
         },
         {
          "font": {
           "color": "#FFFFFF"
          },
          "showarrow": false,
          "text": "",
          "x": "DUBIOUS STARTER",
          "xref": "x",
          "y": "MARGINAL PROSPECT",
          "yref": "y"
         },
         {
          "font": {
           "color": "#FFFFFF"
          },
          "showarrow": false,
          "text": "2.06",
          "x": "OFFENSIVE SPECIALIST",
          "xref": "x",
          "y": "MARGINAL PROSPECT",
          "yref": "y"
         },
         {
          "font": {
           "color": "#FFFFFF"
          },
          "showarrow": false,
          "text": "1.891",
          "x": "SCRUB",
          "xref": "x",
          "y": "MARGINAL PROSPECT",
          "yref": "y"
         },
         {
          "font": {
           "color": "#FFFFFF"
          },
          "showarrow": false,
          "text": "2.373",
          "x": "SCRAPPY VETERAN",
          "xref": "x",
          "y": "MARGINAL PROSPECT",
          "yref": "y"
         },
         {
          "font": {
           "color": "#FFFFFF"
          },
          "showarrow": false,
          "text": "2.856",
          "x": "UP-AND-COMER",
          "xref": "x",
          "y": "MARGINAL PROSPECT",
          "yref": "y"
         },
         {
          "font": {
           "color": "#FFFFFF"
          },
          "showarrow": false,
          "text": "",
          "x": "ALL-STAR",
          "xref": "x",
          "y": "GOOD STARTER",
          "yref": "y"
         },
         {
          "font": {
           "color": "#FFFFFF"
          },
          "showarrow": false,
          "text": "",
          "x": "AVERAGE STARTER",
          "xref": "x",
          "y": "GOOD STARTER",
          "yref": "y"
         },
         {
          "font": {
           "color": "#FFFFFF"
          },
          "showarrow": false,
          "text": "",
          "x": "BORDERLINE ALL-STAR",
          "xref": "x",
          "y": "GOOD STARTER",
          "yref": "y"
         },
         {
          "font": {
           "color": "#FFFFFF"
          },
          "showarrow": false,
          "text": "",
          "x": "FUTURE ALL-STAR",
          "xref": "x",
          "y": "GOOD STARTER",
          "yref": "y"
         },
         {
          "font": {
           "color": "#FFFFFF"
          },
          "showarrow": false,
          "text": "3.234",
          "x": "KEY ROLE PLAYER",
          "xref": "x",
          "y": "GOOD STARTER",
          "yref": "y"
         },
         {
          "font": {
           "color": "#FFFFFF"
          },
          "showarrow": false,
          "text": "",
          "x": "DEFENSIVE SPECIALIST",
          "xref": "x",
          "y": "GOOD STARTER",
          "yref": "y"
         },
         {
          "font": {
           "color": "#FFFFFF"
          },
          "showarrow": false,
          "text": "2.621",
          "x": "MARGINAL PROSPECT",
          "xref": "x",
          "y": "GOOD STARTER",
          "yref": "y"
         },
         {
          "font": {
           "color": "#FFFFFF"
          },
          "showarrow": false,
          "text": "",
          "x": "GOOD STARTER",
          "xref": "x",
          "y": "GOOD STARTER",
          "yref": "y"
         },
         {
          "font": {
           "color": "#FFFFFF"
          },
          "showarrow": false,
          "text": "",
          "x": "GOOD PROSPECT",
          "xref": "x",
          "y": "GOOD STARTER",
          "yref": "y"
         },
         {
          "font": {
           "color": "#FFFFFF"
          },
          "showarrow": false,
          "text": "3.0",
          "x": "GREAT PROSPECT",
          "xref": "x",
          "y": "GOOD STARTER",
          "yref": "y"
         },
         {
          "font": {
           "color": "#FFFFFF"
          },
          "showarrow": false,
          "text": "",
          "x": "MVP CANDIDATE",
          "xref": "x",
          "y": "GOOD STARTER",
          "yref": "y"
         },
         {
          "font": {
           "color": "#FFFFFF"
          },
          "showarrow": false,
          "text": "2.576",
          "x": "PROJECT",
          "xref": "x",
          "y": "GOOD STARTER",
          "yref": "y"
         },
         {
          "font": {
           "color": "#FFFFFF"
          },
          "showarrow": false,
          "text": "3.24",
          "x": "OK PROSPECT",
          "xref": "x",
          "y": "GOOD STARTER",
          "yref": "y"
         },
         {
          "font": {
           "color": "#FFFFFF"
          },
          "showarrow": false,
          "text": "3.01",
          "x": "ROTATION PLAYER",
          "xref": "x",
          "y": "GOOD STARTER",
          "yref": "y"
         },
         {
          "font": {
           "color": "#FFFFFF"
          },
          "showarrow": false,
          "text": "",
          "x": "DUBIOUS STARTER",
          "xref": "x",
          "y": "GOOD STARTER",
          "yref": "y"
         },
         {
          "font": {
           "color": "#FFFFFF"
          },
          "showarrow": false,
          "text": "",
          "x": "OFFENSIVE SPECIALIST",
          "xref": "x",
          "y": "GOOD STARTER",
          "yref": "y"
         },
         {
          "font": {
           "color": "#FFFFFF"
          },
          "showarrow": false,
          "text": "1.426",
          "x": "SCRUB",
          "xref": "x",
          "y": "GOOD STARTER",
          "yref": "y"
         },
         {
          "font": {
           "color": "#FFFFFF"
          },
          "showarrow": false,
          "text": "",
          "x": "SCRAPPY VETERAN",
          "xref": "x",
          "y": "GOOD STARTER",
          "yref": "y"
         },
         {
          "font": {
           "color": "#FFFFFF"
          },
          "showarrow": false,
          "text": "3.741",
          "x": "UP-AND-COMER",
          "xref": "x",
          "y": "GOOD STARTER",
          "yref": "y"
         },
         {
          "font": {
           "color": "#FFFFFF"
          },
          "showarrow": false,
          "text": "",
          "x": "ALL-STAR",
          "xref": "x",
          "y": "GOOD PROSPECT",
          "yref": "y"
         },
         {
          "font": {
           "color": "#FFFFFF"
          },
          "showarrow": false,
          "text": "",
          "x": "AVERAGE STARTER",
          "xref": "x",
          "y": "GOOD PROSPECT",
          "yref": "y"
         },
         {
          "font": {
           "color": "#FFFFFF"
          },
          "showarrow": false,
          "text": "",
          "x": "BORDERLINE ALL-STAR",
          "xref": "x",
          "y": "GOOD PROSPECT",
          "yref": "y"
         },
         {
          "font": {
           "color": "#FFFFFF"
          },
          "showarrow": false,
          "text": "",
          "x": "FUTURE ALL-STAR",
          "xref": "x",
          "y": "GOOD PROSPECT",
          "yref": "y"
         },
         {
          "font": {
           "color": "#FFFFFF"
          },
          "showarrow": false,
          "text": "1.33",
          "x": "KEY ROLE PLAYER",
          "xref": "x",
          "y": "GOOD PROSPECT",
          "yref": "y"
         },
         {
          "font": {
           "color": "#FFFFFF"
          },
          "showarrow": false,
          "text": "",
          "x": "DEFENSIVE SPECIALIST",
          "xref": "x",
          "y": "GOOD PROSPECT",
          "yref": "y"
         },
         {
          "font": {
           "color": "#FFFFFF"
          },
          "showarrow": false,
          "text": "1.67",
          "x": "MARGINAL PROSPECT",
          "xref": "x",
          "y": "GOOD PROSPECT",
          "yref": "y"
         },
         {
          "font": {
           "color": "#FFFFFF"
          },
          "showarrow": false,
          "text": "3.09",
          "x": "GOOD STARTER",
          "xref": "x",
          "y": "GOOD PROSPECT",
          "yref": "y"
         },
         {
          "font": {
           "color": "#FFFFFF"
          },
          "showarrow": false,
          "text": "",
          "x": "GOOD PROSPECT",
          "xref": "x",
          "y": "GOOD PROSPECT",
          "yref": "y"
         },
         {
          "font": {
           "color": "#FFFFFF"
          },
          "showarrow": false,
          "text": "",
          "x": "GREAT PROSPECT",
          "xref": "x",
          "y": "GOOD PROSPECT",
          "yref": "y"
         },
         {
          "font": {
           "color": "#FFFFFF"
          },
          "showarrow": false,
          "text": "",
          "x": "MVP CANDIDATE",
          "xref": "x",
          "y": "GOOD PROSPECT",
          "yref": "y"
         },
         {
          "font": {
           "color": "#FFFFFF"
          },
          "showarrow": false,
          "text": "2.081",
          "x": "PROJECT",
          "xref": "x",
          "y": "GOOD PROSPECT",
          "yref": "y"
         },
         {
          "font": {
           "color": "#FFFFFF"
          },
          "showarrow": false,
          "text": "",
          "x": "OK PROSPECT",
          "xref": "x",
          "y": "GOOD PROSPECT",
          "yref": "y"
         },
         {
          "font": {
           "color": "#FFFFFF"
          },
          "showarrow": false,
          "text": "1.979",
          "x": "ROTATION PLAYER",
          "xref": "x",
          "y": "GOOD PROSPECT",
          "yref": "y"
         },
         {
          "font": {
           "color": "#FFFFFF"
          },
          "showarrow": false,
          "text": "",
          "x": "DUBIOUS STARTER",
          "xref": "x",
          "y": "GOOD PROSPECT",
          "yref": "y"
         },
         {
          "font": {
           "color": "#FFFFFF"
          },
          "showarrow": false,
          "text": "",
          "x": "OFFENSIVE SPECIALIST",
          "xref": "x",
          "y": "GOOD PROSPECT",
          "yref": "y"
         },
         {
          "font": {
           "color": "#FFFFFF"
          },
          "showarrow": false,
          "text": "1.728",
          "x": "SCRUB",
          "xref": "x",
          "y": "GOOD PROSPECT",
          "yref": "y"
         },
         {
          "font": {
           "color": "#FFFFFF"
          },
          "showarrow": false,
          "text": "",
          "x": "SCRAPPY VETERAN",
          "xref": "x",
          "y": "GOOD PROSPECT",
          "yref": "y"
         },
         {
          "font": {
           "color": "#FFFFFF"
          },
          "showarrow": false,
          "text": "2.549",
          "x": "UP-AND-COMER",
          "xref": "x",
          "y": "GOOD PROSPECT",
          "yref": "y"
         },
         {
          "font": {
           "color": "#FFFFFF"
          },
          "showarrow": false,
          "text": "",
          "x": "ALL-STAR",
          "xref": "x",
          "y": "GREAT PROSPECT",
          "yref": "y"
         },
         {
          "font": {
           "color": "#FFFFFF"
          },
          "showarrow": false,
          "text": "",
          "x": "AVERAGE STARTER",
          "xref": "x",
          "y": "GREAT PROSPECT",
          "yref": "y"
         },
         {
          "font": {
           "color": "#FFFFFF"
          },
          "showarrow": false,
          "text": "",
          "x": "BORDERLINE ALL-STAR",
          "xref": "x",
          "y": "GREAT PROSPECT",
          "yref": "y"
         },
         {
          "font": {
           "color": "#FFFFFF"
          },
          "showarrow": false,
          "text": "",
          "x": "FUTURE ALL-STAR",
          "xref": "x",
          "y": "GREAT PROSPECT",
          "yref": "y"
         },
         {
          "font": {
           "color": "#FFFFFF"
          },
          "showarrow": false,
          "text": "3.24",
          "x": "KEY ROLE PLAYER",
          "xref": "x",
          "y": "GREAT PROSPECT",
          "yref": "y"
         },
         {
          "font": {
           "color": "#FFFFFF"
          },
          "showarrow": false,
          "text": "",
          "x": "DEFENSIVE SPECIALIST",
          "xref": "x",
          "y": "GREAT PROSPECT",
          "yref": "y"
         },
         {
          "font": {
           "color": "#FFFFFF"
          },
          "showarrow": false,
          "text": "2.03",
          "x": "MARGINAL PROSPECT",
          "xref": "x",
          "y": "GREAT PROSPECT",
          "yref": "y"
         },
         {
          "font": {
           "color": "#FFFFFF"
          },
          "showarrow": false,
          "text": "",
          "x": "GOOD STARTER",
          "xref": "x",
          "y": "GREAT PROSPECT",
          "yref": "y"
         },
         {
          "font": {
           "color": "#FFFFFF"
          },
          "showarrow": false,
          "text": "",
          "x": "GOOD PROSPECT",
          "xref": "x",
          "y": "GREAT PROSPECT",
          "yref": "y"
         },
         {
          "font": {
           "color": "#FFFFFF"
          },
          "showarrow": false,
          "text": "",
          "x": "GREAT PROSPECT",
          "xref": "x",
          "y": "GREAT PROSPECT",
          "yref": "y"
         },
         {
          "font": {
           "color": "#FFFFFF"
          },
          "showarrow": false,
          "text": "2.05",
          "x": "MVP CANDIDATE",
          "xref": "x",
          "y": "GREAT PROSPECT",
          "yref": "y"
         },
         {
          "font": {
           "color": "#FFFFFF"
          },
          "showarrow": false,
          "text": "2.584",
          "x": "PROJECT",
          "xref": "x",
          "y": "GREAT PROSPECT",
          "yref": "y"
         },
         {
          "font": {
           "color": "#FFFFFF"
          },
          "showarrow": false,
          "text": "6.19",
          "x": "OK PROSPECT",
          "xref": "x",
          "y": "GREAT PROSPECT",
          "yref": "y"
         },
         {
          "font": {
           "color": "#FFFFFF"
          },
          "showarrow": false,
          "text": "2.373",
          "x": "ROTATION PLAYER",
          "xref": "x",
          "y": "GREAT PROSPECT",
          "yref": "y"
         },
         {
          "font": {
           "color": "#FFFFFF"
          },
          "showarrow": false,
          "text": "",
          "x": "DUBIOUS STARTER",
          "xref": "x",
          "y": "GREAT PROSPECT",
          "yref": "y"
         },
         {
          "font": {
           "color": "#FFFFFF"
          },
          "showarrow": false,
          "text": "",
          "x": "OFFENSIVE SPECIALIST",
          "xref": "x",
          "y": "GREAT PROSPECT",
          "yref": "y"
         },
         {
          "font": {
           "color": "#FFFFFF"
          },
          "showarrow": false,
          "text": "1.593",
          "x": "SCRUB",
          "xref": "x",
          "y": "GREAT PROSPECT",
          "yref": "y"
         },
         {
          "font": {
           "color": "#FFFFFF"
          },
          "showarrow": false,
          "text": "",
          "x": "SCRAPPY VETERAN",
          "xref": "x",
          "y": "GREAT PROSPECT",
          "yref": "y"
         },
         {
          "font": {
           "color": "#FFFFFF"
          },
          "showarrow": false,
          "text": "",
          "x": "UP-AND-COMER",
          "xref": "x",
          "y": "GREAT PROSPECT",
          "yref": "y"
         },
         {
          "font": {
           "color": "#FFFFFF"
          },
          "showarrow": false,
          "text": "",
          "x": "ALL-STAR",
          "xref": "x",
          "y": "MVP CANDIDATE",
          "yref": "y"
         },
         {
          "font": {
           "color": "#FFFFFF"
          },
          "showarrow": false,
          "text": "",
          "x": "AVERAGE STARTER",
          "xref": "x",
          "y": "MVP CANDIDATE",
          "yref": "y"
         },
         {
          "font": {
           "color": "#FFFFFF"
          },
          "showarrow": false,
          "text": "",
          "x": "BORDERLINE ALL-STAR",
          "xref": "x",
          "y": "MVP CANDIDATE",
          "yref": "y"
         },
         {
          "font": {
           "color": "#FFFFFF"
          },
          "showarrow": false,
          "text": "",
          "x": "FUTURE ALL-STAR",
          "xref": "x",
          "y": "MVP CANDIDATE",
          "yref": "y"
         },
         {
          "font": {
           "color": "#FFFFFF"
          },
          "showarrow": false,
          "text": "",
          "x": "KEY ROLE PLAYER",
          "xref": "x",
          "y": "MVP CANDIDATE",
          "yref": "y"
         },
         {
          "font": {
           "color": "#FFFFFF"
          },
          "showarrow": false,
          "text": "",
          "x": "DEFENSIVE SPECIALIST",
          "xref": "x",
          "y": "MVP CANDIDATE",
          "yref": "y"
         },
         {
          "font": {
           "color": "#FFFFFF"
          },
          "showarrow": false,
          "text": "",
          "x": "MARGINAL PROSPECT",
          "xref": "x",
          "y": "MVP CANDIDATE",
          "yref": "y"
         },
         {
          "font": {
           "color": "#FFFFFF"
          },
          "showarrow": false,
          "text": "",
          "x": "GOOD STARTER",
          "xref": "x",
          "y": "MVP CANDIDATE",
          "yref": "y"
         },
         {
          "font": {
           "color": "#FFFFFF"
          },
          "showarrow": false,
          "text": "",
          "x": "GOOD PROSPECT",
          "xref": "x",
          "y": "MVP CANDIDATE",
          "yref": "y"
         },
         {
          "font": {
           "color": "#FFFFFF"
          },
          "showarrow": false,
          "text": "",
          "x": "GREAT PROSPECT",
          "xref": "x",
          "y": "MVP CANDIDATE",
          "yref": "y"
         },
         {
          "font": {
           "color": "#FFFFFF"
          },
          "showarrow": false,
          "text": "",
          "x": "MVP CANDIDATE",
          "xref": "x",
          "y": "MVP CANDIDATE",
          "yref": "y"
         },
         {
          "font": {
           "color": "#FFFFFF"
          },
          "showarrow": false,
          "text": "4.06",
          "x": "PROJECT",
          "xref": "x",
          "y": "MVP CANDIDATE",
          "yref": "y"
         },
         {
          "font": {
           "color": "#FFFFFF"
          },
          "showarrow": false,
          "text": "6.16",
          "x": "OK PROSPECT",
          "xref": "x",
          "y": "MVP CANDIDATE",
          "yref": "y"
         },
         {
          "font": {
           "color": "#FFFFFF"
          },
          "showarrow": false,
          "text": "3.103",
          "x": "ROTATION PLAYER",
          "xref": "x",
          "y": "MVP CANDIDATE",
          "yref": "y"
         },
         {
          "font": {
           "color": "#FFFFFF"
          },
          "showarrow": false,
          "text": "",
          "x": "DUBIOUS STARTER",
          "xref": "x",
          "y": "MVP CANDIDATE",
          "yref": "y"
         },
         {
          "font": {
           "color": "#FFFFFF"
          },
          "showarrow": false,
          "text": "",
          "x": "OFFENSIVE SPECIALIST",
          "xref": "x",
          "y": "MVP CANDIDATE",
          "yref": "y"
         },
         {
          "font": {
           "color": "#FFFFFF"
          },
          "showarrow": false,
          "text": "3.331",
          "x": "SCRUB",
          "xref": "x",
          "y": "MVP CANDIDATE",
          "yref": "y"
         },
         {
          "font": {
           "color": "#FFFFFF"
          },
          "showarrow": false,
          "text": "4.04",
          "x": "SCRAPPY VETERAN",
          "xref": "x",
          "y": "MVP CANDIDATE",
          "yref": "y"
         },
         {
          "font": {
           "color": "#FFFFFF"
          },
          "showarrow": false,
          "text": "4.584",
          "x": "UP-AND-COMER",
          "xref": "x",
          "y": "MVP CANDIDATE",
          "yref": "y"
         },
         {
          "font": {
           "color": "#FFFFFF"
          },
          "showarrow": false,
          "text": "",
          "x": "ALL-STAR",
          "xref": "x",
          "y": "PROJECT",
          "yref": "y"
         },
         {
          "font": {
           "color": "#FFFFFF"
          },
          "showarrow": false,
          "text": "",
          "x": "AVERAGE STARTER",
          "xref": "x",
          "y": "PROJECT",
          "yref": "y"
         },
         {
          "font": {
           "color": "#FFFFFF"
          },
          "showarrow": false,
          "text": "",
          "x": "BORDERLINE ALL-STAR",
          "xref": "x",
          "y": "PROJECT",
          "yref": "y"
         },
         {
          "font": {
           "color": "#FFFFFF"
          },
          "showarrow": false,
          "text": "",
          "x": "FUTURE ALL-STAR",
          "xref": "x",
          "y": "PROJECT",
          "yref": "y"
         },
         {
          "font": {
           "color": "#FFFFFF"
          },
          "showarrow": false,
          "text": "",
          "x": "KEY ROLE PLAYER",
          "xref": "x",
          "y": "PROJECT",
          "yref": "y"
         },
         {
          "font": {
           "color": "#FFFFFF"
          },
          "showarrow": false,
          "text": "",
          "x": "DEFENSIVE SPECIALIST",
          "xref": "x",
          "y": "PROJECT",
          "yref": "y"
         },
         {
          "font": {
           "color": "#FFFFFF"
          },
          "showarrow": false,
          "text": "",
          "x": "MARGINAL PROSPECT",
          "xref": "x",
          "y": "PROJECT",
          "yref": "y"
         },
         {
          "font": {
           "color": "#FFFFFF"
          },
          "showarrow": false,
          "text": "",
          "x": "GOOD STARTER",
          "xref": "x",
          "y": "PROJECT",
          "yref": "y"
         },
         {
          "font": {
           "color": "#FFFFFF"
          },
          "showarrow": false,
          "text": "",
          "x": "GOOD PROSPECT",
          "xref": "x",
          "y": "PROJECT",
          "yref": "y"
         },
         {
          "font": {
           "color": "#FFFFFF"
          },
          "showarrow": false,
          "text": "",
          "x": "GREAT PROSPECT",
          "xref": "x",
          "y": "PROJECT",
          "yref": "y"
         },
         {
          "font": {
           "color": "#FFFFFF"
          },
          "showarrow": false,
          "text": "",
          "x": "MVP CANDIDATE",
          "xref": "x",
          "y": "PROJECT",
          "yref": "y"
         },
         {
          "font": {
           "color": "#FFFFFF"
          },
          "showarrow": false,
          "text": "1.753",
          "x": "PROJECT",
          "xref": "x",
          "y": "PROJECT",
          "yref": "y"
         },
         {
          "font": {
           "color": "#FFFFFF"
          },
          "showarrow": false,
          "text": "",
          "x": "OK PROSPECT",
          "xref": "x",
          "y": "PROJECT",
          "yref": "y"
         },
         {
          "font": {
           "color": "#FFFFFF"
          },
          "showarrow": false,
          "text": "2.331",
          "x": "ROTATION PLAYER",
          "xref": "x",
          "y": "PROJECT",
          "yref": "y"
         },
         {
          "font": {
           "color": "#FFFFFF"
          },
          "showarrow": false,
          "text": "",
          "x": "DUBIOUS STARTER",
          "xref": "x",
          "y": "PROJECT",
          "yref": "y"
         },
         {
          "font": {
           "color": "#FFFFFF"
          },
          "showarrow": false,
          "text": "",
          "x": "OFFENSIVE SPECIALIST",
          "xref": "x",
          "y": "PROJECT",
          "yref": "y"
         },
         {
          "font": {
           "color": "#FFFFFF"
          },
          "showarrow": false,
          "text": "1.981",
          "x": "SCRUB",
          "xref": "x",
          "y": "PROJECT",
          "yref": "y"
         },
         {
          "font": {
           "color": "#FFFFFF"
          },
          "showarrow": false,
          "text": "2.649",
          "x": "SCRAPPY VETERAN",
          "xref": "x",
          "y": "PROJECT",
          "yref": "y"
         },
         {
          "font": {
           "color": "#FFFFFF"
          },
          "showarrow": false,
          "text": "2.094",
          "x": "UP-AND-COMER",
          "xref": "x",
          "y": "PROJECT",
          "yref": "y"
         },
         {
          "font": {
           "color": "#FFFFFF"
          },
          "showarrow": false,
          "text": "",
          "x": "ALL-STAR",
          "xref": "x",
          "y": "OK PROSPECT",
          "yref": "y"
         },
         {
          "font": {
           "color": "#FFFFFF"
          },
          "showarrow": false,
          "text": "",
          "x": "AVERAGE STARTER",
          "xref": "x",
          "y": "OK PROSPECT",
          "yref": "y"
         },
         {
          "font": {
           "color": "#FFFFFF"
          },
          "showarrow": false,
          "text": "",
          "x": "BORDERLINE ALL-STAR",
          "xref": "x",
          "y": "OK PROSPECT",
          "yref": "y"
         },
         {
          "font": {
           "color": "#FFFFFF"
          },
          "showarrow": false,
          "text": "",
          "x": "FUTURE ALL-STAR",
          "xref": "x",
          "y": "OK PROSPECT",
          "yref": "y"
         },
         {
          "font": {
           "color": "#FFFFFF"
          },
          "showarrow": false,
          "text": "",
          "x": "KEY ROLE PLAYER",
          "xref": "x",
          "y": "OK PROSPECT",
          "yref": "y"
         },
         {
          "font": {
           "color": "#FFFFFF"
          },
          "showarrow": false,
          "text": "",
          "x": "DEFENSIVE SPECIALIST",
          "xref": "x",
          "y": "OK PROSPECT",
          "yref": "y"
         },
         {
          "font": {
           "color": "#FFFFFF"
          },
          "showarrow": false,
          "text": "",
          "x": "MARGINAL PROSPECT",
          "xref": "x",
          "y": "OK PROSPECT",
          "yref": "y"
         },
         {
          "font": {
           "color": "#FFFFFF"
          },
          "showarrow": false,
          "text": "",
          "x": "GOOD STARTER",
          "xref": "x",
          "y": "OK PROSPECT",
          "yref": "y"
         },
         {
          "font": {
           "color": "#FFFFFF"
          },
          "showarrow": false,
          "text": "",
          "x": "GOOD PROSPECT",
          "xref": "x",
          "y": "OK PROSPECT",
          "yref": "y"
         },
         {
          "font": {
           "color": "#FFFFFF"
          },
          "showarrow": false,
          "text": "",
          "x": "GREAT PROSPECT",
          "xref": "x",
          "y": "OK PROSPECT",
          "yref": "y"
         },
         {
          "font": {
           "color": "#FFFFFF"
          },
          "showarrow": false,
          "text": "",
          "x": "MVP CANDIDATE",
          "xref": "x",
          "y": "OK PROSPECT",
          "yref": "y"
         },
         {
          "font": {
           "color": "#FFFFFF"
          },
          "showarrow": false,
          "text": "2.192",
          "x": "PROJECT",
          "xref": "x",
          "y": "OK PROSPECT",
          "yref": "y"
         },
         {
          "font": {
           "color": "#FFFFFF"
          },
          "showarrow": false,
          "text": "2.039",
          "x": "OK PROSPECT",
          "xref": "x",
          "y": "OK PROSPECT",
          "yref": "y"
         },
         {
          "font": {
           "color": "#FFFFFF"
          },
          "showarrow": false,
          "text": "1.921",
          "x": "ROTATION PLAYER",
          "xref": "x",
          "y": "OK PROSPECT",
          "yref": "y"
         },
         {
          "font": {
           "color": "#FFFFFF"
          },
          "showarrow": false,
          "text": "",
          "x": "DUBIOUS STARTER",
          "xref": "x",
          "y": "OK PROSPECT",
          "yref": "y"
         },
         {
          "font": {
           "color": "#FFFFFF"
          },
          "showarrow": false,
          "text": "",
          "x": "OFFENSIVE SPECIALIST",
          "xref": "x",
          "y": "OK PROSPECT",
          "yref": "y"
         },
         {
          "font": {
           "color": "#FFFFFF"
          },
          "showarrow": false,
          "text": "1.811",
          "x": "SCRUB",
          "xref": "x",
          "y": "OK PROSPECT",
          "yref": "y"
         },
         {
          "font": {
           "color": "#FFFFFF"
          },
          "showarrow": false,
          "text": "2.044",
          "x": "SCRAPPY VETERAN",
          "xref": "x",
          "y": "OK PROSPECT",
          "yref": "y"
         },
         {
          "font": {
           "color": "#FFFFFF"
          },
          "showarrow": false,
          "text": "2.633",
          "x": "UP-AND-COMER",
          "xref": "x",
          "y": "OK PROSPECT",
          "yref": "y"
         },
         {
          "font": {
           "color": "#FFFFFF"
          },
          "showarrow": false,
          "text": "",
          "x": "ALL-STAR",
          "xref": "x",
          "y": "ROTATION PLAYER",
          "yref": "y"
         },
         {
          "font": {
           "color": "#FFFFFF"
          },
          "showarrow": false,
          "text": "",
          "x": "AVERAGE STARTER",
          "xref": "x",
          "y": "ROTATION PLAYER",
          "yref": "y"
         },
         {
          "font": {
           "color": "#FFFFFF"
          },
          "showarrow": false,
          "text": "",
          "x": "BORDERLINE ALL-STAR",
          "xref": "x",
          "y": "ROTATION PLAYER",
          "yref": "y"
         },
         {
          "font": {
           "color": "#FFFFFF"
          },
          "showarrow": false,
          "text": "",
          "x": "FUTURE ALL-STAR",
          "xref": "x",
          "y": "ROTATION PLAYER",
          "yref": "y"
         },
         {
          "font": {
           "color": "#FFFFFF"
          },
          "showarrow": false,
          "text": "",
          "x": "KEY ROLE PLAYER",
          "xref": "x",
          "y": "ROTATION PLAYER",
          "yref": "y"
         },
         {
          "font": {
           "color": "#FFFFFF"
          },
          "showarrow": false,
          "text": "",
          "x": "DEFENSIVE SPECIALIST",
          "xref": "x",
          "y": "ROTATION PLAYER",
          "yref": "y"
         },
         {
          "font": {
           "color": "#FFFFFF"
          },
          "showarrow": false,
          "text": "",
          "x": "MARGINAL PROSPECT",
          "xref": "x",
          "y": "ROTATION PLAYER",
          "yref": "y"
         },
         {
          "font": {
           "color": "#FFFFFF"
          },
          "showarrow": false,
          "text": "",
          "x": "GOOD STARTER",
          "xref": "x",
          "y": "ROTATION PLAYER",
          "yref": "y"
         },
         {
          "font": {
           "color": "#FFFFFF"
          },
          "showarrow": false,
          "text": "",
          "x": "GOOD PROSPECT",
          "xref": "x",
          "y": "ROTATION PLAYER",
          "yref": "y"
         },
         {
          "font": {
           "color": "#FFFFFF"
          },
          "showarrow": false,
          "text": "",
          "x": "GREAT PROSPECT",
          "xref": "x",
          "y": "ROTATION PLAYER",
          "yref": "y"
         },
         {
          "font": {
           "color": "#FFFFFF"
          },
          "showarrow": false,
          "text": "",
          "x": "MVP CANDIDATE",
          "xref": "x",
          "y": "ROTATION PLAYER",
          "yref": "y"
         },
         {
          "font": {
           "color": "#FFFFFF"
          },
          "showarrow": false,
          "text": "",
          "x": "PROJECT",
          "xref": "x",
          "y": "ROTATION PLAYER",
          "yref": "y"
         },
         {
          "font": {
           "color": "#FFFFFF"
          },
          "showarrow": false,
          "text": "",
          "x": "OK PROSPECT",
          "xref": "x",
          "y": "ROTATION PLAYER",
          "yref": "y"
         },
         {
          "font": {
           "color": "#FFFFFF"
          },
          "showarrow": false,
          "text": "2.427",
          "x": "ROTATION PLAYER",
          "xref": "x",
          "y": "ROTATION PLAYER",
          "yref": "y"
         },
         {
          "font": {
           "color": "#FFFFFF"
          },
          "showarrow": false,
          "text": "",
          "x": "DUBIOUS STARTER",
          "xref": "x",
          "y": "ROTATION PLAYER",
          "yref": "y"
         },
         {
          "font": {
           "color": "#FFFFFF"
          },
          "showarrow": false,
          "text": "",
          "x": "OFFENSIVE SPECIALIST",
          "xref": "x",
          "y": "ROTATION PLAYER",
          "yref": "y"
         },
         {
          "font": {
           "color": "#FFFFFF"
          },
          "showarrow": false,
          "text": "2.075",
          "x": "SCRUB",
          "xref": "x",
          "y": "ROTATION PLAYER",
          "yref": "y"
         },
         {
          "font": {
           "color": "#FFFFFF"
          },
          "showarrow": false,
          "text": "1.834",
          "x": "SCRAPPY VETERAN",
          "xref": "x",
          "y": "ROTATION PLAYER",
          "yref": "y"
         },
         {
          "font": {
           "color": "#FFFFFF"
          },
          "showarrow": false,
          "text": "2.633",
          "x": "UP-AND-COMER",
          "xref": "x",
          "y": "ROTATION PLAYER",
          "yref": "y"
         },
         {
          "font": {
           "color": "#FFFFFF"
          },
          "showarrow": false,
          "text": "",
          "x": "ALL-STAR",
          "xref": "x",
          "y": "DUBIOUS STARTER",
          "yref": "y"
         },
         {
          "font": {
           "color": "#FFFFFF"
          },
          "showarrow": false,
          "text": "",
          "x": "AVERAGE STARTER",
          "xref": "x",
          "y": "DUBIOUS STARTER",
          "yref": "y"
         },
         {
          "font": {
           "color": "#FFFFFF"
          },
          "showarrow": false,
          "text": "",
          "x": "BORDERLINE ALL-STAR",
          "xref": "x",
          "y": "DUBIOUS STARTER",
          "yref": "y"
         },
         {
          "font": {
           "color": "#FFFFFF"
          },
          "showarrow": false,
          "text": "",
          "x": "FUTURE ALL-STAR",
          "xref": "x",
          "y": "DUBIOUS STARTER",
          "yref": "y"
         },
         {
          "font": {
           "color": "#FFFFFF"
          },
          "showarrow": false,
          "text": "",
          "x": "KEY ROLE PLAYER",
          "xref": "x",
          "y": "DUBIOUS STARTER",
          "yref": "y"
         },
         {
          "font": {
           "color": "#FFFFFF"
          },
          "showarrow": false,
          "text": "",
          "x": "DEFENSIVE SPECIALIST",
          "xref": "x",
          "y": "DUBIOUS STARTER",
          "yref": "y"
         },
         {
          "font": {
           "color": "#FFFFFF"
          },
          "showarrow": false,
          "text": "",
          "x": "MARGINAL PROSPECT",
          "xref": "x",
          "y": "DUBIOUS STARTER",
          "yref": "y"
         },
         {
          "font": {
           "color": "#FFFFFF"
          },
          "showarrow": false,
          "text": "",
          "x": "GOOD STARTER",
          "xref": "x",
          "y": "DUBIOUS STARTER",
          "yref": "y"
         },
         {
          "font": {
           "color": "#FFFFFF"
          },
          "showarrow": false,
          "text": "",
          "x": "GOOD PROSPECT",
          "xref": "x",
          "y": "DUBIOUS STARTER",
          "yref": "y"
         },
         {
          "font": {
           "color": "#FFFFFF"
          },
          "showarrow": false,
          "text": "",
          "x": "GREAT PROSPECT",
          "xref": "x",
          "y": "DUBIOUS STARTER",
          "yref": "y"
         },
         {
          "font": {
           "color": "#FFFFFF"
          },
          "showarrow": false,
          "text": "",
          "x": "MVP CANDIDATE",
          "xref": "x",
          "y": "DUBIOUS STARTER",
          "yref": "y"
         },
         {
          "font": {
           "color": "#FFFFFF"
          },
          "showarrow": false,
          "text": "4.55",
          "x": "PROJECT",
          "xref": "x",
          "y": "DUBIOUS STARTER",
          "yref": "y"
         },
         {
          "font": {
           "color": "#FFFFFF"
          },
          "showarrow": false,
          "text": "",
          "x": "OK PROSPECT",
          "xref": "x",
          "y": "DUBIOUS STARTER",
          "yref": "y"
         },
         {
          "font": {
           "color": "#FFFFFF"
          },
          "showarrow": false,
          "text": "1.657",
          "x": "ROTATION PLAYER",
          "xref": "x",
          "y": "DUBIOUS STARTER",
          "yref": "y"
         },
         {
          "font": {
           "color": "#FFFFFF"
          },
          "showarrow": false,
          "text": "",
          "x": "DUBIOUS STARTER",
          "xref": "x",
          "y": "DUBIOUS STARTER",
          "yref": "y"
         },
         {
          "font": {
           "color": "#FFFFFF"
          },
          "showarrow": false,
          "text": "",
          "x": "OFFENSIVE SPECIALIST",
          "xref": "x",
          "y": "DUBIOUS STARTER",
          "yref": "y"
         },
         {
          "font": {
           "color": "#FFFFFF"
          },
          "showarrow": false,
          "text": "1.57",
          "x": "SCRUB",
          "xref": "x",
          "y": "DUBIOUS STARTER",
          "yref": "y"
         },
         {
          "font": {
           "color": "#FFFFFF"
          },
          "showarrow": false,
          "text": "",
          "x": "SCRAPPY VETERAN",
          "xref": "x",
          "y": "DUBIOUS STARTER",
          "yref": "y"
         },
         {
          "font": {
           "color": "#FFFFFF"
          },
          "showarrow": false,
          "text": "1.04",
          "x": "UP-AND-COMER",
          "xref": "x",
          "y": "DUBIOUS STARTER",
          "yref": "y"
         },
         {
          "font": {
           "color": "#FFFFFF"
          },
          "showarrow": false,
          "text": "",
          "x": "ALL-STAR",
          "xref": "x",
          "y": "OFFENSIVE SPECIALIST",
          "yref": "y"
         },
         {
          "font": {
           "color": "#FFFFFF"
          },
          "showarrow": false,
          "text": "",
          "x": "AVERAGE STARTER",
          "xref": "x",
          "y": "OFFENSIVE SPECIALIST",
          "yref": "y"
         },
         {
          "font": {
           "color": "#FFFFFF"
          },
          "showarrow": false,
          "text": "",
          "x": "BORDERLINE ALL-STAR",
          "xref": "x",
          "y": "OFFENSIVE SPECIALIST",
          "yref": "y"
         },
         {
          "font": {
           "color": "#FFFFFF"
          },
          "showarrow": false,
          "text": "",
          "x": "FUTURE ALL-STAR",
          "xref": "x",
          "y": "OFFENSIVE SPECIALIST",
          "yref": "y"
         },
         {
          "font": {
           "color": "#FFFFFF"
          },
          "showarrow": false,
          "text": "",
          "x": "KEY ROLE PLAYER",
          "xref": "x",
          "y": "OFFENSIVE SPECIALIST",
          "yref": "y"
         },
         {
          "font": {
           "color": "#FFFFFF"
          },
          "showarrow": false,
          "text": "",
          "x": "DEFENSIVE SPECIALIST",
          "xref": "x",
          "y": "OFFENSIVE SPECIALIST",
          "yref": "y"
         },
         {
          "font": {
           "color": "#FFFFFF"
          },
          "showarrow": false,
          "text": "",
          "x": "MARGINAL PROSPECT",
          "xref": "x",
          "y": "OFFENSIVE SPECIALIST",
          "yref": "y"
         },
         {
          "font": {
           "color": "#FFFFFF"
          },
          "showarrow": false,
          "text": "",
          "x": "GOOD STARTER",
          "xref": "x",
          "y": "OFFENSIVE SPECIALIST",
          "yref": "y"
         },
         {
          "font": {
           "color": "#FFFFFF"
          },
          "showarrow": false,
          "text": "",
          "x": "GOOD PROSPECT",
          "xref": "x",
          "y": "OFFENSIVE SPECIALIST",
          "yref": "y"
         },
         {
          "font": {
           "color": "#FFFFFF"
          },
          "showarrow": false,
          "text": "",
          "x": "GREAT PROSPECT",
          "xref": "x",
          "y": "OFFENSIVE SPECIALIST",
          "yref": "y"
         },
         {
          "font": {
           "color": "#FFFFFF"
          },
          "showarrow": false,
          "text": "",
          "x": "MVP CANDIDATE",
          "xref": "x",
          "y": "OFFENSIVE SPECIALIST",
          "yref": "y"
         },
         {
          "font": {
           "color": "#FFFFFF"
          },
          "showarrow": false,
          "text": "1.75",
          "x": "PROJECT",
          "xref": "x",
          "y": "OFFENSIVE SPECIALIST",
          "yref": "y"
         },
         {
          "font": {
           "color": "#FFFFFF"
          },
          "showarrow": false,
          "text": "",
          "x": "OK PROSPECT",
          "xref": "x",
          "y": "OFFENSIVE SPECIALIST",
          "yref": "y"
         },
         {
          "font": {
           "color": "#FFFFFF"
          },
          "showarrow": false,
          "text": "3.052",
          "x": "ROTATION PLAYER",
          "xref": "x",
          "y": "OFFENSIVE SPECIALIST",
          "yref": "y"
         },
         {
          "font": {
           "color": "#FFFFFF"
          },
          "showarrow": false,
          "text": "",
          "x": "DUBIOUS STARTER",
          "xref": "x",
          "y": "OFFENSIVE SPECIALIST",
          "yref": "y"
         },
         {
          "font": {
           "color": "#FFFFFF"
          },
          "showarrow": false,
          "text": "",
          "x": "OFFENSIVE SPECIALIST",
          "xref": "x",
          "y": "OFFENSIVE SPECIALIST",
          "yref": "y"
         },
         {
          "font": {
           "color": "#FFFFFF"
          },
          "showarrow": false,
          "text": "2.649",
          "x": "SCRUB",
          "xref": "x",
          "y": "OFFENSIVE SPECIALIST",
          "yref": "y"
         },
         {
          "font": {
           "color": "#FFFFFF"
          },
          "showarrow": false,
          "text": "",
          "x": "SCRAPPY VETERAN",
          "xref": "x",
          "y": "OFFENSIVE SPECIALIST",
          "yref": "y"
         },
         {
          "font": {
           "color": "#FFFFFF"
          },
          "showarrow": false,
          "text": "",
          "x": "UP-AND-COMER",
          "xref": "x",
          "y": "OFFENSIVE SPECIALIST",
          "yref": "y"
         },
         {
          "font": {
           "color": "#FFFFFF"
          },
          "showarrow": false,
          "text": "",
          "x": "ALL-STAR",
          "xref": "x",
          "y": "SCRUB",
          "yref": "y"
         },
         {
          "font": {
           "color": "#FFFFFF"
          },
          "showarrow": false,
          "text": "",
          "x": "AVERAGE STARTER",
          "xref": "x",
          "y": "SCRUB",
          "yref": "y"
         },
         {
          "font": {
           "color": "#FFFFFF"
          },
          "showarrow": false,
          "text": "",
          "x": "BORDERLINE ALL-STAR",
          "xref": "x",
          "y": "SCRUB",
          "yref": "y"
         },
         {
          "font": {
           "color": "#FFFFFF"
          },
          "showarrow": false,
          "text": "",
          "x": "FUTURE ALL-STAR",
          "xref": "x",
          "y": "SCRUB",
          "yref": "y"
         },
         {
          "font": {
           "color": "#FFFFFF"
          },
          "showarrow": false,
          "text": "",
          "x": "KEY ROLE PLAYER",
          "xref": "x",
          "y": "SCRUB",
          "yref": "y"
         },
         {
          "font": {
           "color": "#FFFFFF"
          },
          "showarrow": false,
          "text": "",
          "x": "DEFENSIVE SPECIALIST",
          "xref": "x",
          "y": "SCRUB",
          "yref": "y"
         },
         {
          "font": {
           "color": "#FFFFFF"
          },
          "showarrow": false,
          "text": "",
          "x": "MARGINAL PROSPECT",
          "xref": "x",
          "y": "SCRUB",
          "yref": "y"
         },
         {
          "font": {
           "color": "#FFFFFF"
          },
          "showarrow": false,
          "text": "",
          "x": "GOOD STARTER",
          "xref": "x",
          "y": "SCRUB",
          "yref": "y"
         },
         {
          "font": {
           "color": "#FFFFFF"
          },
          "showarrow": false,
          "text": "",
          "x": "GOOD PROSPECT",
          "xref": "x",
          "y": "SCRUB",
          "yref": "y"
         },
         {
          "font": {
           "color": "#FFFFFF"
          },
          "showarrow": false,
          "text": "",
          "x": "GREAT PROSPECT",
          "xref": "x",
          "y": "SCRUB",
          "yref": "y"
         },
         {
          "font": {
           "color": "#FFFFFF"
          },
          "showarrow": false,
          "text": "",
          "x": "MVP CANDIDATE",
          "xref": "x",
          "y": "SCRUB",
          "yref": "y"
         },
         {
          "font": {
           "color": "#FFFFFF"
          },
          "showarrow": false,
          "text": "",
          "x": "PROJECT",
          "xref": "x",
          "y": "SCRUB",
          "yref": "y"
         },
         {
          "font": {
           "color": "#FFFFFF"
          },
          "showarrow": false,
          "text": "",
          "x": "OK PROSPECT",
          "xref": "x",
          "y": "SCRUB",
          "yref": "y"
         },
         {
          "font": {
           "color": "#FFFFFF"
          },
          "showarrow": false,
          "text": "",
          "x": "ROTATION PLAYER",
          "xref": "x",
          "y": "SCRUB",
          "yref": "y"
         },
         {
          "font": {
           "color": "#FFFFFF"
          },
          "showarrow": false,
          "text": "",
          "x": "DUBIOUS STARTER",
          "xref": "x",
          "y": "SCRUB",
          "yref": "y"
         },
         {
          "font": {
           "color": "#FFFFFF"
          },
          "showarrow": false,
          "text": "",
          "x": "OFFENSIVE SPECIALIST",
          "xref": "x",
          "y": "SCRUB",
          "yref": "y"
         },
         {
          "font": {
           "color": "#FFFFFF"
          },
          "showarrow": false,
          "text": "1.597",
          "x": "SCRUB",
          "xref": "x",
          "y": "SCRUB",
          "yref": "y"
         },
         {
          "font": {
           "color": "#FFFFFF"
          },
          "showarrow": false,
          "text": "",
          "x": "SCRAPPY VETERAN",
          "xref": "x",
          "y": "SCRUB",
          "yref": "y"
         },
         {
          "font": {
           "color": "#FFFFFF"
          },
          "showarrow": false,
          "text": "2.382",
          "x": "UP-AND-COMER",
          "xref": "x",
          "y": "SCRUB",
          "yref": "y"
         },
         {
          "font": {
           "color": "#FFFFFF"
          },
          "showarrow": false,
          "text": "",
          "x": "ALL-STAR",
          "xref": "x",
          "y": "SCRAPPY VETERAN",
          "yref": "y"
         },
         {
          "font": {
           "color": "#FFFFFF"
          },
          "showarrow": false,
          "text": "",
          "x": "AVERAGE STARTER",
          "xref": "x",
          "y": "SCRAPPY VETERAN",
          "yref": "y"
         },
         {
          "font": {
           "color": "#FFFFFF"
          },
          "showarrow": false,
          "text": "",
          "x": "BORDERLINE ALL-STAR",
          "xref": "x",
          "y": "SCRAPPY VETERAN",
          "yref": "y"
         },
         {
          "font": {
           "color": "#FFFFFF"
          },
          "showarrow": false,
          "text": "",
          "x": "FUTURE ALL-STAR",
          "xref": "x",
          "y": "SCRAPPY VETERAN",
          "yref": "y"
         },
         {
          "font": {
           "color": "#FFFFFF"
          },
          "showarrow": false,
          "text": "",
          "x": "KEY ROLE PLAYER",
          "xref": "x",
          "y": "SCRAPPY VETERAN",
          "yref": "y"
         },
         {
          "font": {
           "color": "#FFFFFF"
          },
          "showarrow": false,
          "text": "",
          "x": "DEFENSIVE SPECIALIST",
          "xref": "x",
          "y": "SCRAPPY VETERAN",
          "yref": "y"
         },
         {
          "font": {
           "color": "#FFFFFF"
          },
          "showarrow": false,
          "text": "",
          "x": "MARGINAL PROSPECT",
          "xref": "x",
          "y": "SCRAPPY VETERAN",
          "yref": "y"
         },
         {
          "font": {
           "color": "#FFFFFF"
          },
          "showarrow": false,
          "text": "",
          "x": "GOOD STARTER",
          "xref": "x",
          "y": "SCRAPPY VETERAN",
          "yref": "y"
         },
         {
          "font": {
           "color": "#FFFFFF"
          },
          "showarrow": false,
          "text": "",
          "x": "GOOD PROSPECT",
          "xref": "x",
          "y": "SCRAPPY VETERAN",
          "yref": "y"
         },
         {
          "font": {
           "color": "#FFFFFF"
          },
          "showarrow": false,
          "text": "",
          "x": "GREAT PROSPECT",
          "xref": "x",
          "y": "SCRAPPY VETERAN",
          "yref": "y"
         },
         {
          "font": {
           "color": "#FFFFFF"
          },
          "showarrow": false,
          "text": "",
          "x": "MVP CANDIDATE",
          "xref": "x",
          "y": "SCRAPPY VETERAN",
          "yref": "y"
         },
         {
          "font": {
           "color": "#FFFFFF"
          },
          "showarrow": false,
          "text": "",
          "x": "PROJECT",
          "xref": "x",
          "y": "SCRAPPY VETERAN",
          "yref": "y"
         },
         {
          "font": {
           "color": "#FFFFFF"
          },
          "showarrow": false,
          "text": "",
          "x": "OK PROSPECT",
          "xref": "x",
          "y": "SCRAPPY VETERAN",
          "yref": "y"
         },
         {
          "font": {
           "color": "#FFFFFF"
          },
          "showarrow": false,
          "text": "",
          "x": "ROTATION PLAYER",
          "xref": "x",
          "y": "SCRAPPY VETERAN",
          "yref": "y"
         },
         {
          "font": {
           "color": "#FFFFFF"
          },
          "showarrow": false,
          "text": "",
          "x": "DUBIOUS STARTER",
          "xref": "x",
          "y": "SCRAPPY VETERAN",
          "yref": "y"
         },
         {
          "font": {
           "color": "#FFFFFF"
          },
          "showarrow": false,
          "text": "",
          "x": "OFFENSIVE SPECIALIST",
          "xref": "x",
          "y": "SCRAPPY VETERAN",
          "yref": "y"
         },
         {
          "font": {
           "color": "#FFFFFF"
          },
          "showarrow": false,
          "text": "2.528",
          "x": "SCRUB",
          "xref": "x",
          "y": "SCRAPPY VETERAN",
          "yref": "y"
         },
         {
          "font": {
           "color": "#FFFFFF"
          },
          "showarrow": false,
          "text": "",
          "x": "SCRAPPY VETERAN",
          "xref": "x",
          "y": "SCRAPPY VETERAN",
          "yref": "y"
         },
         {
          "font": {
           "color": "#FFFFFF"
          },
          "showarrow": false,
          "text": "2.949",
          "x": "UP-AND-COMER",
          "xref": "x",
          "y": "SCRAPPY VETERAN",
          "yref": "y"
         },
         {
          "font": {
           "color": "#FFFFFF"
          },
          "showarrow": false,
          "text": "",
          "x": "ALL-STAR",
          "xref": "x",
          "y": "UP-AND-COMER",
          "yref": "y"
         },
         {
          "font": {
           "color": "#FFFFFF"
          },
          "showarrow": false,
          "text": "",
          "x": "AVERAGE STARTER",
          "xref": "x",
          "y": "UP-AND-COMER",
          "yref": "y"
         },
         {
          "font": {
           "color": "#FFFFFF"
          },
          "showarrow": false,
          "text": "",
          "x": "BORDERLINE ALL-STAR",
          "xref": "x",
          "y": "UP-AND-COMER",
          "yref": "y"
         },
         {
          "font": {
           "color": "#FFFFFF"
          },
          "showarrow": false,
          "text": "",
          "x": "FUTURE ALL-STAR",
          "xref": "x",
          "y": "UP-AND-COMER",
          "yref": "y"
         },
         {
          "font": {
           "color": "#FFFFFF"
          },
          "showarrow": false,
          "text": "",
          "x": "KEY ROLE PLAYER",
          "xref": "x",
          "y": "UP-AND-COMER",
          "yref": "y"
         },
         {
          "font": {
           "color": "#FFFFFF"
          },
          "showarrow": false,
          "text": "",
          "x": "DEFENSIVE SPECIALIST",
          "xref": "x",
          "y": "UP-AND-COMER",
          "yref": "y"
         },
         {
          "font": {
           "color": "#FFFFFF"
          },
          "showarrow": false,
          "text": "",
          "x": "MARGINAL PROSPECT",
          "xref": "x",
          "y": "UP-AND-COMER",
          "yref": "y"
         },
         {
          "font": {
           "color": "#FFFFFF"
          },
          "showarrow": false,
          "text": "",
          "x": "GOOD STARTER",
          "xref": "x",
          "y": "UP-AND-COMER",
          "yref": "y"
         },
         {
          "font": {
           "color": "#FFFFFF"
          },
          "showarrow": false,
          "text": "",
          "x": "GOOD PROSPECT",
          "xref": "x",
          "y": "UP-AND-COMER",
          "yref": "y"
         },
         {
          "font": {
           "color": "#FFFFFF"
          },
          "showarrow": false,
          "text": "",
          "x": "GREAT PROSPECT",
          "xref": "x",
          "y": "UP-AND-COMER",
          "yref": "y"
         },
         {
          "font": {
           "color": "#FFFFFF"
          },
          "showarrow": false,
          "text": "",
          "x": "MVP CANDIDATE",
          "xref": "x",
          "y": "UP-AND-COMER",
          "yref": "y"
         },
         {
          "font": {
           "color": "#FFFFFF"
          },
          "showarrow": false,
          "text": "",
          "x": "PROJECT",
          "xref": "x",
          "y": "UP-AND-COMER",
          "yref": "y"
         },
         {
          "font": {
           "color": "#FFFFFF"
          },
          "showarrow": false,
          "text": "",
          "x": "OK PROSPECT",
          "xref": "x",
          "y": "UP-AND-COMER",
          "yref": "y"
         },
         {
          "font": {
           "color": "#FFFFFF"
          },
          "showarrow": false,
          "text": "",
          "x": "ROTATION PLAYER",
          "xref": "x",
          "y": "UP-AND-COMER",
          "yref": "y"
         },
         {
          "font": {
           "color": "#FFFFFF"
          },
          "showarrow": false,
          "text": "",
          "x": "DUBIOUS STARTER",
          "xref": "x",
          "y": "UP-AND-COMER",
          "yref": "y"
         },
         {
          "font": {
           "color": "#FFFFFF"
          },
          "showarrow": false,
          "text": "",
          "x": "OFFENSIVE SPECIALIST",
          "xref": "x",
          "y": "UP-AND-COMER",
          "yref": "y"
         },
         {
          "font": {
           "color": "#FFFFFF"
          },
          "showarrow": false,
          "text": "",
          "x": "SCRUB",
          "xref": "x",
          "y": "UP-AND-COMER",
          "yref": "y"
         },
         {
          "font": {
           "color": "#FFFFFF"
          },
          "showarrow": false,
          "text": "",
          "x": "SCRAPPY VETERAN",
          "xref": "x",
          "y": "UP-AND-COMER",
          "yref": "y"
         },
         {
          "font": {
           "color": "#FFFFFF"
          },
          "showarrow": false,
          "text": "3.917",
          "x": "UP-AND-COMER",
          "xref": "x",
          "y": "UP-AND-COMER",
          "yref": "y"
         }
        ],
        "font": {
         "family": "Computer Modern"
        },
        "plot_bgcolor": "white",
        "template": {
         "data": {
          "bar": [
           {
            "error_x": {
             "color": "#2a3f5f"
            },
            "error_y": {
             "color": "#2a3f5f"
            },
            "marker": {
             "line": {
              "color": "#E5ECF6",
              "width": 0.5
             }
            },
            "type": "bar"
           }
          ],
          "barpolar": [
           {
            "marker": {
             "line": {
              "color": "#E5ECF6",
              "width": 0.5
             }
            },
            "type": "barpolar"
           }
          ],
          "carpet": [
           {
            "aaxis": {
             "endlinecolor": "#2a3f5f",
             "gridcolor": "white",
             "linecolor": "white",
             "minorgridcolor": "white",
             "startlinecolor": "#2a3f5f"
            },
            "baxis": {
             "endlinecolor": "#2a3f5f",
             "gridcolor": "white",
             "linecolor": "white",
             "minorgridcolor": "white",
             "startlinecolor": "#2a3f5f"
            },
            "type": "carpet"
           }
          ],
          "choropleth": [
           {
            "colorbar": {
             "outlinewidth": 0,
             "ticks": ""
            },
            "type": "choropleth"
           }
          ],
          "contour": [
           {
            "colorbar": {
             "outlinewidth": 0,
             "ticks": ""
            },
            "colorscale": [
             [
              0,
              "#0d0887"
             ],
             [
              0.1111111111111111,
              "#46039f"
             ],
             [
              0.2222222222222222,
              "#7201a8"
             ],
             [
              0.3333333333333333,
              "#9c179e"
             ],
             [
              0.4444444444444444,
              "#bd3786"
             ],
             [
              0.5555555555555556,
              "#d8576b"
             ],
             [
              0.6666666666666666,
              "#ed7953"
             ],
             [
              0.7777777777777778,
              "#fb9f3a"
             ],
             [
              0.8888888888888888,
              "#fdca26"
             ],
             [
              1,
              "#f0f921"
             ]
            ],
            "type": "contour"
           }
          ],
          "contourcarpet": [
           {
            "colorbar": {
             "outlinewidth": 0,
             "ticks": ""
            },
            "type": "contourcarpet"
           }
          ],
          "heatmap": [
           {
            "colorbar": {
             "outlinewidth": 0,
             "ticks": ""
            },
            "colorscale": [
             [
              0,
              "#0d0887"
             ],
             [
              0.1111111111111111,
              "#46039f"
             ],
             [
              0.2222222222222222,
              "#7201a8"
             ],
             [
              0.3333333333333333,
              "#9c179e"
             ],
             [
              0.4444444444444444,
              "#bd3786"
             ],
             [
              0.5555555555555556,
              "#d8576b"
             ],
             [
              0.6666666666666666,
              "#ed7953"
             ],
             [
              0.7777777777777778,
              "#fb9f3a"
             ],
             [
              0.8888888888888888,
              "#fdca26"
             ],
             [
              1,
              "#f0f921"
             ]
            ],
            "type": "heatmap"
           }
          ],
          "heatmapgl": [
           {
            "colorbar": {
             "outlinewidth": 0,
             "ticks": ""
            },
            "colorscale": [
             [
              0,
              "#0d0887"
             ],
             [
              0.1111111111111111,
              "#46039f"
             ],
             [
              0.2222222222222222,
              "#7201a8"
             ],
             [
              0.3333333333333333,
              "#9c179e"
             ],
             [
              0.4444444444444444,
              "#bd3786"
             ],
             [
              0.5555555555555556,
              "#d8576b"
             ],
             [
              0.6666666666666666,
              "#ed7953"
             ],
             [
              0.7777777777777778,
              "#fb9f3a"
             ],
             [
              0.8888888888888888,
              "#fdca26"
             ],
             [
              1,
              "#f0f921"
             ]
            ],
            "type": "heatmapgl"
           }
          ],
          "histogram": [
           {
            "marker": {
             "colorbar": {
              "outlinewidth": 0,
              "ticks": ""
             }
            },
            "type": "histogram"
           }
          ],
          "histogram2d": [
           {
            "colorbar": {
             "outlinewidth": 0,
             "ticks": ""
            },
            "colorscale": [
             [
              0,
              "#0d0887"
             ],
             [
              0.1111111111111111,
              "#46039f"
             ],
             [
              0.2222222222222222,
              "#7201a8"
             ],
             [
              0.3333333333333333,
              "#9c179e"
             ],
             [
              0.4444444444444444,
              "#bd3786"
             ],
             [
              0.5555555555555556,
              "#d8576b"
             ],
             [
              0.6666666666666666,
              "#ed7953"
             ],
             [
              0.7777777777777778,
              "#fb9f3a"
             ],
             [
              0.8888888888888888,
              "#fdca26"
             ],
             [
              1,
              "#f0f921"
             ]
            ],
            "type": "histogram2d"
           }
          ],
          "histogram2dcontour": [
           {
            "colorbar": {
             "outlinewidth": 0,
             "ticks": ""
            },
            "colorscale": [
             [
              0,
              "#0d0887"
             ],
             [
              0.1111111111111111,
              "#46039f"
             ],
             [
              0.2222222222222222,
              "#7201a8"
             ],
             [
              0.3333333333333333,
              "#9c179e"
             ],
             [
              0.4444444444444444,
              "#bd3786"
             ],
             [
              0.5555555555555556,
              "#d8576b"
             ],
             [
              0.6666666666666666,
              "#ed7953"
             ],
             [
              0.7777777777777778,
              "#fb9f3a"
             ],
             [
              0.8888888888888888,
              "#fdca26"
             ],
             [
              1,
              "#f0f921"
             ]
            ],
            "type": "histogram2dcontour"
           }
          ],
          "mesh3d": [
           {
            "colorbar": {
             "outlinewidth": 0,
             "ticks": ""
            },
            "type": "mesh3d"
           }
          ],
          "parcoords": [
           {
            "line": {
             "colorbar": {
              "outlinewidth": 0,
              "ticks": ""
             }
            },
            "type": "parcoords"
           }
          ],
          "pie": [
           {
            "automargin": true,
            "type": "pie"
           }
          ],
          "scatter": [
           {
            "marker": {
             "colorbar": {
              "outlinewidth": 0,
              "ticks": ""
             }
            },
            "type": "scatter"
           }
          ],
          "scatter3d": [
           {
            "line": {
             "colorbar": {
              "outlinewidth": 0,
              "ticks": ""
             }
            },
            "marker": {
             "colorbar": {
              "outlinewidth": 0,
              "ticks": ""
             }
            },
            "type": "scatter3d"
           }
          ],
          "scattercarpet": [
           {
            "marker": {
             "colorbar": {
              "outlinewidth": 0,
              "ticks": ""
             }
            },
            "type": "scattercarpet"
           }
          ],
          "scattergeo": [
           {
            "marker": {
             "colorbar": {
              "outlinewidth": 0,
              "ticks": ""
             }
            },
            "type": "scattergeo"
           }
          ],
          "scattergl": [
           {
            "marker": {
             "colorbar": {
              "outlinewidth": 0,
              "ticks": ""
             }
            },
            "type": "scattergl"
           }
          ],
          "scattermapbox": [
           {
            "marker": {
             "colorbar": {
              "outlinewidth": 0,
              "ticks": ""
             }
            },
            "type": "scattermapbox"
           }
          ],
          "scatterpolar": [
           {
            "marker": {
             "colorbar": {
              "outlinewidth": 0,
              "ticks": ""
             }
            },
            "type": "scatterpolar"
           }
          ],
          "scatterpolargl": [
           {
            "marker": {
             "colorbar": {
              "outlinewidth": 0,
              "ticks": ""
             }
            },
            "type": "scatterpolargl"
           }
          ],
          "scatterternary": [
           {
            "marker": {
             "colorbar": {
              "outlinewidth": 0,
              "ticks": ""
             }
            },
            "type": "scatterternary"
           }
          ],
          "surface": [
           {
            "colorbar": {
             "outlinewidth": 0,
             "ticks": ""
            },
            "colorscale": [
             [
              0,
              "#0d0887"
             ],
             [
              0.1111111111111111,
              "#46039f"
             ],
             [
              0.2222222222222222,
              "#7201a8"
             ],
             [
              0.3333333333333333,
              "#9c179e"
             ],
             [
              0.4444444444444444,
              "#bd3786"
             ],
             [
              0.5555555555555556,
              "#d8576b"
             ],
             [
              0.6666666666666666,
              "#ed7953"
             ],
             [
              0.7777777777777778,
              "#fb9f3a"
             ],
             [
              0.8888888888888888,
              "#fdca26"
             ],
             [
              1,
              "#f0f921"
             ]
            ],
            "type": "surface"
           }
          ],
          "table": [
           {
            "cells": {
             "fill": {
              "color": "#EBF0F8"
             },
             "line": {
              "color": "white"
             }
            },
            "header": {
             "fill": {
              "color": "#C8D4E3"
             },
             "line": {
              "color": "white"
             }
            },
            "type": "table"
           }
          ]
         },
         "layout": {
          "annotationdefaults": {
           "arrowcolor": "#2a3f5f",
           "arrowhead": 0,
           "arrowwidth": 1
          },
          "autotypenumbers": "strict",
          "coloraxis": {
           "colorbar": {
            "outlinewidth": 0,
            "ticks": ""
           }
          },
          "colorscale": {
           "diverging": [
            [
             0,
             "#8e0152"
            ],
            [
             0.1,
             "#c51b7d"
            ],
            [
             0.2,
             "#de77ae"
            ],
            [
             0.3,
             "#f1b6da"
            ],
            [
             0.4,
             "#fde0ef"
            ],
            [
             0.5,
             "#f7f7f7"
            ],
            [
             0.6,
             "#e6f5d0"
            ],
            [
             0.7,
             "#b8e186"
            ],
            [
             0.8,
             "#7fbc41"
            ],
            [
             0.9,
             "#4d9221"
            ],
            [
             1,
             "#276419"
            ]
           ],
           "sequential": [
            [
             0,
             "#0d0887"
            ],
            [
             0.1111111111111111,
             "#46039f"
            ],
            [
             0.2222222222222222,
             "#7201a8"
            ],
            [
             0.3333333333333333,
             "#9c179e"
            ],
            [
             0.4444444444444444,
             "#bd3786"
            ],
            [
             0.5555555555555556,
             "#d8576b"
            ],
            [
             0.6666666666666666,
             "#ed7953"
            ],
            [
             0.7777777777777778,
             "#fb9f3a"
            ],
            [
             0.8888888888888888,
             "#fdca26"
            ],
            [
             1,
             "#f0f921"
            ]
           ],
           "sequentialminus": [
            [
             0,
             "#0d0887"
            ],
            [
             0.1111111111111111,
             "#46039f"
            ],
            [
             0.2222222222222222,
             "#7201a8"
            ],
            [
             0.3333333333333333,
             "#9c179e"
            ],
            [
             0.4444444444444444,
             "#bd3786"
            ],
            [
             0.5555555555555556,
             "#d8576b"
            ],
            [
             0.6666666666666666,
             "#ed7953"
            ],
            [
             0.7777777777777778,
             "#fb9f3a"
            ],
            [
             0.8888888888888888,
             "#fdca26"
            ],
            [
             1,
             "#f0f921"
            ]
           ]
          },
          "colorway": [
           "#636efa",
           "#EF553B",
           "#00cc96",
           "#ab63fa",
           "#FFA15A",
           "#19d3f3",
           "#FF6692",
           "#B6E880",
           "#FF97FF",
           "#FECB52"
          ],
          "font": {
           "color": "#2a3f5f"
          },
          "geo": {
           "bgcolor": "white",
           "lakecolor": "white",
           "landcolor": "#E5ECF6",
           "showlakes": true,
           "showland": true,
           "subunitcolor": "white"
          },
          "hoverlabel": {
           "align": "left"
          },
          "hovermode": "closest",
          "mapbox": {
           "style": "light"
          },
          "paper_bgcolor": "white",
          "plot_bgcolor": "#E5ECF6",
          "polar": {
           "angularaxis": {
            "gridcolor": "white",
            "linecolor": "white",
            "ticks": ""
           },
           "bgcolor": "#E5ECF6",
           "radialaxis": {
            "gridcolor": "white",
            "linecolor": "white",
            "ticks": ""
           }
          },
          "scene": {
           "xaxis": {
            "backgroundcolor": "#E5ECF6",
            "gridcolor": "white",
            "gridwidth": 2,
            "linecolor": "white",
            "showbackground": true,
            "ticks": "",
            "zerolinecolor": "white"
           },
           "yaxis": {
            "backgroundcolor": "#E5ECF6",
            "gridcolor": "white",
            "gridwidth": 2,
            "linecolor": "white",
            "showbackground": true,
            "ticks": "",
            "zerolinecolor": "white"
           },
           "zaxis": {
            "backgroundcolor": "#E5ECF6",
            "gridcolor": "white",
            "gridwidth": 2,
            "linecolor": "white",
            "showbackground": true,
            "ticks": "",
            "zerolinecolor": "white"
           }
          },
          "shapedefaults": {
           "line": {
            "color": "#2a3f5f"
           }
          },
          "ternary": {
           "aaxis": {
            "gridcolor": "white",
            "linecolor": "white",
            "ticks": ""
           },
           "baxis": {
            "gridcolor": "white",
            "linecolor": "white",
            "ticks": ""
           },
           "bgcolor": "#E5ECF6",
           "caxis": {
            "gridcolor": "white",
            "linecolor": "white",
            "ticks": ""
           }
          },
          "title": {
           "x": 0.05
          },
          "xaxis": {
           "automargin": true,
           "gridcolor": "white",
           "linecolor": "white",
           "ticks": "",
           "title": {
            "standoff": 15
           },
           "zerolinecolor": "white",
           "zerolinewidth": 2
          },
          "yaxis": {
           "automargin": true,
           "gridcolor": "white",
           "linecolor": "white",
           "ticks": "",
           "title": {
            "standoff": 15
           },
           "zerolinecolor": "white",
           "zerolinewidth": 2
          }
         }
        },
        "title": {
         "font": {
          "family": "Computer Modern"
         }
        },
        "xaxis": {
         "autorange": "reversed",
         "dtick": 1,
         "gridcolor": "rgb(0, 0, 0)",
         "showgrid": false,
         "side": "top",
         "tickangle": 45,
         "ticks": ""
        },
        "yaxis": {
         "autorange": "reversed",
         "dtick": 1,
         "showgrid": false,
         "ticks": "",
         "ticksuffix": "  "
        }
       }
      },
      "text/html": [
       "<div>                            <div id=\"6880c9eb-a0c8-48d6-bfbb-7ad678805afc\" class=\"plotly-graph-div\" style=\"height:525px; width:100%;\"></div>            <script type=\"text/javascript\">                require([\"plotly\"], function(Plotly) {                    window.PLOTLYENV=window.PLOTLYENV || {};                                    if (document.getElementById(\"6880c9eb-a0c8-48d6-bfbb-7ad678805afc\")) {                    Plotly.newPlot(                        \"6880c9eb-a0c8-48d6-bfbb-7ad678805afc\",                        [{\"colorscale\": [[0.0, \"rgb(63, 5, 5)\"], [0.09090909090909091, \"rgb(101, 6, 13)\"], [0.18181818181818182, \"rgb(138, 17, 9)\"], [0.2727272727272727, \"rgb(96, 95, 95)\"], [0.36363636363636365, \"rgb(119, 118, 118)\"], [0.45454545454545453, \"rgb(142, 141, 141)\"], [0.5454545454545454, \"rgb(166, 166, 165)\"], [0.6363636363636364, \"rgb(193, 192, 191)\"], [0.7272727272727273, \"rgb(222, 222, 220)\"], [0.8181818181818182, \"rgb(239, 248, 90)\"], [0.9090909090909091, \"rgb(230, 210, 41)\"], [1.0, \"rgb(220, 174, 25)\"]], \"reversescale\": false, \"showscale\": true, \"type\": \"heatmap\", \"x\": [\"ALL-STAR\", \"AVERAGE STARTER\", \"BORDERLINE ALL-STAR\", \"FUTURE ALL-STAR\", \"KEY ROLE PLAYER\", \"DEFENSIVE SPECIALIST\", \"MARGINAL PROSPECT\", \"GOOD STARTER\", \"GOOD PROSPECT\", \"GREAT PROSPECT\", \"MVP CANDIDATE\", \"PROJECT\", \"OK PROSPECT\", \"ROTATION PLAYER\", \"DUBIOUS STARTER\", \"OFFENSIVE SPECIALIST\", \"SCRUB\", \"SCRAPPY VETERAN\", \"UP-AND-COMER\"], \"y\": [\"ALL-STAR\", \"AVERAGE STARTER\", \"BORDERLINE ALL-STAR\", \"FUTURE ALL-STAR\", \"KEY ROLE PLAYER\", \"DEFENSIVE SPECIALIST\", \"MARGINAL PROSPECT\", \"GOOD STARTER\", \"GOOD PROSPECT\", \"GREAT PROSPECT\", \"MVP CANDIDATE\", \"PROJECT\", \"OK PROSPECT\", \"ROTATION PLAYER\", \"DUBIOUS STARTER\", \"OFFENSIVE SPECIALIST\", \"SCRUB\", \"SCRAPPY VETERAN\", \"UP-AND-COMER\"], \"z\": [[8.57, 4.139, 3.738, 3.455, 4.333, 4.44, 3.241, null, 4.8, null, 4.39, 3.347, 3.416, 3.515, null, null, 3.138, 2.641, 3.689], [null, 2.867, 3.09, 2.74, 3.079, null, 3.126, 2.25, 1.82, 2.49, 4.117, 2.611, 3.26, 2.366, 1.91, null, 2.196, null, 2.645], [null, null, 4.05, 3.283, 4.005, 3.071, 1.582, 3.34, 2.194, 1.951, 5.189, 2.943, 2.237, 2.672, null, null, 2.777, 4.476, 3.294], [null, null, null, 7.06, 2.375, null, 2.069, null, 2.24, 3.933, 6.592, 2.483, 1.795, 2.21, null, null, 2.199, 3.22, 3.045], [null, null, null, null, 3.351, null, 1.85, null, null, null, 4.534, 2.562, 2.098, 2.627, null, null, 2.013, 2.703, 3.377], [null, null, null, null, 2.8, null, null, 2.13, 3.28, null, 5.054, 2.12, 1.47, 2.002, null, null, 1.64, 1.55, 2.306], [null, null, null, null, null, null, 3.31, null, null, null, null, 2.373, 1.713, 2.434, null, 2.06, 1.891, 2.373, 2.856], [null, null, null, null, 3.234, null, 2.621, null, null, 3.0, null, 2.576, 3.24, 3.01, null, null, 1.426, null, 3.741], [null, null, null, null, 1.33, null, 1.67, 3.09, null, null, null, 2.081, null, 1.979, null, null, 1.728, null, 2.549], [null, null, null, null, 3.24, null, 2.03, null, null, null, 2.05, 2.584, 6.19, 2.373, null, null, 1.593, null, null], [null, null, null, null, null, null, null, null, null, null, null, 4.06, 6.16, 3.103, null, null, 3.331, 4.04, 4.584], [null, null, null, null, null, null, null, null, null, null, null, 1.753, null, 2.331, null, null, 1.981, 2.649, 2.094], [null, null, null, null, null, null, null, null, null, null, null, 2.192, 2.039, 1.921, null, null, 1.811, 2.044, 2.633], [null, null, null, null, null, null, null, null, null, null, null, null, null, 2.427, null, null, 2.075, 1.834, 2.633], [null, null, null, null, null, null, null, null, null, null, null, 4.55, null, 1.657, null, null, 1.57, null, 1.04], [null, null, null, null, null, null, null, null, null, null, null, 1.75, null, 3.052, null, null, 2.649, null, null], [null, null, null, null, null, null, null, null, null, null, null, null, null, null, null, null, 1.597, null, 2.382], [null, null, null, null, null, null, null, null, null, null, null, null, null, null, null, null, 2.528, null, 2.949], [null, null, null, null, null, null, null, null, null, null, null, null, null, null, null, null, null, null, 3.917]]}],                        {\"annotations\": [{\"font\": {\"color\": \"#FFFFFF\"}, \"showarrow\": false, \"text\": \"8.57\", \"x\": \"ALL-STAR\", \"xref\": \"x\", \"y\": \"ALL-STAR\", \"yref\": \"y\"}, {\"font\": {\"color\": \"#FFFFFF\"}, \"showarrow\": false, \"text\": \"4.139\", \"x\": \"AVERAGE STARTER\", \"xref\": \"x\", \"y\": \"ALL-STAR\", \"yref\": \"y\"}, {\"font\": {\"color\": \"#FFFFFF\"}, \"showarrow\": false, \"text\": \"3.738\", \"x\": \"BORDERLINE ALL-STAR\", \"xref\": \"x\", \"y\": \"ALL-STAR\", \"yref\": \"y\"}, {\"font\": {\"color\": \"#FFFFFF\"}, \"showarrow\": false, \"text\": \"3.455\", \"x\": \"FUTURE ALL-STAR\", \"xref\": \"x\", \"y\": \"ALL-STAR\", \"yref\": \"y\"}, {\"font\": {\"color\": \"#FFFFFF\"}, \"showarrow\": false, \"text\": \"4.333\", \"x\": \"KEY ROLE PLAYER\", \"xref\": \"x\", \"y\": \"ALL-STAR\", \"yref\": \"y\"}, {\"font\": {\"color\": \"#FFFFFF\"}, \"showarrow\": false, \"text\": \"4.44\", \"x\": \"DEFENSIVE SPECIALIST\", \"xref\": \"x\", \"y\": \"ALL-STAR\", \"yref\": \"y\"}, {\"font\": {\"color\": \"#FFFFFF\"}, \"showarrow\": false, \"text\": \"3.241\", \"x\": \"MARGINAL PROSPECT\", \"xref\": \"x\", \"y\": \"ALL-STAR\", \"yref\": \"y\"}, {\"font\": {\"color\": \"#FFFFFF\"}, \"showarrow\": false, \"text\": \"\", \"x\": \"GOOD STARTER\", \"xref\": \"x\", \"y\": \"ALL-STAR\", \"yref\": \"y\"}, {\"font\": {\"color\": \"#FFFFFF\"}, \"showarrow\": false, \"text\": \"4.8\", \"x\": \"GOOD PROSPECT\", \"xref\": \"x\", \"y\": \"ALL-STAR\", \"yref\": \"y\"}, {\"font\": {\"color\": \"#FFFFFF\"}, \"showarrow\": false, \"text\": \"\", \"x\": \"GREAT PROSPECT\", \"xref\": \"x\", \"y\": \"ALL-STAR\", \"yref\": \"y\"}, {\"font\": {\"color\": \"#FFFFFF\"}, \"showarrow\": false, \"text\": \"4.39\", \"x\": \"MVP CANDIDATE\", \"xref\": \"x\", \"y\": \"ALL-STAR\", \"yref\": \"y\"}, {\"font\": {\"color\": \"#FFFFFF\"}, \"showarrow\": false, \"text\": \"3.347\", \"x\": \"PROJECT\", \"xref\": \"x\", \"y\": \"ALL-STAR\", \"yref\": \"y\"}, {\"font\": {\"color\": \"#FFFFFF\"}, \"showarrow\": false, \"text\": \"3.416\", \"x\": \"OK PROSPECT\", \"xref\": \"x\", \"y\": \"ALL-STAR\", \"yref\": \"y\"}, {\"font\": {\"color\": \"#FFFFFF\"}, \"showarrow\": false, \"text\": \"3.515\", \"x\": \"ROTATION PLAYER\", \"xref\": \"x\", \"y\": \"ALL-STAR\", \"yref\": \"y\"}, {\"font\": {\"color\": \"#FFFFFF\"}, \"showarrow\": false, \"text\": \"\", \"x\": \"DUBIOUS STARTER\", \"xref\": \"x\", \"y\": \"ALL-STAR\", \"yref\": \"y\"}, {\"font\": {\"color\": \"#FFFFFF\"}, \"showarrow\": false, \"text\": \"\", \"x\": \"OFFENSIVE SPECIALIST\", \"xref\": \"x\", \"y\": \"ALL-STAR\", \"yref\": \"y\"}, {\"font\": {\"color\": \"#FFFFFF\"}, \"showarrow\": false, \"text\": \"3.138\", \"x\": \"SCRUB\", \"xref\": \"x\", \"y\": \"ALL-STAR\", \"yref\": \"y\"}, {\"font\": {\"color\": \"#FFFFFF\"}, \"showarrow\": false, \"text\": \"2.641\", \"x\": \"SCRAPPY VETERAN\", \"xref\": \"x\", \"y\": \"ALL-STAR\", \"yref\": \"y\"}, {\"font\": {\"color\": \"#FFFFFF\"}, \"showarrow\": false, \"text\": \"3.689\", \"x\": \"UP-AND-COMER\", \"xref\": \"x\", \"y\": \"ALL-STAR\", \"yref\": \"y\"}, {\"font\": {\"color\": \"#FFFFFF\"}, \"showarrow\": false, \"text\": \"\", \"x\": \"ALL-STAR\", \"xref\": \"x\", \"y\": \"AVERAGE STARTER\", \"yref\": \"y\"}, {\"font\": {\"color\": \"#FFFFFF\"}, \"showarrow\": false, \"text\": \"2.867\", \"x\": \"AVERAGE STARTER\", \"xref\": \"x\", \"y\": \"AVERAGE STARTER\", \"yref\": \"y\"}, {\"font\": {\"color\": \"#FFFFFF\"}, \"showarrow\": false, \"text\": \"3.09\", \"x\": \"BORDERLINE ALL-STAR\", \"xref\": \"x\", \"y\": \"AVERAGE STARTER\", \"yref\": \"y\"}, {\"font\": {\"color\": \"#FFFFFF\"}, \"showarrow\": false, \"text\": \"2.74\", \"x\": \"FUTURE ALL-STAR\", \"xref\": \"x\", \"y\": \"AVERAGE STARTER\", \"yref\": \"y\"}, {\"font\": {\"color\": \"#FFFFFF\"}, \"showarrow\": false, \"text\": \"3.079\", \"x\": \"KEY ROLE PLAYER\", \"xref\": \"x\", \"y\": \"AVERAGE STARTER\", \"yref\": \"y\"}, {\"font\": {\"color\": \"#FFFFFF\"}, \"showarrow\": false, \"text\": \"\", \"x\": \"DEFENSIVE SPECIALIST\", \"xref\": \"x\", \"y\": \"AVERAGE STARTER\", \"yref\": \"y\"}, {\"font\": {\"color\": \"#FFFFFF\"}, \"showarrow\": false, \"text\": \"3.126\", \"x\": \"MARGINAL PROSPECT\", \"xref\": \"x\", \"y\": \"AVERAGE STARTER\", \"yref\": \"y\"}, {\"font\": {\"color\": \"#FFFFFF\"}, \"showarrow\": false, \"text\": \"2.25\", \"x\": \"GOOD STARTER\", \"xref\": \"x\", \"y\": \"AVERAGE STARTER\", \"yref\": \"y\"}, {\"font\": {\"color\": \"#FFFFFF\"}, \"showarrow\": false, \"text\": \"1.82\", \"x\": \"GOOD PROSPECT\", \"xref\": \"x\", \"y\": \"AVERAGE STARTER\", \"yref\": \"y\"}, {\"font\": {\"color\": \"#FFFFFF\"}, \"showarrow\": false, \"text\": \"2.49\", \"x\": \"GREAT PROSPECT\", \"xref\": \"x\", \"y\": \"AVERAGE STARTER\", \"yref\": \"y\"}, {\"font\": {\"color\": \"#FFFFFF\"}, \"showarrow\": false, \"text\": \"4.117\", \"x\": \"MVP CANDIDATE\", \"xref\": \"x\", \"y\": \"AVERAGE STARTER\", \"yref\": \"y\"}, {\"font\": {\"color\": \"#FFFFFF\"}, \"showarrow\": false, \"text\": \"2.611\", \"x\": \"PROJECT\", \"xref\": \"x\", \"y\": \"AVERAGE STARTER\", \"yref\": \"y\"}, {\"font\": {\"color\": \"#FFFFFF\"}, \"showarrow\": false, \"text\": \"3.26\", \"x\": \"OK PROSPECT\", \"xref\": \"x\", \"y\": \"AVERAGE STARTER\", \"yref\": \"y\"}, {\"font\": {\"color\": \"#FFFFFF\"}, \"showarrow\": false, \"text\": \"2.366\", \"x\": \"ROTATION PLAYER\", \"xref\": \"x\", \"y\": \"AVERAGE STARTER\", \"yref\": \"y\"}, {\"font\": {\"color\": \"#FFFFFF\"}, \"showarrow\": false, \"text\": \"1.91\", \"x\": \"DUBIOUS STARTER\", \"xref\": \"x\", \"y\": \"AVERAGE STARTER\", \"yref\": \"y\"}, {\"font\": {\"color\": \"#FFFFFF\"}, \"showarrow\": false, \"text\": \"\", \"x\": \"OFFENSIVE SPECIALIST\", \"xref\": \"x\", \"y\": \"AVERAGE STARTER\", \"yref\": \"y\"}, {\"font\": {\"color\": \"#FFFFFF\"}, \"showarrow\": false, \"text\": \"2.196\", \"x\": \"SCRUB\", \"xref\": \"x\", \"y\": \"AVERAGE STARTER\", \"yref\": \"y\"}, {\"font\": {\"color\": \"#FFFFFF\"}, \"showarrow\": false, \"text\": \"\", \"x\": \"SCRAPPY VETERAN\", \"xref\": \"x\", \"y\": \"AVERAGE STARTER\", \"yref\": \"y\"}, {\"font\": {\"color\": \"#FFFFFF\"}, \"showarrow\": false, \"text\": \"2.645\", \"x\": \"UP-AND-COMER\", \"xref\": \"x\", \"y\": \"AVERAGE STARTER\", \"yref\": \"y\"}, {\"font\": {\"color\": \"#FFFFFF\"}, \"showarrow\": false, \"text\": \"\", \"x\": \"ALL-STAR\", \"xref\": \"x\", \"y\": \"BORDERLINE ALL-STAR\", \"yref\": \"y\"}, {\"font\": {\"color\": \"#FFFFFF\"}, \"showarrow\": false, \"text\": \"\", \"x\": \"AVERAGE STARTER\", \"xref\": \"x\", \"y\": \"BORDERLINE ALL-STAR\", \"yref\": \"y\"}, {\"font\": {\"color\": \"#FFFFFF\"}, \"showarrow\": false, \"text\": \"4.05\", \"x\": \"BORDERLINE ALL-STAR\", \"xref\": \"x\", \"y\": \"BORDERLINE ALL-STAR\", \"yref\": \"y\"}, {\"font\": {\"color\": \"#FFFFFF\"}, \"showarrow\": false, \"text\": \"3.283\", \"x\": \"FUTURE ALL-STAR\", \"xref\": \"x\", \"y\": \"BORDERLINE ALL-STAR\", \"yref\": \"y\"}, {\"font\": {\"color\": \"#FFFFFF\"}, \"showarrow\": false, \"text\": \"4.005\", \"x\": \"KEY ROLE PLAYER\", \"xref\": \"x\", \"y\": \"BORDERLINE ALL-STAR\", \"yref\": \"y\"}, {\"font\": {\"color\": \"#FFFFFF\"}, \"showarrow\": false, \"text\": \"3.071\", \"x\": \"DEFENSIVE SPECIALIST\", \"xref\": \"x\", \"y\": \"BORDERLINE ALL-STAR\", \"yref\": \"y\"}, {\"font\": {\"color\": \"#FFFFFF\"}, \"showarrow\": false, \"text\": \"1.582\", \"x\": \"MARGINAL PROSPECT\", \"xref\": \"x\", \"y\": \"BORDERLINE ALL-STAR\", \"yref\": \"y\"}, {\"font\": {\"color\": \"#FFFFFF\"}, \"showarrow\": false, \"text\": \"3.34\", \"x\": \"GOOD STARTER\", \"xref\": \"x\", \"y\": \"BORDERLINE ALL-STAR\", \"yref\": \"y\"}, {\"font\": {\"color\": \"#FFFFFF\"}, \"showarrow\": false, \"text\": \"2.194\", \"x\": \"GOOD PROSPECT\", \"xref\": \"x\", \"y\": \"BORDERLINE ALL-STAR\", \"yref\": \"y\"}, {\"font\": {\"color\": \"#FFFFFF\"}, \"showarrow\": false, \"text\": \"1.951\", \"x\": \"GREAT PROSPECT\", \"xref\": \"x\", \"y\": \"BORDERLINE ALL-STAR\", \"yref\": \"y\"}, {\"font\": {\"color\": \"#FFFFFF\"}, \"showarrow\": false, \"text\": \"5.189\", \"x\": \"MVP CANDIDATE\", \"xref\": \"x\", \"y\": \"BORDERLINE ALL-STAR\", \"yref\": \"y\"}, {\"font\": {\"color\": \"#FFFFFF\"}, \"showarrow\": false, \"text\": \"2.943\", \"x\": \"PROJECT\", \"xref\": \"x\", \"y\": \"BORDERLINE ALL-STAR\", \"yref\": \"y\"}, {\"font\": {\"color\": \"#FFFFFF\"}, \"showarrow\": false, \"text\": \"2.237\", \"x\": \"OK PROSPECT\", \"xref\": \"x\", \"y\": \"BORDERLINE ALL-STAR\", \"yref\": \"y\"}, {\"font\": {\"color\": \"#FFFFFF\"}, \"showarrow\": false, \"text\": \"2.672\", \"x\": \"ROTATION PLAYER\", \"xref\": \"x\", \"y\": \"BORDERLINE ALL-STAR\", \"yref\": \"y\"}, {\"font\": {\"color\": \"#FFFFFF\"}, \"showarrow\": false, \"text\": \"\", \"x\": \"DUBIOUS STARTER\", \"xref\": \"x\", \"y\": \"BORDERLINE ALL-STAR\", \"yref\": \"y\"}, {\"font\": {\"color\": \"#FFFFFF\"}, \"showarrow\": false, \"text\": \"\", \"x\": \"OFFENSIVE SPECIALIST\", \"xref\": \"x\", \"y\": \"BORDERLINE ALL-STAR\", \"yref\": \"y\"}, {\"font\": {\"color\": \"#FFFFFF\"}, \"showarrow\": false, \"text\": \"2.777\", \"x\": \"SCRUB\", \"xref\": \"x\", \"y\": \"BORDERLINE ALL-STAR\", \"yref\": \"y\"}, {\"font\": {\"color\": \"#FFFFFF\"}, \"showarrow\": false, \"text\": \"4.476\", \"x\": \"SCRAPPY VETERAN\", \"xref\": \"x\", \"y\": \"BORDERLINE ALL-STAR\", \"yref\": \"y\"}, {\"font\": {\"color\": \"#FFFFFF\"}, \"showarrow\": false, \"text\": \"3.294\", \"x\": \"UP-AND-COMER\", \"xref\": \"x\", \"y\": \"BORDERLINE ALL-STAR\", \"yref\": \"y\"}, {\"font\": {\"color\": \"#FFFFFF\"}, \"showarrow\": false, \"text\": \"\", \"x\": \"ALL-STAR\", \"xref\": \"x\", \"y\": \"FUTURE ALL-STAR\", \"yref\": \"y\"}, {\"font\": {\"color\": \"#FFFFFF\"}, \"showarrow\": false, \"text\": \"\", \"x\": \"AVERAGE STARTER\", \"xref\": \"x\", \"y\": \"FUTURE ALL-STAR\", \"yref\": \"y\"}, {\"font\": {\"color\": \"#FFFFFF\"}, \"showarrow\": false, \"text\": \"\", \"x\": \"BORDERLINE ALL-STAR\", \"xref\": \"x\", \"y\": \"FUTURE ALL-STAR\", \"yref\": \"y\"}, {\"font\": {\"color\": \"#FFFFFF\"}, \"showarrow\": false, \"text\": \"7.06\", \"x\": \"FUTURE ALL-STAR\", \"xref\": \"x\", \"y\": \"FUTURE ALL-STAR\", \"yref\": \"y\"}, {\"font\": {\"color\": \"#FFFFFF\"}, \"showarrow\": false, \"text\": \"2.375\", \"x\": \"KEY ROLE PLAYER\", \"xref\": \"x\", \"y\": \"FUTURE ALL-STAR\", \"yref\": \"y\"}, {\"font\": {\"color\": \"#FFFFFF\"}, \"showarrow\": false, \"text\": \"\", \"x\": \"DEFENSIVE SPECIALIST\", \"xref\": \"x\", \"y\": \"FUTURE ALL-STAR\", \"yref\": \"y\"}, {\"font\": {\"color\": \"#FFFFFF\"}, \"showarrow\": false, \"text\": \"2.069\", \"x\": \"MARGINAL PROSPECT\", \"xref\": \"x\", \"y\": \"FUTURE ALL-STAR\", \"yref\": \"y\"}, {\"font\": {\"color\": \"#FFFFFF\"}, \"showarrow\": false, \"text\": \"\", \"x\": \"GOOD STARTER\", \"xref\": \"x\", \"y\": \"FUTURE ALL-STAR\", \"yref\": \"y\"}, {\"font\": {\"color\": \"#FFFFFF\"}, \"showarrow\": false, \"text\": \"2.24\", \"x\": \"GOOD PROSPECT\", \"xref\": \"x\", \"y\": \"FUTURE ALL-STAR\", \"yref\": \"y\"}, {\"font\": {\"color\": \"#FFFFFF\"}, \"showarrow\": false, \"text\": \"3.933\", \"x\": \"GREAT PROSPECT\", \"xref\": \"x\", \"y\": \"FUTURE ALL-STAR\", \"yref\": \"y\"}, {\"font\": {\"color\": \"#FFFFFF\"}, \"showarrow\": false, \"text\": \"6.592\", \"x\": \"MVP CANDIDATE\", \"xref\": \"x\", \"y\": \"FUTURE ALL-STAR\", \"yref\": \"y\"}, {\"font\": {\"color\": \"#FFFFFF\"}, \"showarrow\": false, \"text\": \"2.483\", \"x\": \"PROJECT\", \"xref\": \"x\", \"y\": \"FUTURE ALL-STAR\", \"yref\": \"y\"}, {\"font\": {\"color\": \"#FFFFFF\"}, \"showarrow\": false, \"text\": \"1.795\", \"x\": \"OK PROSPECT\", \"xref\": \"x\", \"y\": \"FUTURE ALL-STAR\", \"yref\": \"y\"}, {\"font\": {\"color\": \"#FFFFFF\"}, \"showarrow\": false, \"text\": \"2.21\", \"x\": \"ROTATION PLAYER\", \"xref\": \"x\", \"y\": \"FUTURE ALL-STAR\", \"yref\": \"y\"}, {\"font\": {\"color\": \"#FFFFFF\"}, \"showarrow\": false, \"text\": \"\", \"x\": \"DUBIOUS STARTER\", \"xref\": \"x\", \"y\": \"FUTURE ALL-STAR\", \"yref\": \"y\"}, {\"font\": {\"color\": \"#FFFFFF\"}, \"showarrow\": false, \"text\": \"\", \"x\": \"OFFENSIVE SPECIALIST\", \"xref\": \"x\", \"y\": \"FUTURE ALL-STAR\", \"yref\": \"y\"}, {\"font\": {\"color\": \"#FFFFFF\"}, \"showarrow\": false, \"text\": \"2.199\", \"x\": \"SCRUB\", \"xref\": \"x\", \"y\": \"FUTURE ALL-STAR\", \"yref\": \"y\"}, {\"font\": {\"color\": \"#FFFFFF\"}, \"showarrow\": false, \"text\": \"3.22\", \"x\": \"SCRAPPY VETERAN\", \"xref\": \"x\", \"y\": \"FUTURE ALL-STAR\", \"yref\": \"y\"}, {\"font\": {\"color\": \"#FFFFFF\"}, \"showarrow\": false, \"text\": \"3.045\", \"x\": \"UP-AND-COMER\", \"xref\": \"x\", \"y\": \"FUTURE ALL-STAR\", \"yref\": \"y\"}, {\"font\": {\"color\": \"#FFFFFF\"}, \"showarrow\": false, \"text\": \"\", \"x\": \"ALL-STAR\", \"xref\": \"x\", \"y\": \"KEY ROLE PLAYER\", \"yref\": \"y\"}, {\"font\": {\"color\": \"#FFFFFF\"}, \"showarrow\": false, \"text\": \"\", \"x\": \"AVERAGE STARTER\", \"xref\": \"x\", \"y\": \"KEY ROLE PLAYER\", \"yref\": \"y\"}, {\"font\": {\"color\": \"#FFFFFF\"}, \"showarrow\": false, \"text\": \"\", \"x\": \"BORDERLINE ALL-STAR\", \"xref\": \"x\", \"y\": \"KEY ROLE PLAYER\", \"yref\": \"y\"}, {\"font\": {\"color\": \"#FFFFFF\"}, \"showarrow\": false, \"text\": \"\", \"x\": \"FUTURE ALL-STAR\", \"xref\": \"x\", \"y\": \"KEY ROLE PLAYER\", \"yref\": \"y\"}, {\"font\": {\"color\": \"#FFFFFF\"}, \"showarrow\": false, \"text\": \"3.351\", \"x\": \"KEY ROLE PLAYER\", \"xref\": \"x\", \"y\": \"KEY ROLE PLAYER\", \"yref\": \"y\"}, {\"font\": {\"color\": \"#FFFFFF\"}, \"showarrow\": false, \"text\": \"\", \"x\": \"DEFENSIVE SPECIALIST\", \"xref\": \"x\", \"y\": \"KEY ROLE PLAYER\", \"yref\": \"y\"}, {\"font\": {\"color\": \"#FFFFFF\"}, \"showarrow\": false, \"text\": \"1.85\", \"x\": \"MARGINAL PROSPECT\", \"xref\": \"x\", \"y\": \"KEY ROLE PLAYER\", \"yref\": \"y\"}, {\"font\": {\"color\": \"#FFFFFF\"}, \"showarrow\": false, \"text\": \"\", \"x\": \"GOOD STARTER\", \"xref\": \"x\", \"y\": \"KEY ROLE PLAYER\", \"yref\": \"y\"}, {\"font\": {\"color\": \"#FFFFFF\"}, \"showarrow\": false, \"text\": \"\", \"x\": \"GOOD PROSPECT\", \"xref\": \"x\", \"y\": \"KEY ROLE PLAYER\", \"yref\": \"y\"}, {\"font\": {\"color\": \"#FFFFFF\"}, \"showarrow\": false, \"text\": \"\", \"x\": \"GREAT PROSPECT\", \"xref\": \"x\", \"y\": \"KEY ROLE PLAYER\", \"yref\": \"y\"}, {\"font\": {\"color\": \"#FFFFFF\"}, \"showarrow\": false, \"text\": \"4.534\", \"x\": \"MVP CANDIDATE\", \"xref\": \"x\", \"y\": \"KEY ROLE PLAYER\", \"yref\": \"y\"}, {\"font\": {\"color\": \"#FFFFFF\"}, \"showarrow\": false, \"text\": \"2.562\", \"x\": \"PROJECT\", \"xref\": \"x\", \"y\": \"KEY ROLE PLAYER\", \"yref\": \"y\"}, {\"font\": {\"color\": \"#FFFFFF\"}, \"showarrow\": false, \"text\": \"2.098\", \"x\": \"OK PROSPECT\", \"xref\": \"x\", \"y\": \"KEY ROLE PLAYER\", \"yref\": \"y\"}, {\"font\": {\"color\": \"#FFFFFF\"}, \"showarrow\": false, \"text\": \"2.627\", \"x\": \"ROTATION PLAYER\", \"xref\": \"x\", \"y\": \"KEY ROLE PLAYER\", \"yref\": \"y\"}, {\"font\": {\"color\": \"#FFFFFF\"}, \"showarrow\": false, \"text\": \"\", \"x\": \"DUBIOUS STARTER\", \"xref\": \"x\", \"y\": \"KEY ROLE PLAYER\", \"yref\": \"y\"}, {\"font\": {\"color\": \"#FFFFFF\"}, \"showarrow\": false, \"text\": \"\", \"x\": \"OFFENSIVE SPECIALIST\", \"xref\": \"x\", \"y\": \"KEY ROLE PLAYER\", \"yref\": \"y\"}, {\"font\": {\"color\": \"#FFFFFF\"}, \"showarrow\": false, \"text\": \"2.013\", \"x\": \"SCRUB\", \"xref\": \"x\", \"y\": \"KEY ROLE PLAYER\", \"yref\": \"y\"}, {\"font\": {\"color\": \"#FFFFFF\"}, \"showarrow\": false, \"text\": \"2.703\", \"x\": \"SCRAPPY VETERAN\", \"xref\": \"x\", \"y\": \"KEY ROLE PLAYER\", \"yref\": \"y\"}, {\"font\": {\"color\": \"#FFFFFF\"}, \"showarrow\": false, \"text\": \"3.377\", \"x\": \"UP-AND-COMER\", \"xref\": \"x\", \"y\": \"KEY ROLE PLAYER\", \"yref\": \"y\"}, {\"font\": {\"color\": \"#FFFFFF\"}, \"showarrow\": false, \"text\": \"\", \"x\": \"ALL-STAR\", \"xref\": \"x\", \"y\": \"DEFENSIVE SPECIALIST\", \"yref\": \"y\"}, {\"font\": {\"color\": \"#FFFFFF\"}, \"showarrow\": false, \"text\": \"\", \"x\": \"AVERAGE STARTER\", \"xref\": \"x\", \"y\": \"DEFENSIVE SPECIALIST\", \"yref\": \"y\"}, {\"font\": {\"color\": \"#FFFFFF\"}, \"showarrow\": false, \"text\": \"\", \"x\": \"BORDERLINE ALL-STAR\", \"xref\": \"x\", \"y\": \"DEFENSIVE SPECIALIST\", \"yref\": \"y\"}, {\"font\": {\"color\": \"#FFFFFF\"}, \"showarrow\": false, \"text\": \"\", \"x\": \"FUTURE ALL-STAR\", \"xref\": \"x\", \"y\": \"DEFENSIVE SPECIALIST\", \"yref\": \"y\"}, {\"font\": {\"color\": \"#FFFFFF\"}, \"showarrow\": false, \"text\": \"2.8\", \"x\": \"KEY ROLE PLAYER\", \"xref\": \"x\", \"y\": \"DEFENSIVE SPECIALIST\", \"yref\": \"y\"}, {\"font\": {\"color\": \"#FFFFFF\"}, \"showarrow\": false, \"text\": \"\", \"x\": \"DEFENSIVE SPECIALIST\", \"xref\": \"x\", \"y\": \"DEFENSIVE SPECIALIST\", \"yref\": \"y\"}, {\"font\": {\"color\": \"#FFFFFF\"}, \"showarrow\": false, \"text\": \"\", \"x\": \"MARGINAL PROSPECT\", \"xref\": \"x\", \"y\": \"DEFENSIVE SPECIALIST\", \"yref\": \"y\"}, {\"font\": {\"color\": \"#FFFFFF\"}, \"showarrow\": false, \"text\": \"2.13\", \"x\": \"GOOD STARTER\", \"xref\": \"x\", \"y\": \"DEFENSIVE SPECIALIST\", \"yref\": \"y\"}, {\"font\": {\"color\": \"#FFFFFF\"}, \"showarrow\": false, \"text\": \"3.28\", \"x\": \"GOOD PROSPECT\", \"xref\": \"x\", \"y\": \"DEFENSIVE SPECIALIST\", \"yref\": \"y\"}, {\"font\": {\"color\": \"#FFFFFF\"}, \"showarrow\": false, \"text\": \"\", \"x\": \"GREAT PROSPECT\", \"xref\": \"x\", \"y\": \"DEFENSIVE SPECIALIST\", \"yref\": \"y\"}, {\"font\": {\"color\": \"#FFFFFF\"}, \"showarrow\": false, \"text\": \"5.054\", \"x\": \"MVP CANDIDATE\", \"xref\": \"x\", \"y\": \"DEFENSIVE SPECIALIST\", \"yref\": \"y\"}, {\"font\": {\"color\": \"#FFFFFF\"}, \"showarrow\": false, \"text\": \"2.12\", \"x\": \"PROJECT\", \"xref\": \"x\", \"y\": \"DEFENSIVE SPECIALIST\", \"yref\": \"y\"}, {\"font\": {\"color\": \"#FFFFFF\"}, \"showarrow\": false, \"text\": \"1.47\", \"x\": \"OK PROSPECT\", \"xref\": \"x\", \"y\": \"DEFENSIVE SPECIALIST\", \"yref\": \"y\"}, {\"font\": {\"color\": \"#FFFFFF\"}, \"showarrow\": false, \"text\": \"2.002\", \"x\": \"ROTATION PLAYER\", \"xref\": \"x\", \"y\": \"DEFENSIVE SPECIALIST\", \"yref\": \"y\"}, {\"font\": {\"color\": \"#FFFFFF\"}, \"showarrow\": false, \"text\": \"\", \"x\": \"DUBIOUS STARTER\", \"xref\": \"x\", \"y\": \"DEFENSIVE SPECIALIST\", \"yref\": \"y\"}, {\"font\": {\"color\": \"#FFFFFF\"}, \"showarrow\": false, \"text\": \"\", \"x\": \"OFFENSIVE SPECIALIST\", \"xref\": \"x\", \"y\": \"DEFENSIVE SPECIALIST\", \"yref\": \"y\"}, {\"font\": {\"color\": \"#FFFFFF\"}, \"showarrow\": false, \"text\": \"1.64\", \"x\": \"SCRUB\", \"xref\": \"x\", \"y\": \"DEFENSIVE SPECIALIST\", \"yref\": \"y\"}, {\"font\": {\"color\": \"#FFFFFF\"}, \"showarrow\": false, \"text\": \"1.55\", \"x\": \"SCRAPPY VETERAN\", \"xref\": \"x\", \"y\": \"DEFENSIVE SPECIALIST\", \"yref\": \"y\"}, {\"font\": {\"color\": \"#FFFFFF\"}, \"showarrow\": false, \"text\": \"2.306\", \"x\": \"UP-AND-COMER\", \"xref\": \"x\", \"y\": \"DEFENSIVE SPECIALIST\", \"yref\": \"y\"}, {\"font\": {\"color\": \"#FFFFFF\"}, \"showarrow\": false, \"text\": \"\", \"x\": \"ALL-STAR\", \"xref\": \"x\", \"y\": \"MARGINAL PROSPECT\", \"yref\": \"y\"}, {\"font\": {\"color\": \"#FFFFFF\"}, \"showarrow\": false, \"text\": \"\", \"x\": \"AVERAGE STARTER\", \"xref\": \"x\", \"y\": \"MARGINAL PROSPECT\", \"yref\": \"y\"}, {\"font\": {\"color\": \"#FFFFFF\"}, \"showarrow\": false, \"text\": \"\", \"x\": \"BORDERLINE ALL-STAR\", \"xref\": \"x\", \"y\": \"MARGINAL PROSPECT\", \"yref\": \"y\"}, {\"font\": {\"color\": \"#FFFFFF\"}, \"showarrow\": false, \"text\": \"\", \"x\": \"FUTURE ALL-STAR\", \"xref\": \"x\", \"y\": \"MARGINAL PROSPECT\", \"yref\": \"y\"}, {\"font\": {\"color\": \"#FFFFFF\"}, \"showarrow\": false, \"text\": \"\", \"x\": \"KEY ROLE PLAYER\", \"xref\": \"x\", \"y\": \"MARGINAL PROSPECT\", \"yref\": \"y\"}, {\"font\": {\"color\": \"#FFFFFF\"}, \"showarrow\": false, \"text\": \"\", \"x\": \"DEFENSIVE SPECIALIST\", \"xref\": \"x\", \"y\": \"MARGINAL PROSPECT\", \"yref\": \"y\"}, {\"font\": {\"color\": \"#FFFFFF\"}, \"showarrow\": false, \"text\": \"3.31\", \"x\": \"MARGINAL PROSPECT\", \"xref\": \"x\", \"y\": \"MARGINAL PROSPECT\", \"yref\": \"y\"}, {\"font\": {\"color\": \"#FFFFFF\"}, \"showarrow\": false, \"text\": \"\", \"x\": \"GOOD STARTER\", \"xref\": \"x\", \"y\": \"MARGINAL PROSPECT\", \"yref\": \"y\"}, {\"font\": {\"color\": \"#FFFFFF\"}, \"showarrow\": false, \"text\": \"\", \"x\": \"GOOD PROSPECT\", \"xref\": \"x\", \"y\": \"MARGINAL PROSPECT\", \"yref\": \"y\"}, {\"font\": {\"color\": \"#FFFFFF\"}, \"showarrow\": false, \"text\": \"\", \"x\": \"GREAT PROSPECT\", \"xref\": \"x\", \"y\": \"MARGINAL PROSPECT\", \"yref\": \"y\"}, {\"font\": {\"color\": \"#FFFFFF\"}, \"showarrow\": false, \"text\": \"\", \"x\": \"MVP CANDIDATE\", \"xref\": \"x\", \"y\": \"MARGINAL PROSPECT\", \"yref\": \"y\"}, {\"font\": {\"color\": \"#FFFFFF\"}, \"showarrow\": false, \"text\": \"2.373\", \"x\": \"PROJECT\", \"xref\": \"x\", \"y\": \"MARGINAL PROSPECT\", \"yref\": \"y\"}, {\"font\": {\"color\": \"#FFFFFF\"}, \"showarrow\": false, \"text\": \"1.713\", \"x\": \"OK PROSPECT\", \"xref\": \"x\", \"y\": \"MARGINAL PROSPECT\", \"yref\": \"y\"}, {\"font\": {\"color\": \"#FFFFFF\"}, \"showarrow\": false, \"text\": \"2.434\", \"x\": \"ROTATION PLAYER\", \"xref\": \"x\", \"y\": \"MARGINAL PROSPECT\", \"yref\": \"y\"}, {\"font\": {\"color\": \"#FFFFFF\"}, \"showarrow\": false, \"text\": \"\", \"x\": \"DUBIOUS STARTER\", \"xref\": \"x\", \"y\": \"MARGINAL PROSPECT\", \"yref\": \"y\"}, {\"font\": {\"color\": \"#FFFFFF\"}, \"showarrow\": false, \"text\": \"2.06\", \"x\": \"OFFENSIVE SPECIALIST\", \"xref\": \"x\", \"y\": \"MARGINAL PROSPECT\", \"yref\": \"y\"}, {\"font\": {\"color\": \"#FFFFFF\"}, \"showarrow\": false, \"text\": \"1.891\", \"x\": \"SCRUB\", \"xref\": \"x\", \"y\": \"MARGINAL PROSPECT\", \"yref\": \"y\"}, {\"font\": {\"color\": \"#FFFFFF\"}, \"showarrow\": false, \"text\": \"2.373\", \"x\": \"SCRAPPY VETERAN\", \"xref\": \"x\", \"y\": \"MARGINAL PROSPECT\", \"yref\": \"y\"}, {\"font\": {\"color\": \"#FFFFFF\"}, \"showarrow\": false, \"text\": \"2.856\", \"x\": \"UP-AND-COMER\", \"xref\": \"x\", \"y\": \"MARGINAL PROSPECT\", \"yref\": \"y\"}, {\"font\": {\"color\": \"#FFFFFF\"}, \"showarrow\": false, \"text\": \"\", \"x\": \"ALL-STAR\", \"xref\": \"x\", \"y\": \"GOOD STARTER\", \"yref\": \"y\"}, {\"font\": {\"color\": \"#FFFFFF\"}, \"showarrow\": false, \"text\": \"\", \"x\": \"AVERAGE STARTER\", \"xref\": \"x\", \"y\": \"GOOD STARTER\", \"yref\": \"y\"}, {\"font\": {\"color\": \"#FFFFFF\"}, \"showarrow\": false, \"text\": \"\", \"x\": \"BORDERLINE ALL-STAR\", \"xref\": \"x\", \"y\": \"GOOD STARTER\", \"yref\": \"y\"}, {\"font\": {\"color\": \"#FFFFFF\"}, \"showarrow\": false, \"text\": \"\", \"x\": \"FUTURE ALL-STAR\", \"xref\": \"x\", \"y\": \"GOOD STARTER\", \"yref\": \"y\"}, {\"font\": {\"color\": \"#FFFFFF\"}, \"showarrow\": false, \"text\": \"3.234\", \"x\": \"KEY ROLE PLAYER\", \"xref\": \"x\", \"y\": \"GOOD STARTER\", \"yref\": \"y\"}, {\"font\": {\"color\": \"#FFFFFF\"}, \"showarrow\": false, \"text\": \"\", \"x\": \"DEFENSIVE SPECIALIST\", \"xref\": \"x\", \"y\": \"GOOD STARTER\", \"yref\": \"y\"}, {\"font\": {\"color\": \"#FFFFFF\"}, \"showarrow\": false, \"text\": \"2.621\", \"x\": \"MARGINAL PROSPECT\", \"xref\": \"x\", \"y\": \"GOOD STARTER\", \"yref\": \"y\"}, {\"font\": {\"color\": \"#FFFFFF\"}, \"showarrow\": false, \"text\": \"\", \"x\": \"GOOD STARTER\", \"xref\": \"x\", \"y\": \"GOOD STARTER\", \"yref\": \"y\"}, {\"font\": {\"color\": \"#FFFFFF\"}, \"showarrow\": false, \"text\": \"\", \"x\": \"GOOD PROSPECT\", \"xref\": \"x\", \"y\": \"GOOD STARTER\", \"yref\": \"y\"}, {\"font\": {\"color\": \"#FFFFFF\"}, \"showarrow\": false, \"text\": \"3.0\", \"x\": \"GREAT PROSPECT\", \"xref\": \"x\", \"y\": \"GOOD STARTER\", \"yref\": \"y\"}, {\"font\": {\"color\": \"#FFFFFF\"}, \"showarrow\": false, \"text\": \"\", \"x\": \"MVP CANDIDATE\", \"xref\": \"x\", \"y\": \"GOOD STARTER\", \"yref\": \"y\"}, {\"font\": {\"color\": \"#FFFFFF\"}, \"showarrow\": false, \"text\": \"2.576\", \"x\": \"PROJECT\", \"xref\": \"x\", \"y\": \"GOOD STARTER\", \"yref\": \"y\"}, {\"font\": {\"color\": \"#FFFFFF\"}, \"showarrow\": false, \"text\": \"3.24\", \"x\": \"OK PROSPECT\", \"xref\": \"x\", \"y\": \"GOOD STARTER\", \"yref\": \"y\"}, {\"font\": {\"color\": \"#FFFFFF\"}, \"showarrow\": false, \"text\": \"3.01\", \"x\": \"ROTATION PLAYER\", \"xref\": \"x\", \"y\": \"GOOD STARTER\", \"yref\": \"y\"}, {\"font\": {\"color\": \"#FFFFFF\"}, \"showarrow\": false, \"text\": \"\", \"x\": \"DUBIOUS STARTER\", \"xref\": \"x\", \"y\": \"GOOD STARTER\", \"yref\": \"y\"}, {\"font\": {\"color\": \"#FFFFFF\"}, \"showarrow\": false, \"text\": \"\", \"x\": \"OFFENSIVE SPECIALIST\", \"xref\": \"x\", \"y\": \"GOOD STARTER\", \"yref\": \"y\"}, {\"font\": {\"color\": \"#FFFFFF\"}, \"showarrow\": false, \"text\": \"1.426\", \"x\": \"SCRUB\", \"xref\": \"x\", \"y\": \"GOOD STARTER\", \"yref\": \"y\"}, {\"font\": {\"color\": \"#FFFFFF\"}, \"showarrow\": false, \"text\": \"\", \"x\": \"SCRAPPY VETERAN\", \"xref\": \"x\", \"y\": \"GOOD STARTER\", \"yref\": \"y\"}, {\"font\": {\"color\": \"#FFFFFF\"}, \"showarrow\": false, \"text\": \"3.741\", \"x\": \"UP-AND-COMER\", \"xref\": \"x\", \"y\": \"GOOD STARTER\", \"yref\": \"y\"}, {\"font\": {\"color\": \"#FFFFFF\"}, \"showarrow\": false, \"text\": \"\", \"x\": \"ALL-STAR\", \"xref\": \"x\", \"y\": \"GOOD PROSPECT\", \"yref\": \"y\"}, {\"font\": {\"color\": \"#FFFFFF\"}, \"showarrow\": false, \"text\": \"\", \"x\": \"AVERAGE STARTER\", \"xref\": \"x\", \"y\": \"GOOD PROSPECT\", \"yref\": \"y\"}, {\"font\": {\"color\": \"#FFFFFF\"}, \"showarrow\": false, \"text\": \"\", \"x\": \"BORDERLINE ALL-STAR\", \"xref\": \"x\", \"y\": \"GOOD PROSPECT\", \"yref\": \"y\"}, {\"font\": {\"color\": \"#FFFFFF\"}, \"showarrow\": false, \"text\": \"\", \"x\": \"FUTURE ALL-STAR\", \"xref\": \"x\", \"y\": \"GOOD PROSPECT\", \"yref\": \"y\"}, {\"font\": {\"color\": \"#FFFFFF\"}, \"showarrow\": false, \"text\": \"1.33\", \"x\": \"KEY ROLE PLAYER\", \"xref\": \"x\", \"y\": \"GOOD PROSPECT\", \"yref\": \"y\"}, {\"font\": {\"color\": \"#FFFFFF\"}, \"showarrow\": false, \"text\": \"\", \"x\": \"DEFENSIVE SPECIALIST\", \"xref\": \"x\", \"y\": \"GOOD PROSPECT\", \"yref\": \"y\"}, {\"font\": {\"color\": \"#FFFFFF\"}, \"showarrow\": false, \"text\": \"1.67\", \"x\": \"MARGINAL PROSPECT\", \"xref\": \"x\", \"y\": \"GOOD PROSPECT\", \"yref\": \"y\"}, {\"font\": {\"color\": \"#FFFFFF\"}, \"showarrow\": false, \"text\": \"3.09\", \"x\": \"GOOD STARTER\", \"xref\": \"x\", \"y\": \"GOOD PROSPECT\", \"yref\": \"y\"}, {\"font\": {\"color\": \"#FFFFFF\"}, \"showarrow\": false, \"text\": \"\", \"x\": \"GOOD PROSPECT\", \"xref\": \"x\", \"y\": \"GOOD PROSPECT\", \"yref\": \"y\"}, {\"font\": {\"color\": \"#FFFFFF\"}, \"showarrow\": false, \"text\": \"\", \"x\": \"GREAT PROSPECT\", \"xref\": \"x\", \"y\": \"GOOD PROSPECT\", \"yref\": \"y\"}, {\"font\": {\"color\": \"#FFFFFF\"}, \"showarrow\": false, \"text\": \"\", \"x\": \"MVP CANDIDATE\", \"xref\": \"x\", \"y\": \"GOOD PROSPECT\", \"yref\": \"y\"}, {\"font\": {\"color\": \"#FFFFFF\"}, \"showarrow\": false, \"text\": \"2.081\", \"x\": \"PROJECT\", \"xref\": \"x\", \"y\": \"GOOD PROSPECT\", \"yref\": \"y\"}, {\"font\": {\"color\": \"#FFFFFF\"}, \"showarrow\": false, \"text\": \"\", \"x\": \"OK PROSPECT\", \"xref\": \"x\", \"y\": \"GOOD PROSPECT\", \"yref\": \"y\"}, {\"font\": {\"color\": \"#FFFFFF\"}, \"showarrow\": false, \"text\": \"1.979\", \"x\": \"ROTATION PLAYER\", \"xref\": \"x\", \"y\": \"GOOD PROSPECT\", \"yref\": \"y\"}, {\"font\": {\"color\": \"#FFFFFF\"}, \"showarrow\": false, \"text\": \"\", \"x\": \"DUBIOUS STARTER\", \"xref\": \"x\", \"y\": \"GOOD PROSPECT\", \"yref\": \"y\"}, {\"font\": {\"color\": \"#FFFFFF\"}, \"showarrow\": false, \"text\": \"\", \"x\": \"OFFENSIVE SPECIALIST\", \"xref\": \"x\", \"y\": \"GOOD PROSPECT\", \"yref\": \"y\"}, {\"font\": {\"color\": \"#FFFFFF\"}, \"showarrow\": false, \"text\": \"1.728\", \"x\": \"SCRUB\", \"xref\": \"x\", \"y\": \"GOOD PROSPECT\", \"yref\": \"y\"}, {\"font\": {\"color\": \"#FFFFFF\"}, \"showarrow\": false, \"text\": \"\", \"x\": \"SCRAPPY VETERAN\", \"xref\": \"x\", \"y\": \"GOOD PROSPECT\", \"yref\": \"y\"}, {\"font\": {\"color\": \"#FFFFFF\"}, \"showarrow\": false, \"text\": \"2.549\", \"x\": \"UP-AND-COMER\", \"xref\": \"x\", \"y\": \"GOOD PROSPECT\", \"yref\": \"y\"}, {\"font\": {\"color\": \"#FFFFFF\"}, \"showarrow\": false, \"text\": \"\", \"x\": \"ALL-STAR\", \"xref\": \"x\", \"y\": \"GREAT PROSPECT\", \"yref\": \"y\"}, {\"font\": {\"color\": \"#FFFFFF\"}, \"showarrow\": false, \"text\": \"\", \"x\": \"AVERAGE STARTER\", \"xref\": \"x\", \"y\": \"GREAT PROSPECT\", \"yref\": \"y\"}, {\"font\": {\"color\": \"#FFFFFF\"}, \"showarrow\": false, \"text\": \"\", \"x\": \"BORDERLINE ALL-STAR\", \"xref\": \"x\", \"y\": \"GREAT PROSPECT\", \"yref\": \"y\"}, {\"font\": {\"color\": \"#FFFFFF\"}, \"showarrow\": false, \"text\": \"\", \"x\": \"FUTURE ALL-STAR\", \"xref\": \"x\", \"y\": \"GREAT PROSPECT\", \"yref\": \"y\"}, {\"font\": {\"color\": \"#FFFFFF\"}, \"showarrow\": false, \"text\": \"3.24\", \"x\": \"KEY ROLE PLAYER\", \"xref\": \"x\", \"y\": \"GREAT PROSPECT\", \"yref\": \"y\"}, {\"font\": {\"color\": \"#FFFFFF\"}, \"showarrow\": false, \"text\": \"\", \"x\": \"DEFENSIVE SPECIALIST\", \"xref\": \"x\", \"y\": \"GREAT PROSPECT\", \"yref\": \"y\"}, {\"font\": {\"color\": \"#FFFFFF\"}, \"showarrow\": false, \"text\": \"2.03\", \"x\": \"MARGINAL PROSPECT\", \"xref\": \"x\", \"y\": \"GREAT PROSPECT\", \"yref\": \"y\"}, {\"font\": {\"color\": \"#FFFFFF\"}, \"showarrow\": false, \"text\": \"\", \"x\": \"GOOD STARTER\", \"xref\": \"x\", \"y\": \"GREAT PROSPECT\", \"yref\": \"y\"}, {\"font\": {\"color\": \"#FFFFFF\"}, \"showarrow\": false, \"text\": \"\", \"x\": \"GOOD PROSPECT\", \"xref\": \"x\", \"y\": \"GREAT PROSPECT\", \"yref\": \"y\"}, {\"font\": {\"color\": \"#FFFFFF\"}, \"showarrow\": false, \"text\": \"\", \"x\": \"GREAT PROSPECT\", \"xref\": \"x\", \"y\": \"GREAT PROSPECT\", \"yref\": \"y\"}, {\"font\": {\"color\": \"#FFFFFF\"}, \"showarrow\": false, \"text\": \"2.05\", \"x\": \"MVP CANDIDATE\", \"xref\": \"x\", \"y\": \"GREAT PROSPECT\", \"yref\": \"y\"}, {\"font\": {\"color\": \"#FFFFFF\"}, \"showarrow\": false, \"text\": \"2.584\", \"x\": \"PROJECT\", \"xref\": \"x\", \"y\": \"GREAT PROSPECT\", \"yref\": \"y\"}, {\"font\": {\"color\": \"#FFFFFF\"}, \"showarrow\": false, \"text\": \"6.19\", \"x\": \"OK PROSPECT\", \"xref\": \"x\", \"y\": \"GREAT PROSPECT\", \"yref\": \"y\"}, {\"font\": {\"color\": \"#FFFFFF\"}, \"showarrow\": false, \"text\": \"2.373\", \"x\": \"ROTATION PLAYER\", \"xref\": \"x\", \"y\": \"GREAT PROSPECT\", \"yref\": \"y\"}, {\"font\": {\"color\": \"#FFFFFF\"}, \"showarrow\": false, \"text\": \"\", \"x\": \"DUBIOUS STARTER\", \"xref\": \"x\", \"y\": \"GREAT PROSPECT\", \"yref\": \"y\"}, {\"font\": {\"color\": \"#FFFFFF\"}, \"showarrow\": false, \"text\": \"\", \"x\": \"OFFENSIVE SPECIALIST\", \"xref\": \"x\", \"y\": \"GREAT PROSPECT\", \"yref\": \"y\"}, {\"font\": {\"color\": \"#FFFFFF\"}, \"showarrow\": false, \"text\": \"1.593\", \"x\": \"SCRUB\", \"xref\": \"x\", \"y\": \"GREAT PROSPECT\", \"yref\": \"y\"}, {\"font\": {\"color\": \"#FFFFFF\"}, \"showarrow\": false, \"text\": \"\", \"x\": \"SCRAPPY VETERAN\", \"xref\": \"x\", \"y\": \"GREAT PROSPECT\", \"yref\": \"y\"}, {\"font\": {\"color\": \"#FFFFFF\"}, \"showarrow\": false, \"text\": \"\", \"x\": \"UP-AND-COMER\", \"xref\": \"x\", \"y\": \"GREAT PROSPECT\", \"yref\": \"y\"}, {\"font\": {\"color\": \"#FFFFFF\"}, \"showarrow\": false, \"text\": \"\", \"x\": \"ALL-STAR\", \"xref\": \"x\", \"y\": \"MVP CANDIDATE\", \"yref\": \"y\"}, {\"font\": {\"color\": \"#FFFFFF\"}, \"showarrow\": false, \"text\": \"\", \"x\": \"AVERAGE STARTER\", \"xref\": \"x\", \"y\": \"MVP CANDIDATE\", \"yref\": \"y\"}, {\"font\": {\"color\": \"#FFFFFF\"}, \"showarrow\": false, \"text\": \"\", \"x\": \"BORDERLINE ALL-STAR\", \"xref\": \"x\", \"y\": \"MVP CANDIDATE\", \"yref\": \"y\"}, {\"font\": {\"color\": \"#FFFFFF\"}, \"showarrow\": false, \"text\": \"\", \"x\": \"FUTURE ALL-STAR\", \"xref\": \"x\", \"y\": \"MVP CANDIDATE\", \"yref\": \"y\"}, {\"font\": {\"color\": \"#FFFFFF\"}, \"showarrow\": false, \"text\": \"\", \"x\": \"KEY ROLE PLAYER\", \"xref\": \"x\", \"y\": \"MVP CANDIDATE\", \"yref\": \"y\"}, {\"font\": {\"color\": \"#FFFFFF\"}, \"showarrow\": false, \"text\": \"\", \"x\": \"DEFENSIVE SPECIALIST\", \"xref\": \"x\", \"y\": \"MVP CANDIDATE\", \"yref\": \"y\"}, {\"font\": {\"color\": \"#FFFFFF\"}, \"showarrow\": false, \"text\": \"\", \"x\": \"MARGINAL PROSPECT\", \"xref\": \"x\", \"y\": \"MVP CANDIDATE\", \"yref\": \"y\"}, {\"font\": {\"color\": \"#FFFFFF\"}, \"showarrow\": false, \"text\": \"\", \"x\": \"GOOD STARTER\", \"xref\": \"x\", \"y\": \"MVP CANDIDATE\", \"yref\": \"y\"}, {\"font\": {\"color\": \"#FFFFFF\"}, \"showarrow\": false, \"text\": \"\", \"x\": \"GOOD PROSPECT\", \"xref\": \"x\", \"y\": \"MVP CANDIDATE\", \"yref\": \"y\"}, {\"font\": {\"color\": \"#FFFFFF\"}, \"showarrow\": false, \"text\": \"\", \"x\": \"GREAT PROSPECT\", \"xref\": \"x\", \"y\": \"MVP CANDIDATE\", \"yref\": \"y\"}, {\"font\": {\"color\": \"#FFFFFF\"}, \"showarrow\": false, \"text\": \"\", \"x\": \"MVP CANDIDATE\", \"xref\": \"x\", \"y\": \"MVP CANDIDATE\", \"yref\": \"y\"}, {\"font\": {\"color\": \"#FFFFFF\"}, \"showarrow\": false, \"text\": \"4.06\", \"x\": \"PROJECT\", \"xref\": \"x\", \"y\": \"MVP CANDIDATE\", \"yref\": \"y\"}, {\"font\": {\"color\": \"#FFFFFF\"}, \"showarrow\": false, \"text\": \"6.16\", \"x\": \"OK PROSPECT\", \"xref\": \"x\", \"y\": \"MVP CANDIDATE\", \"yref\": \"y\"}, {\"font\": {\"color\": \"#FFFFFF\"}, \"showarrow\": false, \"text\": \"3.103\", \"x\": \"ROTATION PLAYER\", \"xref\": \"x\", \"y\": \"MVP CANDIDATE\", \"yref\": \"y\"}, {\"font\": {\"color\": \"#FFFFFF\"}, \"showarrow\": false, \"text\": \"\", \"x\": \"DUBIOUS STARTER\", \"xref\": \"x\", \"y\": \"MVP CANDIDATE\", \"yref\": \"y\"}, {\"font\": {\"color\": \"#FFFFFF\"}, \"showarrow\": false, \"text\": \"\", \"x\": \"OFFENSIVE SPECIALIST\", \"xref\": \"x\", \"y\": \"MVP CANDIDATE\", \"yref\": \"y\"}, {\"font\": {\"color\": \"#FFFFFF\"}, \"showarrow\": false, \"text\": \"3.331\", \"x\": \"SCRUB\", \"xref\": \"x\", \"y\": \"MVP CANDIDATE\", \"yref\": \"y\"}, {\"font\": {\"color\": \"#FFFFFF\"}, \"showarrow\": false, \"text\": \"4.04\", \"x\": \"SCRAPPY VETERAN\", \"xref\": \"x\", \"y\": \"MVP CANDIDATE\", \"yref\": \"y\"}, {\"font\": {\"color\": \"#FFFFFF\"}, \"showarrow\": false, \"text\": \"4.584\", \"x\": \"UP-AND-COMER\", \"xref\": \"x\", \"y\": \"MVP CANDIDATE\", \"yref\": \"y\"}, {\"font\": {\"color\": \"#FFFFFF\"}, \"showarrow\": false, \"text\": \"\", \"x\": \"ALL-STAR\", \"xref\": \"x\", \"y\": \"PROJECT\", \"yref\": \"y\"}, {\"font\": {\"color\": \"#FFFFFF\"}, \"showarrow\": false, \"text\": \"\", \"x\": \"AVERAGE STARTER\", \"xref\": \"x\", \"y\": \"PROJECT\", \"yref\": \"y\"}, {\"font\": {\"color\": \"#FFFFFF\"}, \"showarrow\": false, \"text\": \"\", \"x\": \"BORDERLINE ALL-STAR\", \"xref\": \"x\", \"y\": \"PROJECT\", \"yref\": \"y\"}, {\"font\": {\"color\": \"#FFFFFF\"}, \"showarrow\": false, \"text\": \"\", \"x\": \"FUTURE ALL-STAR\", \"xref\": \"x\", \"y\": \"PROJECT\", \"yref\": \"y\"}, {\"font\": {\"color\": \"#FFFFFF\"}, \"showarrow\": false, \"text\": \"\", \"x\": \"KEY ROLE PLAYER\", \"xref\": \"x\", \"y\": \"PROJECT\", \"yref\": \"y\"}, {\"font\": {\"color\": \"#FFFFFF\"}, \"showarrow\": false, \"text\": \"\", \"x\": \"DEFENSIVE SPECIALIST\", \"xref\": \"x\", \"y\": \"PROJECT\", \"yref\": \"y\"}, {\"font\": {\"color\": \"#FFFFFF\"}, \"showarrow\": false, \"text\": \"\", \"x\": \"MARGINAL PROSPECT\", \"xref\": \"x\", \"y\": \"PROJECT\", \"yref\": \"y\"}, {\"font\": {\"color\": \"#FFFFFF\"}, \"showarrow\": false, \"text\": \"\", \"x\": \"GOOD STARTER\", \"xref\": \"x\", \"y\": \"PROJECT\", \"yref\": \"y\"}, {\"font\": {\"color\": \"#FFFFFF\"}, \"showarrow\": false, \"text\": \"\", \"x\": \"GOOD PROSPECT\", \"xref\": \"x\", \"y\": \"PROJECT\", \"yref\": \"y\"}, {\"font\": {\"color\": \"#FFFFFF\"}, \"showarrow\": false, \"text\": \"\", \"x\": \"GREAT PROSPECT\", \"xref\": \"x\", \"y\": \"PROJECT\", \"yref\": \"y\"}, {\"font\": {\"color\": \"#FFFFFF\"}, \"showarrow\": false, \"text\": \"\", \"x\": \"MVP CANDIDATE\", \"xref\": \"x\", \"y\": \"PROJECT\", \"yref\": \"y\"}, {\"font\": {\"color\": \"#FFFFFF\"}, \"showarrow\": false, \"text\": \"1.753\", \"x\": \"PROJECT\", \"xref\": \"x\", \"y\": \"PROJECT\", \"yref\": \"y\"}, {\"font\": {\"color\": \"#FFFFFF\"}, \"showarrow\": false, \"text\": \"\", \"x\": \"OK PROSPECT\", \"xref\": \"x\", \"y\": \"PROJECT\", \"yref\": \"y\"}, {\"font\": {\"color\": \"#FFFFFF\"}, \"showarrow\": false, \"text\": \"2.331\", \"x\": \"ROTATION PLAYER\", \"xref\": \"x\", \"y\": \"PROJECT\", \"yref\": \"y\"}, {\"font\": {\"color\": \"#FFFFFF\"}, \"showarrow\": false, \"text\": \"\", \"x\": \"DUBIOUS STARTER\", \"xref\": \"x\", \"y\": \"PROJECT\", \"yref\": \"y\"}, {\"font\": {\"color\": \"#FFFFFF\"}, \"showarrow\": false, \"text\": \"\", \"x\": \"OFFENSIVE SPECIALIST\", \"xref\": \"x\", \"y\": \"PROJECT\", \"yref\": \"y\"}, {\"font\": {\"color\": \"#FFFFFF\"}, \"showarrow\": false, \"text\": \"1.981\", \"x\": \"SCRUB\", \"xref\": \"x\", \"y\": \"PROJECT\", \"yref\": \"y\"}, {\"font\": {\"color\": \"#FFFFFF\"}, \"showarrow\": false, \"text\": \"2.649\", \"x\": \"SCRAPPY VETERAN\", \"xref\": \"x\", \"y\": \"PROJECT\", \"yref\": \"y\"}, {\"font\": {\"color\": \"#FFFFFF\"}, \"showarrow\": false, \"text\": \"2.094\", \"x\": \"UP-AND-COMER\", \"xref\": \"x\", \"y\": \"PROJECT\", \"yref\": \"y\"}, {\"font\": {\"color\": \"#FFFFFF\"}, \"showarrow\": false, \"text\": \"\", \"x\": \"ALL-STAR\", \"xref\": \"x\", \"y\": \"OK PROSPECT\", \"yref\": \"y\"}, {\"font\": {\"color\": \"#FFFFFF\"}, \"showarrow\": false, \"text\": \"\", \"x\": \"AVERAGE STARTER\", \"xref\": \"x\", \"y\": \"OK PROSPECT\", \"yref\": \"y\"}, {\"font\": {\"color\": \"#FFFFFF\"}, \"showarrow\": false, \"text\": \"\", \"x\": \"BORDERLINE ALL-STAR\", \"xref\": \"x\", \"y\": \"OK PROSPECT\", \"yref\": \"y\"}, {\"font\": {\"color\": \"#FFFFFF\"}, \"showarrow\": false, \"text\": \"\", \"x\": \"FUTURE ALL-STAR\", \"xref\": \"x\", \"y\": \"OK PROSPECT\", \"yref\": \"y\"}, {\"font\": {\"color\": \"#FFFFFF\"}, \"showarrow\": false, \"text\": \"\", \"x\": \"KEY ROLE PLAYER\", \"xref\": \"x\", \"y\": \"OK PROSPECT\", \"yref\": \"y\"}, {\"font\": {\"color\": \"#FFFFFF\"}, \"showarrow\": false, \"text\": \"\", \"x\": \"DEFENSIVE SPECIALIST\", \"xref\": \"x\", \"y\": \"OK PROSPECT\", \"yref\": \"y\"}, {\"font\": {\"color\": \"#FFFFFF\"}, \"showarrow\": false, \"text\": \"\", \"x\": \"MARGINAL PROSPECT\", \"xref\": \"x\", \"y\": \"OK PROSPECT\", \"yref\": \"y\"}, {\"font\": {\"color\": \"#FFFFFF\"}, \"showarrow\": false, \"text\": \"\", \"x\": \"GOOD STARTER\", \"xref\": \"x\", \"y\": \"OK PROSPECT\", \"yref\": \"y\"}, {\"font\": {\"color\": \"#FFFFFF\"}, \"showarrow\": false, \"text\": \"\", \"x\": \"GOOD PROSPECT\", \"xref\": \"x\", \"y\": \"OK PROSPECT\", \"yref\": \"y\"}, {\"font\": {\"color\": \"#FFFFFF\"}, \"showarrow\": false, \"text\": \"\", \"x\": \"GREAT PROSPECT\", \"xref\": \"x\", \"y\": \"OK PROSPECT\", \"yref\": \"y\"}, {\"font\": {\"color\": \"#FFFFFF\"}, \"showarrow\": false, \"text\": \"\", \"x\": \"MVP CANDIDATE\", \"xref\": \"x\", \"y\": \"OK PROSPECT\", \"yref\": \"y\"}, {\"font\": {\"color\": \"#FFFFFF\"}, \"showarrow\": false, \"text\": \"2.192\", \"x\": \"PROJECT\", \"xref\": \"x\", \"y\": \"OK PROSPECT\", \"yref\": \"y\"}, {\"font\": {\"color\": \"#FFFFFF\"}, \"showarrow\": false, \"text\": \"2.039\", \"x\": \"OK PROSPECT\", \"xref\": \"x\", \"y\": \"OK PROSPECT\", \"yref\": \"y\"}, {\"font\": {\"color\": \"#FFFFFF\"}, \"showarrow\": false, \"text\": \"1.921\", \"x\": \"ROTATION PLAYER\", \"xref\": \"x\", \"y\": \"OK PROSPECT\", \"yref\": \"y\"}, {\"font\": {\"color\": \"#FFFFFF\"}, \"showarrow\": false, \"text\": \"\", \"x\": \"DUBIOUS STARTER\", \"xref\": \"x\", \"y\": \"OK PROSPECT\", \"yref\": \"y\"}, {\"font\": {\"color\": \"#FFFFFF\"}, \"showarrow\": false, \"text\": \"\", \"x\": \"OFFENSIVE SPECIALIST\", \"xref\": \"x\", \"y\": \"OK PROSPECT\", \"yref\": \"y\"}, {\"font\": {\"color\": \"#FFFFFF\"}, \"showarrow\": false, \"text\": \"1.811\", \"x\": \"SCRUB\", \"xref\": \"x\", \"y\": \"OK PROSPECT\", \"yref\": \"y\"}, {\"font\": {\"color\": \"#FFFFFF\"}, \"showarrow\": false, \"text\": \"2.044\", \"x\": \"SCRAPPY VETERAN\", \"xref\": \"x\", \"y\": \"OK PROSPECT\", \"yref\": \"y\"}, {\"font\": {\"color\": \"#FFFFFF\"}, \"showarrow\": false, \"text\": \"2.633\", \"x\": \"UP-AND-COMER\", \"xref\": \"x\", \"y\": \"OK PROSPECT\", \"yref\": \"y\"}, {\"font\": {\"color\": \"#FFFFFF\"}, \"showarrow\": false, \"text\": \"\", \"x\": \"ALL-STAR\", \"xref\": \"x\", \"y\": \"ROTATION PLAYER\", \"yref\": \"y\"}, {\"font\": {\"color\": \"#FFFFFF\"}, \"showarrow\": false, \"text\": \"\", \"x\": \"AVERAGE STARTER\", \"xref\": \"x\", \"y\": \"ROTATION PLAYER\", \"yref\": \"y\"}, {\"font\": {\"color\": \"#FFFFFF\"}, \"showarrow\": false, \"text\": \"\", \"x\": \"BORDERLINE ALL-STAR\", \"xref\": \"x\", \"y\": \"ROTATION PLAYER\", \"yref\": \"y\"}, {\"font\": {\"color\": \"#FFFFFF\"}, \"showarrow\": false, \"text\": \"\", \"x\": \"FUTURE ALL-STAR\", \"xref\": \"x\", \"y\": \"ROTATION PLAYER\", \"yref\": \"y\"}, {\"font\": {\"color\": \"#FFFFFF\"}, \"showarrow\": false, \"text\": \"\", \"x\": \"KEY ROLE PLAYER\", \"xref\": \"x\", \"y\": \"ROTATION PLAYER\", \"yref\": \"y\"}, {\"font\": {\"color\": \"#FFFFFF\"}, \"showarrow\": false, \"text\": \"\", \"x\": \"DEFENSIVE SPECIALIST\", \"xref\": \"x\", \"y\": \"ROTATION PLAYER\", \"yref\": \"y\"}, {\"font\": {\"color\": \"#FFFFFF\"}, \"showarrow\": false, \"text\": \"\", \"x\": \"MARGINAL PROSPECT\", \"xref\": \"x\", \"y\": \"ROTATION PLAYER\", \"yref\": \"y\"}, {\"font\": {\"color\": \"#FFFFFF\"}, \"showarrow\": false, \"text\": \"\", \"x\": \"GOOD STARTER\", \"xref\": \"x\", \"y\": \"ROTATION PLAYER\", \"yref\": \"y\"}, {\"font\": {\"color\": \"#FFFFFF\"}, \"showarrow\": false, \"text\": \"\", \"x\": \"GOOD PROSPECT\", \"xref\": \"x\", \"y\": \"ROTATION PLAYER\", \"yref\": \"y\"}, {\"font\": {\"color\": \"#FFFFFF\"}, \"showarrow\": false, \"text\": \"\", \"x\": \"GREAT PROSPECT\", \"xref\": \"x\", \"y\": \"ROTATION PLAYER\", \"yref\": \"y\"}, {\"font\": {\"color\": \"#FFFFFF\"}, \"showarrow\": false, \"text\": \"\", \"x\": \"MVP CANDIDATE\", \"xref\": \"x\", \"y\": \"ROTATION PLAYER\", \"yref\": \"y\"}, {\"font\": {\"color\": \"#FFFFFF\"}, \"showarrow\": false, \"text\": \"\", \"x\": \"PROJECT\", \"xref\": \"x\", \"y\": \"ROTATION PLAYER\", \"yref\": \"y\"}, {\"font\": {\"color\": \"#FFFFFF\"}, \"showarrow\": false, \"text\": \"\", \"x\": \"OK PROSPECT\", \"xref\": \"x\", \"y\": \"ROTATION PLAYER\", \"yref\": \"y\"}, {\"font\": {\"color\": \"#FFFFFF\"}, \"showarrow\": false, \"text\": \"2.427\", \"x\": \"ROTATION PLAYER\", \"xref\": \"x\", \"y\": \"ROTATION PLAYER\", \"yref\": \"y\"}, {\"font\": {\"color\": \"#FFFFFF\"}, \"showarrow\": false, \"text\": \"\", \"x\": \"DUBIOUS STARTER\", \"xref\": \"x\", \"y\": \"ROTATION PLAYER\", \"yref\": \"y\"}, {\"font\": {\"color\": \"#FFFFFF\"}, \"showarrow\": false, \"text\": \"\", \"x\": \"OFFENSIVE SPECIALIST\", \"xref\": \"x\", \"y\": \"ROTATION PLAYER\", \"yref\": \"y\"}, {\"font\": {\"color\": \"#FFFFFF\"}, \"showarrow\": false, \"text\": \"2.075\", \"x\": \"SCRUB\", \"xref\": \"x\", \"y\": \"ROTATION PLAYER\", \"yref\": \"y\"}, {\"font\": {\"color\": \"#FFFFFF\"}, \"showarrow\": false, \"text\": \"1.834\", \"x\": \"SCRAPPY VETERAN\", \"xref\": \"x\", \"y\": \"ROTATION PLAYER\", \"yref\": \"y\"}, {\"font\": {\"color\": \"#FFFFFF\"}, \"showarrow\": false, \"text\": \"2.633\", \"x\": \"UP-AND-COMER\", \"xref\": \"x\", \"y\": \"ROTATION PLAYER\", \"yref\": \"y\"}, {\"font\": {\"color\": \"#FFFFFF\"}, \"showarrow\": false, \"text\": \"\", \"x\": \"ALL-STAR\", \"xref\": \"x\", \"y\": \"DUBIOUS STARTER\", \"yref\": \"y\"}, {\"font\": {\"color\": \"#FFFFFF\"}, \"showarrow\": false, \"text\": \"\", \"x\": \"AVERAGE STARTER\", \"xref\": \"x\", \"y\": \"DUBIOUS STARTER\", \"yref\": \"y\"}, {\"font\": {\"color\": \"#FFFFFF\"}, \"showarrow\": false, \"text\": \"\", \"x\": \"BORDERLINE ALL-STAR\", \"xref\": \"x\", \"y\": \"DUBIOUS STARTER\", \"yref\": \"y\"}, {\"font\": {\"color\": \"#FFFFFF\"}, \"showarrow\": false, \"text\": \"\", \"x\": \"FUTURE ALL-STAR\", \"xref\": \"x\", \"y\": \"DUBIOUS STARTER\", \"yref\": \"y\"}, {\"font\": {\"color\": \"#FFFFFF\"}, \"showarrow\": false, \"text\": \"\", \"x\": \"KEY ROLE PLAYER\", \"xref\": \"x\", \"y\": \"DUBIOUS STARTER\", \"yref\": \"y\"}, {\"font\": {\"color\": \"#FFFFFF\"}, \"showarrow\": false, \"text\": \"\", \"x\": \"DEFENSIVE SPECIALIST\", \"xref\": \"x\", \"y\": \"DUBIOUS STARTER\", \"yref\": \"y\"}, {\"font\": {\"color\": \"#FFFFFF\"}, \"showarrow\": false, \"text\": \"\", \"x\": \"MARGINAL PROSPECT\", \"xref\": \"x\", \"y\": \"DUBIOUS STARTER\", \"yref\": \"y\"}, {\"font\": {\"color\": \"#FFFFFF\"}, \"showarrow\": false, \"text\": \"\", \"x\": \"GOOD STARTER\", \"xref\": \"x\", \"y\": \"DUBIOUS STARTER\", \"yref\": \"y\"}, {\"font\": {\"color\": \"#FFFFFF\"}, \"showarrow\": false, \"text\": \"\", \"x\": \"GOOD PROSPECT\", \"xref\": \"x\", \"y\": \"DUBIOUS STARTER\", \"yref\": \"y\"}, {\"font\": {\"color\": \"#FFFFFF\"}, \"showarrow\": false, \"text\": \"\", \"x\": \"GREAT PROSPECT\", \"xref\": \"x\", \"y\": \"DUBIOUS STARTER\", \"yref\": \"y\"}, {\"font\": {\"color\": \"#FFFFFF\"}, \"showarrow\": false, \"text\": \"\", \"x\": \"MVP CANDIDATE\", \"xref\": \"x\", \"y\": \"DUBIOUS STARTER\", \"yref\": \"y\"}, {\"font\": {\"color\": \"#FFFFFF\"}, \"showarrow\": false, \"text\": \"4.55\", \"x\": \"PROJECT\", \"xref\": \"x\", \"y\": \"DUBIOUS STARTER\", \"yref\": \"y\"}, {\"font\": {\"color\": \"#FFFFFF\"}, \"showarrow\": false, \"text\": \"\", \"x\": \"OK PROSPECT\", \"xref\": \"x\", \"y\": \"DUBIOUS STARTER\", \"yref\": \"y\"}, {\"font\": {\"color\": \"#FFFFFF\"}, \"showarrow\": false, \"text\": \"1.657\", \"x\": \"ROTATION PLAYER\", \"xref\": \"x\", \"y\": \"DUBIOUS STARTER\", \"yref\": \"y\"}, {\"font\": {\"color\": \"#FFFFFF\"}, \"showarrow\": false, \"text\": \"\", \"x\": \"DUBIOUS STARTER\", \"xref\": \"x\", \"y\": \"DUBIOUS STARTER\", \"yref\": \"y\"}, {\"font\": {\"color\": \"#FFFFFF\"}, \"showarrow\": false, \"text\": \"\", \"x\": \"OFFENSIVE SPECIALIST\", \"xref\": \"x\", \"y\": \"DUBIOUS STARTER\", \"yref\": \"y\"}, {\"font\": {\"color\": \"#FFFFFF\"}, \"showarrow\": false, \"text\": \"1.57\", \"x\": \"SCRUB\", \"xref\": \"x\", \"y\": \"DUBIOUS STARTER\", \"yref\": \"y\"}, {\"font\": {\"color\": \"#FFFFFF\"}, \"showarrow\": false, \"text\": \"\", \"x\": \"SCRAPPY VETERAN\", \"xref\": \"x\", \"y\": \"DUBIOUS STARTER\", \"yref\": \"y\"}, {\"font\": {\"color\": \"#FFFFFF\"}, \"showarrow\": false, \"text\": \"1.04\", \"x\": \"UP-AND-COMER\", \"xref\": \"x\", \"y\": \"DUBIOUS STARTER\", \"yref\": \"y\"}, {\"font\": {\"color\": \"#FFFFFF\"}, \"showarrow\": false, \"text\": \"\", \"x\": \"ALL-STAR\", \"xref\": \"x\", \"y\": \"OFFENSIVE SPECIALIST\", \"yref\": \"y\"}, {\"font\": {\"color\": \"#FFFFFF\"}, \"showarrow\": false, \"text\": \"\", \"x\": \"AVERAGE STARTER\", \"xref\": \"x\", \"y\": \"OFFENSIVE SPECIALIST\", \"yref\": \"y\"}, {\"font\": {\"color\": \"#FFFFFF\"}, \"showarrow\": false, \"text\": \"\", \"x\": \"BORDERLINE ALL-STAR\", \"xref\": \"x\", \"y\": \"OFFENSIVE SPECIALIST\", \"yref\": \"y\"}, {\"font\": {\"color\": \"#FFFFFF\"}, \"showarrow\": false, \"text\": \"\", \"x\": \"FUTURE ALL-STAR\", \"xref\": \"x\", \"y\": \"OFFENSIVE SPECIALIST\", \"yref\": \"y\"}, {\"font\": {\"color\": \"#FFFFFF\"}, \"showarrow\": false, \"text\": \"\", \"x\": \"KEY ROLE PLAYER\", \"xref\": \"x\", \"y\": \"OFFENSIVE SPECIALIST\", \"yref\": \"y\"}, {\"font\": {\"color\": \"#FFFFFF\"}, \"showarrow\": false, \"text\": \"\", \"x\": \"DEFENSIVE SPECIALIST\", \"xref\": \"x\", \"y\": \"OFFENSIVE SPECIALIST\", \"yref\": \"y\"}, {\"font\": {\"color\": \"#FFFFFF\"}, \"showarrow\": false, \"text\": \"\", \"x\": \"MARGINAL PROSPECT\", \"xref\": \"x\", \"y\": \"OFFENSIVE SPECIALIST\", \"yref\": \"y\"}, {\"font\": {\"color\": \"#FFFFFF\"}, \"showarrow\": false, \"text\": \"\", \"x\": \"GOOD STARTER\", \"xref\": \"x\", \"y\": \"OFFENSIVE SPECIALIST\", \"yref\": \"y\"}, {\"font\": {\"color\": \"#FFFFFF\"}, \"showarrow\": false, \"text\": \"\", \"x\": \"GOOD PROSPECT\", \"xref\": \"x\", \"y\": \"OFFENSIVE SPECIALIST\", \"yref\": \"y\"}, {\"font\": {\"color\": \"#FFFFFF\"}, \"showarrow\": false, \"text\": \"\", \"x\": \"GREAT PROSPECT\", \"xref\": \"x\", \"y\": \"OFFENSIVE SPECIALIST\", \"yref\": \"y\"}, {\"font\": {\"color\": \"#FFFFFF\"}, \"showarrow\": false, \"text\": \"\", \"x\": \"MVP CANDIDATE\", \"xref\": \"x\", \"y\": \"OFFENSIVE SPECIALIST\", \"yref\": \"y\"}, {\"font\": {\"color\": \"#FFFFFF\"}, \"showarrow\": false, \"text\": \"1.75\", \"x\": \"PROJECT\", \"xref\": \"x\", \"y\": \"OFFENSIVE SPECIALIST\", \"yref\": \"y\"}, {\"font\": {\"color\": \"#FFFFFF\"}, \"showarrow\": false, \"text\": \"\", \"x\": \"OK PROSPECT\", \"xref\": \"x\", \"y\": \"OFFENSIVE SPECIALIST\", \"yref\": \"y\"}, {\"font\": {\"color\": \"#FFFFFF\"}, \"showarrow\": false, \"text\": \"3.052\", \"x\": \"ROTATION PLAYER\", \"xref\": \"x\", \"y\": \"OFFENSIVE SPECIALIST\", \"yref\": \"y\"}, {\"font\": {\"color\": \"#FFFFFF\"}, \"showarrow\": false, \"text\": \"\", \"x\": \"DUBIOUS STARTER\", \"xref\": \"x\", \"y\": \"OFFENSIVE SPECIALIST\", \"yref\": \"y\"}, {\"font\": {\"color\": \"#FFFFFF\"}, \"showarrow\": false, \"text\": \"\", \"x\": \"OFFENSIVE SPECIALIST\", \"xref\": \"x\", \"y\": \"OFFENSIVE SPECIALIST\", \"yref\": \"y\"}, {\"font\": {\"color\": \"#FFFFFF\"}, \"showarrow\": false, \"text\": \"2.649\", \"x\": \"SCRUB\", \"xref\": \"x\", \"y\": \"OFFENSIVE SPECIALIST\", \"yref\": \"y\"}, {\"font\": {\"color\": \"#FFFFFF\"}, \"showarrow\": false, \"text\": \"\", \"x\": \"SCRAPPY VETERAN\", \"xref\": \"x\", \"y\": \"OFFENSIVE SPECIALIST\", \"yref\": \"y\"}, {\"font\": {\"color\": \"#FFFFFF\"}, \"showarrow\": false, \"text\": \"\", \"x\": \"UP-AND-COMER\", \"xref\": \"x\", \"y\": \"OFFENSIVE SPECIALIST\", \"yref\": \"y\"}, {\"font\": {\"color\": \"#FFFFFF\"}, \"showarrow\": false, \"text\": \"\", \"x\": \"ALL-STAR\", \"xref\": \"x\", \"y\": \"SCRUB\", \"yref\": \"y\"}, {\"font\": {\"color\": \"#FFFFFF\"}, \"showarrow\": false, \"text\": \"\", \"x\": \"AVERAGE STARTER\", \"xref\": \"x\", \"y\": \"SCRUB\", \"yref\": \"y\"}, {\"font\": {\"color\": \"#FFFFFF\"}, \"showarrow\": false, \"text\": \"\", \"x\": \"BORDERLINE ALL-STAR\", \"xref\": \"x\", \"y\": \"SCRUB\", \"yref\": \"y\"}, {\"font\": {\"color\": \"#FFFFFF\"}, \"showarrow\": false, \"text\": \"\", \"x\": \"FUTURE ALL-STAR\", \"xref\": \"x\", \"y\": \"SCRUB\", \"yref\": \"y\"}, {\"font\": {\"color\": \"#FFFFFF\"}, \"showarrow\": false, \"text\": \"\", \"x\": \"KEY ROLE PLAYER\", \"xref\": \"x\", \"y\": \"SCRUB\", \"yref\": \"y\"}, {\"font\": {\"color\": \"#FFFFFF\"}, \"showarrow\": false, \"text\": \"\", \"x\": \"DEFENSIVE SPECIALIST\", \"xref\": \"x\", \"y\": \"SCRUB\", \"yref\": \"y\"}, {\"font\": {\"color\": \"#FFFFFF\"}, \"showarrow\": false, \"text\": \"\", \"x\": \"MARGINAL PROSPECT\", \"xref\": \"x\", \"y\": \"SCRUB\", \"yref\": \"y\"}, {\"font\": {\"color\": \"#FFFFFF\"}, \"showarrow\": false, \"text\": \"\", \"x\": \"GOOD STARTER\", \"xref\": \"x\", \"y\": \"SCRUB\", \"yref\": \"y\"}, {\"font\": {\"color\": \"#FFFFFF\"}, \"showarrow\": false, \"text\": \"\", \"x\": \"GOOD PROSPECT\", \"xref\": \"x\", \"y\": \"SCRUB\", \"yref\": \"y\"}, {\"font\": {\"color\": \"#FFFFFF\"}, \"showarrow\": false, \"text\": \"\", \"x\": \"GREAT PROSPECT\", \"xref\": \"x\", \"y\": \"SCRUB\", \"yref\": \"y\"}, {\"font\": {\"color\": \"#FFFFFF\"}, \"showarrow\": false, \"text\": \"\", \"x\": \"MVP CANDIDATE\", \"xref\": \"x\", \"y\": \"SCRUB\", \"yref\": \"y\"}, {\"font\": {\"color\": \"#FFFFFF\"}, \"showarrow\": false, \"text\": \"\", \"x\": \"PROJECT\", \"xref\": \"x\", \"y\": \"SCRUB\", \"yref\": \"y\"}, {\"font\": {\"color\": \"#FFFFFF\"}, \"showarrow\": false, \"text\": \"\", \"x\": \"OK PROSPECT\", \"xref\": \"x\", \"y\": \"SCRUB\", \"yref\": \"y\"}, {\"font\": {\"color\": \"#FFFFFF\"}, \"showarrow\": false, \"text\": \"\", \"x\": \"ROTATION PLAYER\", \"xref\": \"x\", \"y\": \"SCRUB\", \"yref\": \"y\"}, {\"font\": {\"color\": \"#FFFFFF\"}, \"showarrow\": false, \"text\": \"\", \"x\": \"DUBIOUS STARTER\", \"xref\": \"x\", \"y\": \"SCRUB\", \"yref\": \"y\"}, {\"font\": {\"color\": \"#FFFFFF\"}, \"showarrow\": false, \"text\": \"\", \"x\": \"OFFENSIVE SPECIALIST\", \"xref\": \"x\", \"y\": \"SCRUB\", \"yref\": \"y\"}, {\"font\": {\"color\": \"#FFFFFF\"}, \"showarrow\": false, \"text\": \"1.597\", \"x\": \"SCRUB\", \"xref\": \"x\", \"y\": \"SCRUB\", \"yref\": \"y\"}, {\"font\": {\"color\": \"#FFFFFF\"}, \"showarrow\": false, \"text\": \"\", \"x\": \"SCRAPPY VETERAN\", \"xref\": \"x\", \"y\": \"SCRUB\", \"yref\": \"y\"}, {\"font\": {\"color\": \"#FFFFFF\"}, \"showarrow\": false, \"text\": \"2.382\", \"x\": \"UP-AND-COMER\", \"xref\": \"x\", \"y\": \"SCRUB\", \"yref\": \"y\"}, {\"font\": {\"color\": \"#FFFFFF\"}, \"showarrow\": false, \"text\": \"\", \"x\": \"ALL-STAR\", \"xref\": \"x\", \"y\": \"SCRAPPY VETERAN\", \"yref\": \"y\"}, {\"font\": {\"color\": \"#FFFFFF\"}, \"showarrow\": false, \"text\": \"\", \"x\": \"AVERAGE STARTER\", \"xref\": \"x\", \"y\": \"SCRAPPY VETERAN\", \"yref\": \"y\"}, {\"font\": {\"color\": \"#FFFFFF\"}, \"showarrow\": false, \"text\": \"\", \"x\": \"BORDERLINE ALL-STAR\", \"xref\": \"x\", \"y\": \"SCRAPPY VETERAN\", \"yref\": \"y\"}, {\"font\": {\"color\": \"#FFFFFF\"}, \"showarrow\": false, \"text\": \"\", \"x\": \"FUTURE ALL-STAR\", \"xref\": \"x\", \"y\": \"SCRAPPY VETERAN\", \"yref\": \"y\"}, {\"font\": {\"color\": \"#FFFFFF\"}, \"showarrow\": false, \"text\": \"\", \"x\": \"KEY ROLE PLAYER\", \"xref\": \"x\", \"y\": \"SCRAPPY VETERAN\", \"yref\": \"y\"}, {\"font\": {\"color\": \"#FFFFFF\"}, \"showarrow\": false, \"text\": \"\", \"x\": \"DEFENSIVE SPECIALIST\", \"xref\": \"x\", \"y\": \"SCRAPPY VETERAN\", \"yref\": \"y\"}, {\"font\": {\"color\": \"#FFFFFF\"}, \"showarrow\": false, \"text\": \"\", \"x\": \"MARGINAL PROSPECT\", \"xref\": \"x\", \"y\": \"SCRAPPY VETERAN\", \"yref\": \"y\"}, {\"font\": {\"color\": \"#FFFFFF\"}, \"showarrow\": false, \"text\": \"\", \"x\": \"GOOD STARTER\", \"xref\": \"x\", \"y\": \"SCRAPPY VETERAN\", \"yref\": \"y\"}, {\"font\": {\"color\": \"#FFFFFF\"}, \"showarrow\": false, \"text\": \"\", \"x\": \"GOOD PROSPECT\", \"xref\": \"x\", \"y\": \"SCRAPPY VETERAN\", \"yref\": \"y\"}, {\"font\": {\"color\": \"#FFFFFF\"}, \"showarrow\": false, \"text\": \"\", \"x\": \"GREAT PROSPECT\", \"xref\": \"x\", \"y\": \"SCRAPPY VETERAN\", \"yref\": \"y\"}, {\"font\": {\"color\": \"#FFFFFF\"}, \"showarrow\": false, \"text\": \"\", \"x\": \"MVP CANDIDATE\", \"xref\": \"x\", \"y\": \"SCRAPPY VETERAN\", \"yref\": \"y\"}, {\"font\": {\"color\": \"#FFFFFF\"}, \"showarrow\": false, \"text\": \"\", \"x\": \"PROJECT\", \"xref\": \"x\", \"y\": \"SCRAPPY VETERAN\", \"yref\": \"y\"}, {\"font\": {\"color\": \"#FFFFFF\"}, \"showarrow\": false, \"text\": \"\", \"x\": \"OK PROSPECT\", \"xref\": \"x\", \"y\": \"SCRAPPY VETERAN\", \"yref\": \"y\"}, {\"font\": {\"color\": \"#FFFFFF\"}, \"showarrow\": false, \"text\": \"\", \"x\": \"ROTATION PLAYER\", \"xref\": \"x\", \"y\": \"SCRAPPY VETERAN\", \"yref\": \"y\"}, {\"font\": {\"color\": \"#FFFFFF\"}, \"showarrow\": false, \"text\": \"\", \"x\": \"DUBIOUS STARTER\", \"xref\": \"x\", \"y\": \"SCRAPPY VETERAN\", \"yref\": \"y\"}, {\"font\": {\"color\": \"#FFFFFF\"}, \"showarrow\": false, \"text\": \"\", \"x\": \"OFFENSIVE SPECIALIST\", \"xref\": \"x\", \"y\": \"SCRAPPY VETERAN\", \"yref\": \"y\"}, {\"font\": {\"color\": \"#FFFFFF\"}, \"showarrow\": false, \"text\": \"2.528\", \"x\": \"SCRUB\", \"xref\": \"x\", \"y\": \"SCRAPPY VETERAN\", \"yref\": \"y\"}, {\"font\": {\"color\": \"#FFFFFF\"}, \"showarrow\": false, \"text\": \"\", \"x\": \"SCRAPPY VETERAN\", \"xref\": \"x\", \"y\": \"SCRAPPY VETERAN\", \"yref\": \"y\"}, {\"font\": {\"color\": \"#FFFFFF\"}, \"showarrow\": false, \"text\": \"2.949\", \"x\": \"UP-AND-COMER\", \"xref\": \"x\", \"y\": \"SCRAPPY VETERAN\", \"yref\": \"y\"}, {\"font\": {\"color\": \"#FFFFFF\"}, \"showarrow\": false, \"text\": \"\", \"x\": \"ALL-STAR\", \"xref\": \"x\", \"y\": \"UP-AND-COMER\", \"yref\": \"y\"}, {\"font\": {\"color\": \"#FFFFFF\"}, \"showarrow\": false, \"text\": \"\", \"x\": \"AVERAGE STARTER\", \"xref\": \"x\", \"y\": \"UP-AND-COMER\", \"yref\": \"y\"}, {\"font\": {\"color\": \"#FFFFFF\"}, \"showarrow\": false, \"text\": \"\", \"x\": \"BORDERLINE ALL-STAR\", \"xref\": \"x\", \"y\": \"UP-AND-COMER\", \"yref\": \"y\"}, {\"font\": {\"color\": \"#FFFFFF\"}, \"showarrow\": false, \"text\": \"\", \"x\": \"FUTURE ALL-STAR\", \"xref\": \"x\", \"y\": \"UP-AND-COMER\", \"yref\": \"y\"}, {\"font\": {\"color\": \"#FFFFFF\"}, \"showarrow\": false, \"text\": \"\", \"x\": \"KEY ROLE PLAYER\", \"xref\": \"x\", \"y\": \"UP-AND-COMER\", \"yref\": \"y\"}, {\"font\": {\"color\": \"#FFFFFF\"}, \"showarrow\": false, \"text\": \"\", \"x\": \"DEFENSIVE SPECIALIST\", \"xref\": \"x\", \"y\": \"UP-AND-COMER\", \"yref\": \"y\"}, {\"font\": {\"color\": \"#FFFFFF\"}, \"showarrow\": false, \"text\": \"\", \"x\": \"MARGINAL PROSPECT\", \"xref\": \"x\", \"y\": \"UP-AND-COMER\", \"yref\": \"y\"}, {\"font\": {\"color\": \"#FFFFFF\"}, \"showarrow\": false, \"text\": \"\", \"x\": \"GOOD STARTER\", \"xref\": \"x\", \"y\": \"UP-AND-COMER\", \"yref\": \"y\"}, {\"font\": {\"color\": \"#FFFFFF\"}, \"showarrow\": false, \"text\": \"\", \"x\": \"GOOD PROSPECT\", \"xref\": \"x\", \"y\": \"UP-AND-COMER\", \"yref\": \"y\"}, {\"font\": {\"color\": \"#FFFFFF\"}, \"showarrow\": false, \"text\": \"\", \"x\": \"GREAT PROSPECT\", \"xref\": \"x\", \"y\": \"UP-AND-COMER\", \"yref\": \"y\"}, {\"font\": {\"color\": \"#FFFFFF\"}, \"showarrow\": false, \"text\": \"\", \"x\": \"MVP CANDIDATE\", \"xref\": \"x\", \"y\": \"UP-AND-COMER\", \"yref\": \"y\"}, {\"font\": {\"color\": \"#FFFFFF\"}, \"showarrow\": false, \"text\": \"\", \"x\": \"PROJECT\", \"xref\": \"x\", \"y\": \"UP-AND-COMER\", \"yref\": \"y\"}, {\"font\": {\"color\": \"#FFFFFF\"}, \"showarrow\": false, \"text\": \"\", \"x\": \"OK PROSPECT\", \"xref\": \"x\", \"y\": \"UP-AND-COMER\", \"yref\": \"y\"}, {\"font\": {\"color\": \"#FFFFFF\"}, \"showarrow\": false, \"text\": \"\", \"x\": \"ROTATION PLAYER\", \"xref\": \"x\", \"y\": \"UP-AND-COMER\", \"yref\": \"y\"}, {\"font\": {\"color\": \"#FFFFFF\"}, \"showarrow\": false, \"text\": \"\", \"x\": \"DUBIOUS STARTER\", \"xref\": \"x\", \"y\": \"UP-AND-COMER\", \"yref\": \"y\"}, {\"font\": {\"color\": \"#FFFFFF\"}, \"showarrow\": false, \"text\": \"\", \"x\": \"OFFENSIVE SPECIALIST\", \"xref\": \"x\", \"y\": \"UP-AND-COMER\", \"yref\": \"y\"}, {\"font\": {\"color\": \"#FFFFFF\"}, \"showarrow\": false, \"text\": \"\", \"x\": \"SCRUB\", \"xref\": \"x\", \"y\": \"UP-AND-COMER\", \"yref\": \"y\"}, {\"font\": {\"color\": \"#FFFFFF\"}, \"showarrow\": false, \"text\": \"\", \"x\": \"SCRAPPY VETERAN\", \"xref\": \"x\", \"y\": \"UP-AND-COMER\", \"yref\": \"y\"}, {\"font\": {\"color\": \"#FFFFFF\"}, \"showarrow\": false, \"text\": \"3.917\", \"x\": \"UP-AND-COMER\", \"xref\": \"x\", \"y\": \"UP-AND-COMER\", \"yref\": \"y\"}], \"font\": {\"family\": \"Computer Modern\"}, \"plot_bgcolor\": \"white\", \"template\": {\"data\": {\"bar\": [{\"error_x\": {\"color\": \"#2a3f5f\"}, \"error_y\": {\"color\": \"#2a3f5f\"}, \"marker\": {\"line\": {\"color\": \"#E5ECF6\", \"width\": 0.5}}, \"type\": \"bar\"}], \"barpolar\": [{\"marker\": {\"line\": {\"color\": \"#E5ECF6\", \"width\": 0.5}}, \"type\": \"barpolar\"}], \"carpet\": [{\"aaxis\": {\"endlinecolor\": \"#2a3f5f\", \"gridcolor\": \"white\", \"linecolor\": \"white\", \"minorgridcolor\": \"white\", \"startlinecolor\": \"#2a3f5f\"}, \"baxis\": {\"endlinecolor\": \"#2a3f5f\", \"gridcolor\": \"white\", \"linecolor\": \"white\", \"minorgridcolor\": \"white\", \"startlinecolor\": \"#2a3f5f\"}, \"type\": \"carpet\"}], \"choropleth\": [{\"colorbar\": {\"outlinewidth\": 0, \"ticks\": \"\"}, \"type\": \"choropleth\"}], \"contour\": [{\"colorbar\": {\"outlinewidth\": 0, \"ticks\": \"\"}, \"colorscale\": [[0.0, \"#0d0887\"], [0.1111111111111111, \"#46039f\"], [0.2222222222222222, \"#7201a8\"], [0.3333333333333333, \"#9c179e\"], [0.4444444444444444, \"#bd3786\"], [0.5555555555555556, \"#d8576b\"], [0.6666666666666666, \"#ed7953\"], [0.7777777777777778, \"#fb9f3a\"], [0.8888888888888888, \"#fdca26\"], [1.0, \"#f0f921\"]], \"type\": \"contour\"}], \"contourcarpet\": [{\"colorbar\": {\"outlinewidth\": 0, \"ticks\": \"\"}, \"type\": \"contourcarpet\"}], \"heatmap\": [{\"colorbar\": {\"outlinewidth\": 0, \"ticks\": \"\"}, \"colorscale\": [[0.0, \"#0d0887\"], [0.1111111111111111, \"#46039f\"], [0.2222222222222222, \"#7201a8\"], [0.3333333333333333, \"#9c179e\"], [0.4444444444444444, \"#bd3786\"], [0.5555555555555556, \"#d8576b\"], [0.6666666666666666, \"#ed7953\"], [0.7777777777777778, \"#fb9f3a\"], [0.8888888888888888, \"#fdca26\"], [1.0, \"#f0f921\"]], \"type\": \"heatmap\"}], \"heatmapgl\": [{\"colorbar\": {\"outlinewidth\": 0, \"ticks\": \"\"}, \"colorscale\": [[0.0, \"#0d0887\"], [0.1111111111111111, \"#46039f\"], [0.2222222222222222, \"#7201a8\"], [0.3333333333333333, \"#9c179e\"], [0.4444444444444444, \"#bd3786\"], [0.5555555555555556, \"#d8576b\"], [0.6666666666666666, \"#ed7953\"], [0.7777777777777778, \"#fb9f3a\"], [0.8888888888888888, \"#fdca26\"], [1.0, \"#f0f921\"]], \"type\": \"heatmapgl\"}], \"histogram\": [{\"marker\": {\"colorbar\": {\"outlinewidth\": 0, \"ticks\": \"\"}}, \"type\": \"histogram\"}], \"histogram2d\": [{\"colorbar\": {\"outlinewidth\": 0, \"ticks\": \"\"}, \"colorscale\": [[0.0, \"#0d0887\"], [0.1111111111111111, \"#46039f\"], [0.2222222222222222, \"#7201a8\"], [0.3333333333333333, \"#9c179e\"], [0.4444444444444444, \"#bd3786\"], [0.5555555555555556, \"#d8576b\"], [0.6666666666666666, \"#ed7953\"], [0.7777777777777778, \"#fb9f3a\"], [0.8888888888888888, \"#fdca26\"], [1.0, \"#f0f921\"]], \"type\": \"histogram2d\"}], \"histogram2dcontour\": [{\"colorbar\": {\"outlinewidth\": 0, \"ticks\": \"\"}, \"colorscale\": [[0.0, \"#0d0887\"], [0.1111111111111111, \"#46039f\"], [0.2222222222222222, \"#7201a8\"], [0.3333333333333333, \"#9c179e\"], [0.4444444444444444, \"#bd3786\"], [0.5555555555555556, \"#d8576b\"], [0.6666666666666666, \"#ed7953\"], [0.7777777777777778, \"#fb9f3a\"], [0.8888888888888888, \"#fdca26\"], [1.0, \"#f0f921\"]], \"type\": \"histogram2dcontour\"}], \"mesh3d\": [{\"colorbar\": {\"outlinewidth\": 0, \"ticks\": \"\"}, \"type\": \"mesh3d\"}], \"parcoords\": [{\"line\": {\"colorbar\": {\"outlinewidth\": 0, \"ticks\": \"\"}}, \"type\": \"parcoords\"}], \"pie\": [{\"automargin\": true, \"type\": \"pie\"}], \"scatter\": [{\"marker\": {\"colorbar\": {\"outlinewidth\": 0, \"ticks\": \"\"}}, \"type\": \"scatter\"}], \"scatter3d\": [{\"line\": {\"colorbar\": {\"outlinewidth\": 0, \"ticks\": \"\"}}, \"marker\": {\"colorbar\": {\"outlinewidth\": 0, \"ticks\": \"\"}}, \"type\": \"scatter3d\"}], \"scattercarpet\": [{\"marker\": {\"colorbar\": {\"outlinewidth\": 0, \"ticks\": \"\"}}, \"type\": \"scattercarpet\"}], \"scattergeo\": [{\"marker\": {\"colorbar\": {\"outlinewidth\": 0, \"ticks\": \"\"}}, \"type\": \"scattergeo\"}], \"scattergl\": [{\"marker\": {\"colorbar\": {\"outlinewidth\": 0, \"ticks\": \"\"}}, \"type\": \"scattergl\"}], \"scattermapbox\": [{\"marker\": {\"colorbar\": {\"outlinewidth\": 0, \"ticks\": \"\"}}, \"type\": \"scattermapbox\"}], \"scatterpolar\": [{\"marker\": {\"colorbar\": {\"outlinewidth\": 0, \"ticks\": \"\"}}, \"type\": \"scatterpolar\"}], \"scatterpolargl\": [{\"marker\": {\"colorbar\": {\"outlinewidth\": 0, \"ticks\": \"\"}}, \"type\": \"scatterpolargl\"}], \"scatterternary\": [{\"marker\": {\"colorbar\": {\"outlinewidth\": 0, \"ticks\": \"\"}}, \"type\": \"scatterternary\"}], \"surface\": [{\"colorbar\": {\"outlinewidth\": 0, \"ticks\": \"\"}, \"colorscale\": [[0.0, \"#0d0887\"], [0.1111111111111111, \"#46039f\"], [0.2222222222222222, \"#7201a8\"], [0.3333333333333333, \"#9c179e\"], [0.4444444444444444, \"#bd3786\"], [0.5555555555555556, \"#d8576b\"], [0.6666666666666666, \"#ed7953\"], [0.7777777777777778, \"#fb9f3a\"], [0.8888888888888888, \"#fdca26\"], [1.0, \"#f0f921\"]], \"type\": \"surface\"}], \"table\": [{\"cells\": {\"fill\": {\"color\": \"#EBF0F8\"}, \"line\": {\"color\": \"white\"}}, \"header\": {\"fill\": {\"color\": \"#C8D4E3\"}, \"line\": {\"color\": \"white\"}}, \"type\": \"table\"}]}, \"layout\": {\"annotationdefaults\": {\"arrowcolor\": \"#2a3f5f\", \"arrowhead\": 0, \"arrowwidth\": 1}, \"autotypenumbers\": \"strict\", \"coloraxis\": {\"colorbar\": {\"outlinewidth\": 0, \"ticks\": \"\"}}, \"colorscale\": {\"diverging\": [[0, \"#8e0152\"], [0.1, \"#c51b7d\"], [0.2, \"#de77ae\"], [0.3, \"#f1b6da\"], [0.4, \"#fde0ef\"], [0.5, \"#f7f7f7\"], [0.6, \"#e6f5d0\"], [0.7, \"#b8e186\"], [0.8, \"#7fbc41\"], [0.9, \"#4d9221\"], [1, \"#276419\"]], \"sequential\": [[0.0, \"#0d0887\"], [0.1111111111111111, \"#46039f\"], [0.2222222222222222, \"#7201a8\"], [0.3333333333333333, \"#9c179e\"], [0.4444444444444444, \"#bd3786\"], [0.5555555555555556, \"#d8576b\"], [0.6666666666666666, \"#ed7953\"], [0.7777777777777778, \"#fb9f3a\"], [0.8888888888888888, \"#fdca26\"], [1.0, \"#f0f921\"]], \"sequentialminus\": [[0.0, \"#0d0887\"], [0.1111111111111111, \"#46039f\"], [0.2222222222222222, \"#7201a8\"], [0.3333333333333333, \"#9c179e\"], [0.4444444444444444, \"#bd3786\"], [0.5555555555555556, \"#d8576b\"], [0.6666666666666666, \"#ed7953\"], [0.7777777777777778, \"#fb9f3a\"], [0.8888888888888888, \"#fdca26\"], [1.0, \"#f0f921\"]]}, \"colorway\": [\"#636efa\", \"#EF553B\", \"#00cc96\", \"#ab63fa\", \"#FFA15A\", \"#19d3f3\", \"#FF6692\", \"#B6E880\", \"#FF97FF\", \"#FECB52\"], \"font\": {\"color\": \"#2a3f5f\"}, \"geo\": {\"bgcolor\": \"white\", \"lakecolor\": \"white\", \"landcolor\": \"#E5ECF6\", \"showlakes\": true, \"showland\": true, \"subunitcolor\": \"white\"}, \"hoverlabel\": {\"align\": \"left\"}, \"hovermode\": \"closest\", \"mapbox\": {\"style\": \"light\"}, \"paper_bgcolor\": \"white\", \"plot_bgcolor\": \"#E5ECF6\", \"polar\": {\"angularaxis\": {\"gridcolor\": \"white\", \"linecolor\": \"white\", \"ticks\": \"\"}, \"bgcolor\": \"#E5ECF6\", \"radialaxis\": {\"gridcolor\": \"white\", \"linecolor\": \"white\", \"ticks\": \"\"}}, \"scene\": {\"xaxis\": {\"backgroundcolor\": \"#E5ECF6\", \"gridcolor\": \"white\", \"gridwidth\": 2, \"linecolor\": \"white\", \"showbackground\": true, \"ticks\": \"\", \"zerolinecolor\": \"white\"}, \"yaxis\": {\"backgroundcolor\": \"#E5ECF6\", \"gridcolor\": \"white\", \"gridwidth\": 2, \"linecolor\": \"white\", \"showbackground\": true, \"ticks\": \"\", \"zerolinecolor\": \"white\"}, \"zaxis\": {\"backgroundcolor\": \"#E5ECF6\", \"gridcolor\": \"white\", \"gridwidth\": 2, \"linecolor\": \"white\", \"showbackground\": true, \"ticks\": \"\", \"zerolinecolor\": \"white\"}}, \"shapedefaults\": {\"line\": {\"color\": \"#2a3f5f\"}}, \"ternary\": {\"aaxis\": {\"gridcolor\": \"white\", \"linecolor\": \"white\", \"ticks\": \"\"}, \"baxis\": {\"gridcolor\": \"white\", \"linecolor\": \"white\", \"ticks\": \"\"}, \"bgcolor\": \"#E5ECF6\", \"caxis\": {\"gridcolor\": \"white\", \"linecolor\": \"white\", \"ticks\": \"\"}}, \"title\": {\"x\": 0.05}, \"xaxis\": {\"automargin\": true, \"gridcolor\": \"white\", \"linecolor\": \"white\", \"ticks\": \"\", \"title\": {\"standoff\": 15}, \"zerolinecolor\": \"white\", \"zerolinewidth\": 2}, \"yaxis\": {\"automargin\": true, \"gridcolor\": \"white\", \"linecolor\": \"white\", \"ticks\": \"\", \"title\": {\"standoff\": 15}, \"zerolinecolor\": \"white\", \"zerolinewidth\": 2}}}, \"title\": {\"font\": {\"family\": \"Computer Modern\"}}, \"xaxis\": {\"autorange\": \"reversed\", \"dtick\": 1, \"gridcolor\": \"rgb(0, 0, 0)\", \"showgrid\": false, \"side\": \"top\", \"tickangle\": 45, \"ticks\": \"\"}, \"yaxis\": {\"autorange\": \"reversed\", \"dtick\": 1, \"showgrid\": false, \"ticks\": \"\", \"ticksuffix\": \"  \"}},                        {\"responsive\": true}                    ).then(function(){\n",
       "                            \n",
       "var gd = document.getElementById('6880c9eb-a0c8-48d6-bfbb-7ad678805afc');\n",
       "var x = new MutationObserver(function (mutations, observer) {{\n",
       "        var display = window.getComputedStyle(gd).display;\n",
       "        if (!display || display === 'none') {{\n",
       "            console.log([gd, 'removed!']);\n",
       "            Plotly.purge(gd);\n",
       "            observer.disconnect();\n",
       "        }}\n",
       "}});\n",
       "\n",
       "// Listen for the removal of the full notebook cells\n",
       "var notebookContainer = gd.closest('#notebook-container');\n",
       "if (notebookContainer) {{\n",
       "    x.observe(notebookContainer, {childList: true});\n",
       "}}\n",
       "\n",
       "// Listen for the clearing of the current output cell\n",
       "var outputEl = gd.closest('.output');\n",
       "if (outputEl) {{\n",
       "    x.observe(outputEl, {childList: true});\n",
       "}}\n",
       "\n",
       "                        })                };                });            </script>        </div>"
      ]
     },
     "metadata": {},
     "output_type": "display_data"
    }
   ],
   "source": [
    "## Appendix A - Figure 11\n",
    "synergyPivot  = finalSynergy.pivot_table(index='Archetype 1', \n",
    "                    columns='Archetype 2', \n",
    "                    values='Synergy')\n",
    "synergyPivot\n",
    "idx2nan = {}\n",
    "for idx,row in synergyPivot.iterrows():\n",
    "#     print(sum(row))\n",
    "#     print(sum(np.isnan(row)))\n",
    "    idx2nan[idx] = sum(np.isnan(row))\n",
    "colOrder = [k for k, v in sorted(idx2nan.items(), key=lambda item: item[1])]\n",
    "synergyPivot = synergyPivot[colOrder]\n",
    "synergyPivot = synergyPivot.reindex(colOrder)\n",
    "\n",
    "z_text = []\n",
    "\n",
    "for q, arr in enumerate(synergyPivot.values):\n",
    "    z_text.append([str(h) if ~np.isnan(h) else \"\" for h in arr])\n",
    "\n",
    "fig = ff.create_annotated_heatmap(synergyPivot.values, x=colOrder, y=colOrder,annotation_text=z_text,showscale=True, colorscale='oxy')\n",
    "fig.update_xaxes(showgrid=False)\n",
    "fig.update_yaxes(showgrid=False)\n",
    "fig['layout'].update(plot_bgcolor='white')\n",
    "fig['layout']['yaxis']['autorange'] = \"reversed\"\n",
    "fig['layout']['xaxis']['autorange'] = \"reversed\"\n",
    "font_ = \"Computer Modern\"\n",
    "fig.update_xaxes(tickangle=45)\n",
    "fig.update_layout(\n",
    "    font_family=font_,\n",
    "    title_font_family=font_,\n",
    ")\n",
    "fig.show()"
   ]
  },
  {
   "cell_type": "markdown",
   "id": "every-hearing",
   "metadata": {},
   "source": [
    "## Predict Draftee Values\n",
    "\n",
    "data from https://www.basketball-reference.com/draft/NBA_{yr}.html\n",
    "\n",
    "where yr == 2001-2020"
   ]
  },
  {
   "cell_type": "code",
   "execution_count": 41,
   "id": "medieval-council",
   "metadata": {},
   "outputs": [],
   "source": [
    "masterDraft = pd.read_csv('masterDraft.csv')\n",
    "\n",
    "stat = 'WS/48'\n",
    "dftRes = masterDraft.groupby('Pk').mean()[stat].reset_index()\n",
    "shift = abs(dftRes[stat].min())\n",
    "dftRes['shift'] = dftRes[stat] + shift + 1\n",
    "\n",
    "x = dftRes['Pk']\n",
    "y = dftRes[stat]"
   ]
  },
  {
   "cell_type": "code",
   "execution_count": 42,
   "id": "cordless-sierra",
   "metadata": {},
   "outputs": [
    {
     "data": {
      "text/plain": [
       "{'polynomial': [-3.7602667708170493e-07,\n",
       "  4.3426787437222226e-05,\n",
       "  -0.002590974341123658,\n",
       "  0.10382855662540115],\n",
       " 'determination': 0.43578622599882494}"
      ]
     },
     "execution_count": 42,
     "metadata": {},
     "output_type": "execute_result"
    }
   ],
   "source": [
    "## estimate ws draft curve\n",
    "def polyfit(x, y, degree):\n",
    "    results = {}\n",
    "\n",
    "    coeffs = np.polyfit(x, y, degree)\n",
    "\n",
    "     # Polynomial Coefficients\n",
    "    results['polynomial'] = coeffs.tolist()\n",
    "\n",
    "    # r-squared\n",
    "    p = np.poly1d(coeffs)\n",
    "    # fit values, and mean\n",
    "    yhat = p(x)                         # or [p(z) for z in x]\n",
    "    ybar = np.sum(y)/len(y)          # or sum(y)/len(y)\n",
    "    ssreg = np.sum((yhat-ybar)**2)   # or sum([ (yihat - ybar)**2 for yihat in yhat])\n",
    "    sstot = np.sum((y - ybar)**2)    # or sum([ (yi - ybar)**2 for yi in y])\n",
    "    results['determination'] = ssreg / sstot\n",
    "\n",
    "    return results\n",
    "\n",
    "#print(polyfit(x,y,3))\n",
    "\n",
    "a,b,c,d = np.poly1d(np.polyfit(x, y, 3))\n",
    "def poly_func(x,a,b,c,d):\n",
    "    return a*x**3 + b*x**2 + c*x + d\n",
    "## final model, r^2 0.4358\n",
    "polyfit(x,y,3)"
   ]
  },
  {
   "cell_type": "code",
   "execution_count": 48,
   "id": "utility-departure",
   "metadata": {},
   "outputs": [],
   "source": [
    "## when using this function to calculate WS, \n",
    "## matching with 2020 draftees, estimate salary, \n",
    "## results in following draftee df\n",
    "draft_df = pd.read_csv('masterDFT538.csv')\n",
    "draft_df.drop(columns='Unnamed: 0', inplace=True)"
   ]
  },
  {
   "cell_type": "markdown",
   "id": "charged-colonial",
   "metadata": {},
   "source": [
    "## master data \n",
    "\n",
    "gathered from https://projects.fivethirtyeight.com/2020-nba-player-projections/ and https://www.basketball-reference.com/leagues/NBA_2020_advanced.html"
   ]
  },
  {
   "cell_type": "code",
   "execution_count": 50,
   "id": "confident-progress",
   "metadata": {},
   "outputs": [],
   "source": [
    "## master data\n",
    "master_df = pd.read_csv('masterData538.csv')"
   ]
  },
  {
   "cell_type": "markdown",
   "id": "proof-davis",
   "metadata": {},
   "source": [
    "## Optimization\n",
    "\n",
    "draft_df and master_df were used to create .dat files\n",
    "\n",
    "model in cooperativeTrade.mod"
   ]
  },
  {
   "cell_type": "code",
   "execution_count": 55,
   "id": "heated-voice",
   "metadata": {},
   "outputs": [],
   "source": [
    "# ## programs written by John Cox & Jamie Grymes at Colorado School of Mines\n",
    "# # to save, read, and plot AMPL solutions\n",
    "from amplpy import AMPL, Environment\n",
    "from exportAMPL import *\n",
    "from plotAMPL import *\n",
    "# ############## if wanting to recreate solves ##############\n",
    "\n",
    "# # actual == initial case study, actual willingness\n",
    "# # indifferent == all zero\n",
    "# # rand1 == three teams\n",
    "# # rand2 == preference to actual team but indifferent between next 3\n",
    "# # rand3 == completely random\n",
    "\n",
    "# sensitivityScenario = ['_indifferent', '_rand1', '_rand2', '_rand3']\n",
    "# ampStrings = ['_minus20', '_minus10', '_plus10', '_plus20']\n",
    "# # for scene in sensitivityScenario:\n",
    "# for scene in ['Actual']+ampStrings+sensitivityScenario:\n",
    "# #     textStr = f'cooperativeMod_538_fa_{scene}' \n",
    "#     textStr = f'cooperativeMod_538_fa{scene}'\n",
    "#     modFile = 'cooperativeTradeFix.mod'\n",
    "#     optStr = 'oneHour_mipfocus1'\n",
    "#     datFile = f'gameTheory_{textStr}.dat'\n",
    "\n",
    "#     solFile = f'/resfiles/{textStr}_{optStr}.sol'\n",
    "#     logFile = f'/logfiles/{textStr}_{optStr}.txt'\n",
    "\n",
    "#     options = f\"option gurobi_options 'logfile {logFile} mipfocus 1 timelim 3600';\"\n",
    "\n",
    "#     ampl = AMPL()\n",
    "#     ampl.read(modFile)\n",
    "#     ampl.readData(datFile)\n",
    "#     ampl.eval('option solver gurobi;')\n",
    "#     ampl.eval(options)\n",
    "#     ampl.solve()\n",
    "#     sol = saveSolution(ampl,  solFile)\n",
    "#     ampl.close()"
   ]
  },
  {
   "cell_type": "code",
   "execution_count": 57,
   "id": "falling-share",
   "metadata": {},
   "outputs": [],
   "source": [
    "############## else if reading in solutions ##############\n",
    "sensitivityScenario = ['_indifferent', '_rand1', '_rand2', '_rand3']\n",
    "ampStrings = ['_minus20', '_minus10', '_plus10', '_plus20']\n",
    "allScenarios = ['Actual']+ampStrings+sensitivityScenario\n",
    "allSols = []\n",
    "for scene in allScenarios:\n",
    "#     textStr = f'cooperativeMod_538_fa_{scene}' \n",
    "    textStr = f'cooperativeMod_538_fa{scene}'\n",
    "    modFile = 'cooperativeTrade.mod'\n",
    "    optStr = 'oneHour_mipfocus1'\n",
    "    datFile = f'gameTheory_{textStr}.dat'\n",
    "\n",
    "    solFile = f'{textStr}_{optStr}.sol'\n",
    "    sol = loadSolution(solFile)\n",
    "    allSols.append(sol)"
   ]
  },
  {
   "cell_type": "markdown",
   "id": "cosmetic-kitty",
   "metadata": {},
   "source": [
    "### begin analysis ###"
   ]
  },
  {
   "cell_type": "code",
   "execution_count": 59,
   "id": "further-marsh",
   "metadata": {},
   "outputs": [],
   "source": [
    "# original teams\n",
    "set_C = {}\n",
    "for t in sol.T:\n",
    "    for pid in sol.C[t].values[0].values:\n",
    "        try:\n",
    "            set_C[t].append(pid)\n",
    "        except:\n",
    "            set_C[t] = [pid]\n",
    "            \n",
    "historybref20 = historybref[(historybref.Season=='2019-20')]\n",
    "def getTeamVal_fromActual_orig(df,team):\n",
    "    temp = df[(df.Tm==team)]\n",
    "    boole = temp.pid.isin(pid2clust)\n",
    "    temp = temp[boole]\n",
    "    v = round(np.mean(temp['WS/48']*100),3)\n",
    "    return v\n",
    "\n",
    "# # synergy \n",
    "TAG_orig = {}\n",
    "SYN_orig = {}\n",
    "VAL_orig = {}\n",
    "for team,lineup in set_C.items():\n",
    "    lineup_clust = [pid2clust[p] for p in lineup]\n",
    "    tempDict = Counter(lineup_clust)\n",
    "    TAG_orig[team] = {k:v for k,v in tempDict.items() if v!=0}\n",
    "    SYN_orig[team] = returnSynergy(TAG_orig[team])\n",
    "    VAL_orig[team] = getTeamVal_fromActual_orig(historybref20,team)\n",
    "\n",
    "origDF = pd.DataFrame(columns=['team', 'origSynergy', 'origVal'])\n",
    "origDF['team'] = VAL_orig.keys()\n",
    "origDF['origSynergy'] = origDF['team'].copy().replace(SYN_orig)\n",
    "origDF['origVal'] = origDF['team'].copy().replace(VAL_orig)"
   ]
  },
  {
   "cell_type": "code",
   "execution_count": null,
   "id": "distributed-ceremony",
   "metadata": {},
   "outputs": [],
   "source": [
    "# get params from model \n",
    "v = pd.DataFrame(sol.v.reset_index())\n",
    "pid2v = dict(zip(v['C_'],v['v'])) # pid to indy val, v\n",
    "\n",
    "## changes based on scenario\n",
    "# z = pd.DataFrame(sol.z.reset_index())\n",
    "# pidTm2z = dict(zip(zip(z['F_'],z['T']),z['z'])) # (pid,tm) to pref, z\n",
    "\n",
    "vBar = pd.DataFrame(sol.vBar.reset_index())\n",
    "pid2vBar = dict(zip(vBar['S_'],vBar['vBar'])) # pid 2 econ val, vBar\n",
    "\n",
    "m = pd.DataFrame(sol.m.reset_index())\n",
    "pid2m = dict(zip(m['C_'],m['m'])) # pid 2 econ val, vBar"
   ]
  },
  {
   "cell_type": "code",
   "execution_count": null,
   "id": "backed-aaron",
   "metadata": {},
   "outputs": [],
   "source": [
    "### free agent perspective ###\n",
    "correctFA = {}\n",
    "allTemps = {}\n",
    "for IDX,sol in enumerate(allSols):\n",
    "\n",
    "    z = pd.DataFrame(sol.z.reset_index())\n",
    "    pidTm2z = dict(zip(zip(z['F_'],z['T']),z['z'])) # (pid,tm) to pref, z\n",
    "\n",
    "    ## where do free agents go? and what are their preferences\n",
    "    tempFA = pd.DataFrame(sol.X[(sol.X!=0)]).reset_index()#.replace(pid2name)\n",
    "    tempFA.columns = ['from', 'to', 'player', 'X']\n",
    "    tempFA = tempFA[(tempFA['from']=='i_f')]\n",
    "    tempFA['pref'] = np.nan\n",
    "    for idx, row in tempFA.iterrows():\n",
    "        tup = (row['player'], row['to'])\n",
    "        tempFA.loc[idx,'pref'] = pidTm2z[tup]\n",
    "    tempFA['actual'] = np.nan\n",
    "    for idx, row in tempFA.iterrows():\n",
    "        tempFA.loc[idx,'actual'] = pid2actual[row['player']]\n",
    "    allTemps[allScenarios[IDX]] = tempFA\n",
    "    numFAcorrect = sum(tempFA['to'] == tempFA['actual'])\n",
    "    correctFA[IDX] = tempFA[(tempFA['to'] == tempFA['actual'])].replace(pid2name)\n",
    "    print(f'In scenario {allScenarios[IDX]}, there were {numFAcorrect} correct free agent assignments (out of {tempFA.shape[0]}).')\n",
    "    \n",
    "correctFAlist = []\n",
    "for key,DF in correctFA.items():\n",
    "    correctFAlist.extend(list(DF['player'].unique()))\n",
    "display(Counter(correctFAlist))\n"
   ]
  },
  {
   "cell_type": "code",
   "execution_count": null,
   "id": "peripheral-immune",
   "metadata": {},
   "outputs": [],
   "source": [
    "## for free agent discussion in sensitivity analysis\n",
    "for key,tempFA in allTemps.items():\n",
    "    if 'rand' in key:\n",
    "        print(f'Scenario {key}:\\nAvg Pref: {np.mean(tempFA.pref):.3f}, std Pref: {np.std(tempFA.pref):.3f}, Total Pref (obj): {sum(tempFA.pref):.3f}')\n",
    "        display(tempFA.value_counts('pref'))\n"
   ]
  },
  {
   "cell_type": "code",
   "execution_count": null,
   "id": "proper-investigation",
   "metadata": {},
   "outputs": [],
   "source": [
    "## for draft analysis\n",
    "minError, maxError, avgError, stdError = [],[],[],[]\n",
    "errorDist = []\n",
    "# for IDX,sol in enumerate(allSols):\n",
    "sol = allSols[3]\n",
    "tempDFT = pd.DataFrame(sol.Y[(sol.Y!=0)]).reset_index()\n",
    "tempDFT.columns = ['Team', 'pid', 'ModelDraftNumber', 'Y']\n",
    "tempDFT['Player'] = tempDFT['pid'].replace(pid2playerDft)\n",
    "tempDFT['ActualDraftNumber'] = tempDFT['pid']+1\n",
    "tempDFT['Error'] = tempDFT['ActualDraftNumber'] - tempDFT['ModelDraftNumber']\n",
    "minError_, maxError_, avgError_, stdError_ = abs(tempDFT['Error']).min(), abs(tempDFT['Error']).max(), abs(tempDFT['Error']).mean(), abs(tempDFT['Error']).std()\n",
    "minError.append(minError_)\n",
    "maxError.append(maxError_)\n",
    "avgError.append(avgError_)\n",
    "stdError.append(stdError_)\n",
    "errorDist.append(tempDFT.sort_values(by='ActualDraftNumber')['Error']) # sorted by actual\n",
    "    "
   ]
  },
  {
   "cell_type": "code",
   "execution_count": null,
   "id": "liable-chile",
   "metadata": {},
   "outputs": [],
   "source": [
    "## Appendix B - Table 6\n",
    "print(tempDFT[['Player', 'ModelDraftNumber', 'ActualDraftNumber']].sort_values(by='ModelDraftNumber').to_latex(index=False))"
   ]
  },
  {
   "cell_type": "code",
   "execution_count": null,
   "id": "collected-miniature",
   "metadata": {},
   "outputs": [],
   "source": [
    "## Table 4 - Draft Results Sensitivity Analysis\n",
    "# show distribution of errors for draft positions\n",
    "for IDX,sol in enumerate(allSols):\n",
    "    minError, maxError, avgError, stdError = [],[],[],[]\n",
    "    errorDist = []\n",
    "    # for IDX,sol in enumerate(allSols):\n",
    "\n",
    "    tempDFT = pd.DataFrame(sol.Y[(sol.Y!=0)]).reset_index()\n",
    "    tempDFT.columns = ['Team', 'pid', 'ModelDraftNumber', 'Y']\n",
    "    tempDFT['Player'] = tempDFT['pid'].replace(pid2playerDft)\n",
    "    tempDFT['ActualDraftNumber'] = tempDFT['pid']+1\n",
    "    tempDFT['Error'] = tempDFT['ActualDraftNumber'] - tempDFT['ModelDraftNumber']\n",
    "    minError_, maxError_, avgError_, stdError_ = tempDFT['Error'].min(), abs(tempDFT['Error']).max(), tempDFT['Error'].mean(), abs(np.std(tempDFT['Error']))#.std()\n",
    "    minError.append(minError_)\n",
    "    maxError.append(maxError_)\n",
    "    avgError.append(avgError_)\n",
    "    stdError.append(stdError_)\n",
    "    errorDist.append(tempDFT.sort_values(by='ActualDraftNumber')['Error']) # sorted by actual\n",
    "\n",
    "#     fig = go.Figure()\n",
    "#     for idx,dist in enumerate(errorDist):\n",
    "#         # visualize\n",
    "#         fig.add_trace(go.Box(y=dist,boxmean=True,#'sd' \n",
    "#                              name='',marker_color='lightseagreen'))\n",
    "\n",
    "#     fig.update_layout(showlegend=False,\n",
    "#                      font=dict(family=\"Computer Modern\",size=14),\n",
    "#                      title = f'Draft Error {allScenarios[IDX]}')\n",
    "\n",
    "#     fig.show()\n",
    "    print(f'{allScenarios[IDX]}: {minError_, maxError_, avgError_, stdError_}')"
   ]
  },
  {
   "cell_type": "code",
   "execution_count": null,
   "id": "piano-scholarship",
   "metadata": {},
   "outputs": [],
   "source": [
    "## calculations\n",
    "## get all results for solutions\n",
    "master_allTeamGroupResults = {}\n",
    "for IDX, sol in enumerate(allSols):\n",
    "    allTeamGroupResults = {}\n",
    "    Xdf = pd.DataFrame(sol.X).reset_index()\n",
    "    Xdf.columns = ['from', 'to', 'player', 'status']\n",
    "    for team in Xdf.to.unique():\n",
    "        tmList = Xdf[((Xdf['from']==team)&(Xdf['status']==0))|((Xdf['to']==team)&(Xdf['status']==1))]['player'].unique()\n",
    "        tmList = [pid2clust[pid] for pid in tmList]\n",
    "        #         count = Counter(pd.DataFrame(tmList).replace(pid2clust)[0])\n",
    "        try:\n",
    "            allTeamGroupResults[team].extend(tmList)\n",
    "        except:\n",
    "            allTeamGroupResults[team] = list(tmList)\n",
    "    master_allTeamGroupResults[allScenarios[IDX]] = allTeamGroupResults\n",
    "    \n",
    "    \n",
    "master_teamAvgGroups = {}\n",
    "for scene in allScenarios:\n",
    "    allTeamGroupResults = master_allTeamGroupResults[scene]\n",
    "    ## count on average (distribution) of clusters per team\n",
    "    teamAvgGroups = {} # team: cluster distribution\n",
    "    for team in allTeams:\n",
    "        tempDict = Counter(allTeamGroupResults[team])\n",
    "        teamAvgGroups[team] = {k:v  for k,v in tempDict.items()} # round for scenarios round(v/30)\n",
    "\n",
    "    ## remove zeros\n",
    "    teamAvgGroups_copy = {}\n",
    "    for team in allTeams:\n",
    "        for key,val in teamAvgGroups[team].items():\n",
    "            if val == 0:\n",
    "                continue\n",
    "            else:\n",
    "                try:\n",
    "                    teamAvgGroups_copy[team][key] = val\n",
    "                except:\n",
    "                    teamAvgGroups_copy[team] = {key:val}  \n",
    "    master_teamAvgGroups[scene] = teamAvgGroups_copy\n",
    "                \n",
    "# get b param vals\n",
    "b_syn = {}\n",
    "for g1 in sol.G_:\n",
    "    for g2 in sol.G_:\n",
    "        if g1 > g2:\n",
    "            continue\n",
    "        g1Name = gpname1920[g1]\n",
    "        g2Name = gpname1920[g2]\n",
    "        b_syn[(g1Name,g2Name)] = sol.b_synergy[g1,g2]\n",
    "        \n",
    "# create function to calculate average synergy, given lineup\n",
    "def returnSynergy(lineup):\n",
    "#     print(lineup)\n",
    "    val = 0\n",
    "    for g1,g2 in list(combinations(lineup,2)):\n",
    "        if g1 == g2:\n",
    "            val -= (1/b_syn[(g1,g1)])*np.exp(lineup[g1])\n",
    "        elif (g1,g2) in b_syn:\n",
    "            val += b_syn[(g1,g2)]*np.log((lineup[g1]+1)*(lineup[g2]+1))\n",
    "        else:\n",
    "            val += b_syn[(g2,g1)]*np.log((lineup[g1]+1)*(lineup[g2]+1))\n",
    "            \n",
    "                \n",
    "#         try:\n",
    "#             val += b_syn[(g1,g2)]\n",
    "#         except:\n",
    "#             try:\n",
    "#                 val += b_syn[(g2,g1)]\n",
    "#             except:\n",
    "#                 continue\n",
    "    return round(val/len(lineup),3)\n",
    "\n",
    "# create dict of team to avg synergy\n",
    "master_teamSyn = {}\n",
    "for scene in allScenarios:\n",
    "    tag = master_teamAvgGroups[scene]\n",
    "    teamSyn = {}\n",
    "    for team in allTeams:\n",
    "        teamSyn[team] = returnSynergy(tag[team])   \n",
    "    master_teamSyn[scene] = teamSyn\n",
    "\n",
    "## calculate team value from sol\n",
    "def getTeamVal_fromSol(solution,team):\n",
    "    # DRAFT\n",
    "    tempDFT = pd.DataFrame(solution.Y[(solution.Y!=0)]).reset_index()\n",
    "    tempDFT.columns = ['Team', 'pid', 'ModelDraftNumber', 'Y']\n",
    "    vals = list(tempDFT[(tempDFT.Team==team)]['pid'].replace(pid2v))\n",
    "    \n",
    "    # TRADE + FA\n",
    "    tempMV = pd.DataFrame(solution.X[(solution.X!=0)]).reset_index()#.replace(pid2name)\n",
    "    tempMV.columns = ['from', 'to', 'pid', 'X']\n",
    "    vals.extend(tempMV[(tempMV.to==team)]['pid'].replace(pid2v))\n",
    "\n",
    "    return round(np.mean(vals),3)\n",
    "\n",
    "## calculate team val, synergy from actual (historybref)\n",
    "historybref21 = historybref[(historybref.Season=='2020-21')]\n",
    "def getTeamVal_fromActual(df,team):\n",
    "    temp = df[(df.Tm==team)]\n",
    "    boole = temp.pid.isin(pid2clust)\n",
    "    temp = temp[boole]\n",
    "    v = round(np.mean(temp['WS/48']*100),3)\n",
    "    lineup = temp.pid.replace(pid2clust)\n",
    "    s = returnSynergy(Counter(lineup))\n",
    "    return v,s\n",
    "\n",
    "objFcnVals = {} # just individual val, synergy calculated separately\n",
    "holder = {}\n",
    "for sol in allSols:\n",
    "    for TM in allTeams:\n",
    "        try:\n",
    "            holder[TM].extend([getTeamVal_fromSol(sol,TM)])\n",
    "        except:\n",
    "            holder[TM] = [getTeamVal_fromSol(sol,TM)]\n",
    "for TM in allTeams:\n",
    "    objFcnVals[TM] = round(np.mean(holder[TM]),2)\n",
    "            "
   ]
  },
  {
   "cell_type": "code",
   "execution_count": null,
   "id": "buried-finger",
   "metadata": {},
   "outputs": [],
   "source": [
    "comparisonDF = pd.DataFrame(columns=['team', 'model_v', 'actual_v', 'model_syn', 'actual_syn', 'scenario'])\n",
    "for TM,vals in holder.items():\n",
    "    for IDX,scene in enumerate(allScenarios):\n",
    "#     print(TM)\n",
    "        v = vals[IDX]\n",
    "        s = master_teamSyn[scene][TM]\n",
    "        v_prime,s_prime = getTeamVal_fromActual(historybref21,TM)\n",
    "\n",
    "        comparisonDF = comparisonDF.append({\n",
    "            'team':TM, 'model_v':v, 'actual_v':v_prime, 'model_syn':s, 'actual_syn':s_prime, 'scenario':scene\n",
    "        },ignore_index=True)\n",
    "\n",
    "    \n",
    "comparisonDF.head() "
   ]
  },
  {
   "cell_type": "code",
   "execution_count": null,
   "id": "confident-venice",
   "metadata": {},
   "outputs": [],
   "source": [
    "order = ['Case Study', \n",
    "         r'$\\mathbf{z}^\\text{zero}$',r'$\\mathbf{z}^\\text{top3}$',r'$\\mathbf{z}^\\text{top4}$',\n",
    "        r'$\\mathbf{z}^\\text{rand}$',r'$\\mathbf{r}^\\text{-20}$',r'$\\mathbf{r}^\\text{-10}$',\n",
    "         r'$\\mathbf{r}^\\text{+10}$',r'$\\mathbf{r}^\\text{+20}$'\n",
    "        ]\n",
    "\n",
    "allScenarios_replace = {\n",
    "    'Actual': 'Case Study',\n",
    " '_minus20': r'$\\mathbf{r}^\\text{-20}$',\n",
    " '_minus10': r'$\\mathbf{r}^\\text{-10}$',\n",
    " '_plus10': r'$\\mathbf{r}^\\text{+10}$',\n",
    " '_plus20': r'$\\mathbf{r}^\\text{+20}$',\n",
    " '_indifferent': r'$\\mathbf{z}^\\text{zero}$',\n",
    " '_rand1': r'$\\mathbf{z}^\\text{top3}$',\n",
    " '_rand2': r'$\\mathbf{z}^\\text{top4}$',\n",
    " '_rand3': r'$\\mathbf{z}^\\text{rand}$'\n",
    "}"
   ]
  },
  {
   "cell_type": "code",
   "execution_count": null,
   "id": "global-oasis",
   "metadata": {},
   "outputs": [],
   "source": [
    "comparisonDF = comparisonDF.replace(allScenarios_replace)"
   ]
  },
  {
   "cell_type": "code",
   "execution_count": null,
   "id": "challenging-reform",
   "metadata": {},
   "outputs": [],
   "source": [
    "## Figures 8 and 9 \n",
    "fig = go.Figure()\n",
    "fig.add_trace(go.Box(y=comparisonDF.actual_v,name='2019-20'))\n",
    "\n",
    "\n",
    "fig.add_trace(go.Box(y=comparisonDF.model_v,x=comparisonDF.scenario))\n",
    "\n",
    "fig.add_trace(go.Box(y=origDF.origVal,name='2020-21'))\n",
    "\n",
    "fig.update_layout(showlegend=False,\n",
    "                 font=dict(family=\"Computer Modern\",size=14),\n",
    "                 title = 'Average Individual Value',\n",
    "                  yaxis_title='Win Shares',\n",
    "                 boxmode='group')\n",
    "fig.update_xaxes(categoryorder='array', categoryarray= order)\n",
    "fig.show()\n",
    "\n",
    "fig = go.Figure()\n",
    "# fig.add_trace(go.Histogram(x=comparisonDF.model_syn))\n",
    "fig.add_trace(go.Box(y=comparisonDF.actual_syn,name='2019-20'))\n",
    "fig.add_trace(go.Box(y=comparisonDF.model_syn,x=comparisonDF.scenario))\n",
    "\n",
    "fig.add_trace(go.Box(y=origDF.origSynergy,name='2020-21'))\n",
    "\n",
    "fig.update_layout(showlegend=False,\n",
    "                 font=dict(family=\"Computer Modern\",size=14),\n",
    "                 title = 'Average Synergy Value',\n",
    "                  yaxis_title='Positive Interactions',\n",
    "                 boxmode='group')\n",
    "fig.update_xaxes(categoryorder='array', categoryarray= order)\n",
    "fig.show()"
   ]
  },
  {
   "cell_type": "code",
   "execution_count": null,
   "id": "eastern-replication",
   "metadata": {},
   "outputs": [],
   "source": [
    "## added for sensitivity analysis, just make table of comparisons \n",
    "sensitivity = pd.DataFrame(columns=['scenario', 'v model', 'v actual', 'synergy model', 'synergy actual'])\n",
    "for scene in comparisonDF.scenario.unique():\n",
    "    temp = comparisonDF[(comparisonDF.scenario==scene)]\n",
    "    modv = np.mean(temp.model_v)\n",
    "    actv = np.mean(temp.actual_v)\n",
    "    modsyn = np.mean(temp.model_syn)\n",
    "    actsyn = np.mean(temp.actual_syn)\n",
    "    sensitivity = sensitivity.append({\n",
    "        'scenario':scene, 'v model':modv, 'v actual':actv, 'synergy model':modsyn, 'synergy actual':actsyn},\n",
    "        ignore_index=True)\n",
    "    \n",
    "sensitivity['v%'] = (sensitivity['v model']-sensitivity['v actual'])/sensitivity['v actual']\n",
    "sensitivity['syn%'] = (sensitivity['synergy model']-sensitivity['synergy actual'])/sensitivity['synergy actual']\n"
   ]
  },
  {
   "cell_type": "code",
   "execution_count": null,
   "id": "extra-seminar",
   "metadata": {},
   "outputs": [],
   "source": [
    "## Figure 7\n",
    "trd = sensitivity.loc[1:4]\n",
    "\n",
    "fig = go.Figure()\n",
    "fig = fig.add_trace(go.Scatter(x=trd['scenario'], y=trd['v%']*100,name='individual value',marker_color='rgba(152, 0, 0, .8)'))\n",
    "fig = fig.add_trace(go.Scatter(x=trd['scenario'], y=trd['syn%']*100,name='synergy',marker_color='rgba(260, 199, 0, 1)'))\n",
    "\n",
    "fig.update_layout(font=dict(family=\"Computer Modern\",size=14),\n",
    "                  yaxis_title='Percent Improvement',\n",
    "                  xaxis_title='Scenario',\n",
    "                  title='League-Wide Average Improvement'\n",
    "                 )\n",
    "\n",
    "fig.show()"
   ]
  },
  {
   "cell_type": "code",
   "execution_count": null,
   "id": "professional-merchandise",
   "metadata": {},
   "outputs": [],
   "source": [
    "## calculate team val, synergy from actual (historybref)\n",
    "historybref21 = historybref[(historybref.Season=='2020-21')]\n",
    "def getEconVal_actual(df,team): # Tm, pid\n",
    "    temp = df[(df['Tm']==team)]\n",
    "    lineup = set(temp['pid'])\n",
    "    SSlineup = [pid2vBar[i] for i in lineup if i in pid2vBar]\n",
    "    count = len(SSlineup)\n",
    "    eVal = sum(SSlineup)\n",
    "    return count,eVal\n",
    "\n",
    "Xdf = pd.DataFrame(sol.X).reset_index()\n",
    "Xdf.columns = ['from', 'to', 'player', 'status']\n",
    "def getEconVal_model(Xdf,team): # player\n",
    "    temp = Xdf[((Xdf['from']==team)&(Xdf['status']==0))|((Xdf['to']==team)&(Xdf['status']==1))]\n",
    "    lineup = set(temp['player'])\n",
    "    SSlineup = [pid2vBar[i] for i in lineup if i in pid2vBar]\n",
    "    count = len(SSlineup)\n",
    "    eVal = sum(SSlineup)\n",
    "    return count,eVal\n",
    "\n",
    "masterEcon = {}\n",
    "for IDX,sol in enumerate(allSols):\n",
    "    Xdf = pd.DataFrame(sol.X).reset_index()\n",
    "    Xdf.columns = ['from', 'to', 'player', 'status']\n",
    "    econDF = pd.DataFrame()\n",
    "    for i,team in enumerate(allTeams):\n",
    "        _,yActual = getEconVal_actual(historybref21,team)\n",
    "        _,yModel = getEconVal_model(Xdf,team)\n",
    "    #     print(f'{team} {yActual} {yModel}')\n",
    "        econDF = econDF.append({'team':team,'actualEcon':yActual,'modelEcon':yModel},ignore_index=True)\n",
    "    masterEcon[IDX] = econDF\n"
   ]
  },
  {
   "cell_type": "code",
   "execution_count": null,
   "id": "humanitarian-trial",
   "metadata": {},
   "outputs": [],
   "source": [
    "## economic values plots ##\n",
    "for IDX in masterEcon:\n",
    "#     fig = go.Figure()\n",
    "    tempDF = masterEcon[IDX]\n",
    "    \n",
    "    fig = go.Figure(data=[\n",
    "        go.Bar(name='Before Optimal', x=tempDF.team, y=tempDF.actualEcon,opacity=0.8),\n",
    "        go.Bar(name='Optimal', x=tempDF.team, y=tempDF.modelEcon,opacity=0.5), #offset = 0.000005,\n",
    "    ])\n",
    "    mean1 = np.mean(tempDF.actualEcon)\n",
    "    fig.add_shape(\n",
    "            go.layout.Shape(\n",
    "                type=\"line\",\n",
    "                x0=-.5,\n",
    "                y0=mean1,\n",
    "                x1=len(tempDF.actualEcon)-.5,\n",
    "                y1=mean1,\n",
    "                line=dict(\n",
    "                    color=\"blue\",\n",
    "                    width=4,\n",
    "#                     dash=\"dash\",\n",
    "                ),\n",
    "        ))\n",
    "\n",
    "    mean2 = np.mean(tempDF.modelEcon)\n",
    "    fig.add_shape(\n",
    "            go.layout.Shape(\n",
    "                type=\"line\",\n",
    "                x0=-.5,\n",
    "                y0=mean2,\n",
    "                x1=len(tempDF.modelEcon)-.5,\n",
    "                y1=mean2,\n",
    "                line=dict(\n",
    "                    color=\"orange\",\n",
    "                    width=4,\n",
    "#                     dash=\"dash\"\n",
    "                ),\n",
    "        ))\n",
    "\n",
    "    if allScenarios[IDX] == 'Actual':\n",
    "        titleStr = ''\n",
    "    else:\n",
    "        titleStr = f', Scenario {allScenarios[IDX]}'\n",
    "    fig.update_layout(font=dict(family=\"Computer Modern\",size=14),\n",
    "                      yaxis_title='Average Value',\n",
    "                      title=f'Economic Value Results {titleStr}'\n",
    "    #                   showlegend=False,\n",
    "    #                   margin_b=150\n",
    "    #                  xaxis={'categoryorder':'total descending'}\n",
    "                     )\n",
    "    fig.update_xaxes(\n",
    "        tickangle=45,\n",
    "    )\n",
    "    fig.show()\n",
    "    print((mean2-mean1)/mean1)"
   ]
  },
  {
   "cell_type": "code",
   "execution_count": null,
   "id": "determined-steering",
   "metadata": {},
   "outputs": [],
   "source": [
    "## value plots ## (only grab the values from here)\n",
    "for scene in comparisonDF.scenario.unique():\n",
    "#     fig = go.Figure()\n",
    "    tempDF = comparisonDF[(comparisonDF.scenario==scene)]\n",
    "    \n",
    "    fig = go.Figure(data=[\n",
    "        go.Bar(name='Before Optimal', x=tempDF.team, y=tempDF.actual_v,opacity=0.8),\n",
    "        go.Bar(name='Optimal', x=tempDF.team, y=tempDF.model_v,opacity=0.5), #offset = 0.000005,\n",
    "    ])\n",
    "    mean1 = np.mean(tempDF.actual_v)\n",
    "    fig.add_shape(\n",
    "            go.layout.Shape(\n",
    "                type=\"line\",\n",
    "                x0=-.5,\n",
    "                y0=mean1,\n",
    "                x1=len(tempDF.actual_v)-.5,\n",
    "                y1=mean1,\n",
    "                line=dict(\n",
    "                    color=\"blue\",\n",
    "                    width=4,\n",
    "#                     dash=\"dash\",\n",
    "                ),\n",
    "        ))\n",
    "\n",
    "    mean2 = np.mean(tempDF.model_v)\n",
    "    fig.add_shape(\n",
    "            go.layout.Shape(\n",
    "                type=\"line\",\n",
    "                x0=-.5,\n",
    "                y0=mean2,\n",
    "                x1=len(tempDF.model_v)-.5,\n",
    "                y1=mean2,\n",
    "                line=dict(\n",
    "                    color=\"orange\",\n",
    "                    width=4,\n",
    "#                     dash=\"dash\"\n",
    "                ),\n",
    "        ))\n",
    "\n",
    "    if scene == 'Actual':\n",
    "        titleStr = ''\n",
    "    else:\n",
    "        titleStr = f', Scenario {scene}'\n",
    "    fig.update_layout(font=dict(family=\"Computer Modern\",size=14),\n",
    "                      yaxis_title='Average Value',\n",
    "                      title=f'Individual Value Results {titleStr}'\n",
    "    #                   showlegend=False,\n",
    "    #                   margin_b=150\n",
    "    #                  xaxis={'categoryorder':'total descending'}\n",
    "                     )\n",
    "    fig.update_xaxes(\n",
    "        tickangle=45,\n",
    "    )\n",
    "    fig.show()\n",
    "    print((mean2-mean1)/mean1)"
   ]
  },
  {
   "cell_type": "code",
   "execution_count": null,
   "id": "primary-wireless",
   "metadata": {},
   "outputs": [],
   "source": [
    "## synergy plots ## (only grab the values from here)\n",
    "for scene in comparisonDF.scenario.unique():\n",
    "#     fig = go.Figure()\n",
    "    tempDF = comparisonDF[(comparisonDF.scenario==scene)]\n",
    "    \n",
    "    fig = go.Figure(data=[\n",
    "        go.Bar(name='Before Optimal', x=tempDF.team, y=tempDF.actual_syn,opacity=0.8),\n",
    "        go.Bar(name='Optimal', x=tempDF.team, y=tempDF.model_syn,opacity=0.5), #offset = 0.000005,\n",
    "    ])\n",
    "    mean1 = np.mean(tempDF.actual_syn)\n",
    "    fig.add_shape(\n",
    "            go.layout.Shape(\n",
    "                type=\"line\",\n",
    "                x0=-.5,\n",
    "                y0=mean1,\n",
    "                x1=len(tempDF.actual_syn)-.5,\n",
    "                y1=mean1,\n",
    "                line=dict(\n",
    "                    color=\"blue\",\n",
    "                    width=4,\n",
    "#                     dash=\"dash\",\n",
    "                ),\n",
    "        ))\n",
    "\n",
    "    mean2 = np.mean(tempDF.model_syn)\n",
    "    fig.add_shape(\n",
    "            go.layout.Shape(\n",
    "                type=\"line\",\n",
    "                x0=-.5,\n",
    "                y0=mean2,\n",
    "                x1=len(tempDF.model_syn)-.5,\n",
    "                y1=mean2,\n",
    "                line=dict(\n",
    "                    color=\"orange\",\n",
    "                    width=4,\n",
    "#                     dash=\"dash\"\n",
    "                ),\n",
    "        ))\n",
    "\n",
    "    if scene == 'Actual':\n",
    "        titleStr = ''\n",
    "    else:\n",
    "        titleStr = f', Scenario {scene}'\n",
    "    fig.update_layout(font=dict(family=\"Computer Modern\",size=14),\n",
    "                      yaxis_title='Average Value',\n",
    "                      title=f'Synergy Value Results {titleStr}'\n",
    "    #                   showlegend=False,\n",
    "    #                   margin_b=150\n",
    "    #                  xaxis={'categoryorder':'total descending'}\n",
    "                     )\n",
    "    fig.update_xaxes(\n",
    "        tickangle=45,\n",
    "    )\n",
    "    fig.show()\n",
    "    print((mean2-mean1)/mean1)"
   ]
  },
  {
   "cell_type": "code",
   "execution_count": null,
   "id": "synthetic-forty",
   "metadata": {},
   "outputs": [],
   "source": [
    "## Table 5 - Trade Results Sensitivity Analysis\n",
    "## check trades for fairness scenarios\n",
    "fairnessScenarios = allScenarios[:5]\n",
    "for IDX,scene in enumerate(fairnessScenarios):\n",
    "    sol = allSols[IDX]\n",
    "    trades = pd.DataFrame(sol.X[(sol.X==1)]).reset_index()\n",
    "    trades.columns = ['from_team', 'to_team', 'player', 'X']\n",
    "    trades = trades[(trades.from_team!='i_f')]\n",
    "    oneWay = list(zip(trades.from_team,trades.to_team))\n",
    "    otherWay = list(zip(trades.to_team,trades.from_team))\n",
    "    tempTrades = pd.DataFrame([oneWay,otherWay]).T\n",
    "    tempTrades.columns=['front','back']\n",
    "    tradeList = {}\n",
    "    for trade in tempTrades.front.unique():\n",
    "        tradeList[trade] = tempTrades[(tempTrades.front==trade)|(tempTrades.back==trade)].index.values\n",
    "\n",
    "\n",
    "    differencesV = {}\n",
    "    differencesM = {}\n",
    "    for key in tradeList:\n",
    "        temp = trades.loc[tradeList[key]].replace(pid2v)\n",
    "        from_val = temp.loc[temp['from_team'] == key[0], 'player'].sum()\n",
    "        to_val = temp.loc[temp['from_team'] == key[1], 'player'].sum()\n",
    "        differencesV[key] = abs(from_val-to_val) #abs\n",
    "        temp = trades.loc[tradeList[key]].replace(pid2m)\n",
    "        from_mon = temp.loc[temp['from_team'] == key[0], 'player'].sum()\n",
    "        to_mon = temp.loc[temp['from_team'] == key[1], 'player'].sum()\n",
    "        differencesM[key] = abs(from_mon-to_mon) #abs\n",
    "    print(f'------------------\\n{scene}\\n------------------')\n",
    "    print(f'Value: {allSols[IDX].rv}')\n",
    "    print(pd.DataFrame([differencesV.values()]).T.describe(),'\\n')\n",
    "    print(f'Money: {allSols[IDX].rm}')\n",
    "    print(pd.DataFrame([differencesM.values()]).T.describe(),'\\n')"
   ]
  },
  {
   "cell_type": "code",
   "execution_count": null,
   "id": "authorized-livestock",
   "metadata": {},
   "outputs": [],
   "source": [
    "## Figure 3 -- Competitive Balance Results\n",
    "fig = go.Figure()\n",
    "fig.add_trace(go.Bar(x=minmax['j in T'],y=minmax['ub'],name='Before Optimal',opacity=0.8))\n",
    "fig.add_trace(go.Bar(x=minmax['j in T'],y=minmax['rhs'],name='Optimal',opacity=0.5))\n",
    "zval = minmax['lhs'].unique()[0]\n",
    "fig.add_shape(\n",
    "        go.layout.Shape(\n",
    "            type=\"line\",\n",
    "            x0=-.5,\n",
    "            y0=zval,\n",
    "            x1=len(minmax['j in T'])-.5,\n",
    "            y1=zval,\n",
    "            line=dict(\n",
    "                color=\"black\",\n",
    "                width=4,\n",
    "            ),\n",
    "    ))\n",
    "fig.add_trace(go.Scatter(x=[''],y=[''],name=r'$Z$',marker=dict(color='black')))\n",
    "fig.update_layout(font=dict(family=\"Computer Modern\",size=14),\n",
    "                  yaxis_title='Max-Min Constraint Value',\n",
    "                  title=f'Competitive Balance Results'\n",
    "                 )\n",
    "fig.update_xaxes(\n",
    "    tickangle=45,\n",
    ")\n",
    "fig.show()"
   ]
  },
  {
   "cell_type": "code",
   "execution_count": null,
   "id": "russian-richardson",
   "metadata": {},
   "outputs": [],
   "source": [
    "## percentage Improvements over Z (min team value)\n",
    "for IDX,sol in enumerate(allSols):\n",
    "    minmax = sol.coop1.reset_index()\n",
    "    minmax['diff'] = minmax['rhs']-minmax['ub']\n",
    "    print(allScenarios[IDX],(sol.Z.values[0]-min(minmax['ub']))/min(minmax['ub']))"
   ]
  },
  {
   "cell_type": "code",
   "execution_count": null,
   "id": "interesting-flight",
   "metadata": {},
   "outputs": [],
   "source": [
    "# Figure 2 (Trade Counts by Group) -- plus all scenario results for discussion\n",
    "for scene in allScenarios:\n",
    "#     print(scene,':\\n',Counter(tradeDict[scene].replace(pid2clust).pid),'\\n')\n",
    "    dist = Counter(tradeDict[scene].replace(pid2clust).pid)\n",
    "    fig = go.Figure()\n",
    "    fig.add_trace(go.Bar(y=list(dist.keys()),x=list(dist.values()),orientation='h',marker_color='navy',\n",
    "                        text=list(dist.values()),textposition='auto',textangle = 0,\n",
    "                        ))\n",
    "    fig.update_layout(yaxis={'automargin':True,'categoryorder':'total descending'})\n",
    "    fig.update_layout(font=dict(family=\"Computer Modern\",size=14),\n",
    "                      xaxis_title='Count',\n",
    "                      title=f'Number of Trades by Group {allScenarios_replace[scene]}'\n",
    "    #                   showlegend=False,\n",
    "    #                   margin_b=150\n",
    "    #                  xaxis={'categoryorder':'total descending'}\n",
    "                     )\n",
    "    fig.show()"
   ]
  },
  {
   "cell_type": "code",
   "execution_count": null,
   "id": "everyday-equivalent",
   "metadata": {},
   "outputs": [],
   "source": []
  }
 ],
 "metadata": {
  "kernelspec": {
   "display_name": "Python 3",
   "language": "python",
   "name": "python3"
  },
  "language_info": {
   "codemirror_mode": {
    "name": "ipython",
    "version": 3
   },
   "file_extension": ".py",
   "mimetype": "text/x-python",
   "name": "python",
   "nbconvert_exporter": "python",
   "pygments_lexer": "ipython3",
   "version": "3.6.9"
  }
 },
 "nbformat": 4,
 "nbformat_minor": 5
}
